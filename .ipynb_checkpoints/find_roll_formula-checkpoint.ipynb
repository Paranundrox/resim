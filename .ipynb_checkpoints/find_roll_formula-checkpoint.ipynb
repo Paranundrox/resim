{
 "cells": [
  {
   "cell_type": "code",
   "execution_count": 1,
   "metadata": {
    "pycharm": {
     "name": "#%%\n"
    }
   },
   "outputs": [],
   "source": [
    "import glob\n",
    "\n",
    "import pandas as pd\n",
    "import matplotlib.pyplot as plt\n",
    "from matplotlib.markers import CARETLEFTBASE, CARETRIGHTBASE\n",
    "\n",
    "all_files = glob.glob(\"roll_data/*-strikes.csv\")\n",
    "\n",
    "df = pd.concat((pd.read_csv(f) for f in all_files), ignore_index=True)"
   ]
  },
  {
   "cell_type": "code",
   "execution_count": 2,
   "metadata": {
    "pycharm": {
     "name": "#%%\n"
    }
   },
   "outputs": [
    {
     "data": {
      "text/plain": [
       "<matplotlib.legend.Legend at 0x7fedd8ac4b80>"
      ]
     },
     "execution_count": 2,
     "metadata": {},
     "output_type": "execute_result"
    },
    {
     "data": {
      "image/png": "[encoded data removed]",
      "text/plain": [
       "<Figure size 432x288 with 1 Axes>"
      ]
     },
     "metadata": {
      "needs_background": "light"
     },
     "output_type": "display_data"
    }
   ],
   "source": [
    "df['svc'] = 0.3211245789789706 * df[\"pitcher_ruthlessness\"] + 0.2712052747280908 * df[\"ballpark_forwardness\"]\n",
    "df['batter_strikeattr'] = df['batter_moxie'] * ~df['passed'] + df['batter_patheticism'] * df['passed']\n",
    "df['ruth_and_fwd'] = df['pitcher_ruthlessness'] - 0.5 * df['ballpark_forwardness']\n",
    "df['ruth_and_fwd'] = df['pitcher_ruthlessness'] - 0.5 * df['ballpark_forwardness']\n",
    "\n",
    "df = df[(df[\"batting_team_hype\"] == 0) & (df['pitching_team_hype'] == 0)]\n",
    "\n",
    "x_val = \"batter_strikeattr\"\n",
    "fig, ax = plt.subplots(1)\n",
    "ax.scatter(df[~df['passed']][x_val], df[~df['passed']][\"roll\"] - 0.35 * df[~df['passed']][\"pitcher_ruthlessness\"] - 0.35, color=\"red\", label=\"Balls\", marker=CARETLEFTBASE)\n",
    "ax.scatter(df[df['passed']][x_val], df[df['passed']][\"roll\"] - 0.35 * df[df['passed']][\"pitcher_ruthlessness\"] - 0.35, color=\"blue\", label=\"Strikes\", marker=CARETRIGHTBASE)\n",
    "ax.set_xlabel(x_val)\n",
    "ax.set_ylabel('roll minus ruth')\n",
    "ax.legend()\n",
    "\n",
    "# endpoints = np.array(ax.get_xlim())\n",
    "# ax.plot(endpoints, 0.35 + 0.35 * endpoints)"
   ]
  },
  {
   "cell_type": "code",
   "execution_count": 3,
   "metadata": {
    "pycharm": {
     "name": "#%%\n"
    }
   },
   "outputs": [
    {
     "data": {
      "text/html": [
       "<div>\n",
       "<style scoped>\n",
       "    .dataframe tbody tr th:only-of-type {\n",
       "        vertical-align: middle;\n",
       "    }\n",
       "\n",
       "    .dataframe tbody tr th {\n",
       "        vertical-align: top;\n",
       "    }\n",
       "\n",
       "    .dataframe thead th {\n",
       "        text-align: right;\n",
       "    }\n",
       "</style>\n",
       "<table border=\"1\" class=\"dataframe\">\n",
       "  <thead>\n",
       "    <tr style=\"text-align: right;\">\n",
       "      <th></th>\n",
       "      <th>pitcher_ruthlessness</th>\n",
       "      <th>pitcher_name</th>\n",
       "    </tr>\n",
       "  </thead>\n",
       "  <tbody>\n",
       "    <tr>\n",
       "      <th>37</th>\n",
       "      <td>0.104391</td>\n",
       "      <td>Simba Davis</td>\n",
       "    </tr>\n",
       "    <tr>\n",
       "      <th>5987</th>\n",
       "      <td>0.109610</td>\n",
       "      <td>Simba Davis</td>\n",
       "    </tr>\n",
       "    <tr>\n",
       "      <th>2319</th>\n",
       "      <td>0.131158</td>\n",
       "      <td>Flattery McKinley</td>\n",
       "    </tr>\n",
       "    <tr>\n",
       "      <th>1035</th>\n",
       "      <td>0.159708</td>\n",
       "      <td>Persephone Splotter</td>\n",
       "    </tr>\n",
       "    <tr>\n",
       "      <th>7223</th>\n",
       "      <td>0.204305</td>\n",
       "      <td>Persephone Splotter</td>\n",
       "    </tr>\n",
       "    <tr>\n",
       "      <th>...</th>\n",
       "      <td>...</td>\n",
       "      <td>...</td>\n",
       "    </tr>\n",
       "    <tr>\n",
       "      <th>424</th>\n",
       "      <td>1.619261</td>\n",
       "      <td>Greer Lott</td>\n",
       "    </tr>\n",
       "    <tr>\n",
       "      <th>3288</th>\n",
       "      <td>1.706202</td>\n",
       "      <td>Beasley Gloom</td>\n",
       "    </tr>\n",
       "    <tr>\n",
       "      <th>710</th>\n",
       "      <td>1.821669</td>\n",
       "      <td>Greer Lott</td>\n",
       "    </tr>\n",
       "    <tr>\n",
       "      <th>3422</th>\n",
       "      <td>1.876822</td>\n",
       "      <td>Beasley Gloom</td>\n",
       "    </tr>\n",
       "    <tr>\n",
       "      <th>787</th>\n",
       "      <td>2.024077</td>\n",
       "      <td>Greer Lott</td>\n",
       "    </tr>\n",
       "  </tbody>\n",
       "</table>\n",
       "<p>138 rows × 2 columns</p>\n",
       "</div>"
      ],
      "text/plain": [
       "      pitcher_ruthlessness         pitcher_name\n",
       "37                0.104391          Simba Davis\n",
       "5987              0.109610          Simba Davis\n",
       "2319              0.131158    Flattery McKinley\n",
       "1035              0.159708  Persephone Splotter\n",
       "7223              0.204305  Persephone Splotter\n",
       "...                    ...                  ...\n",
       "424               1.619261           Greer Lott\n",
       "3288              1.706202        Beasley Gloom\n",
       "710               1.821669           Greer Lott\n",
       "3422              1.876822        Beasley Gloom\n",
       "787               2.024077           Greer Lott\n",
       "\n",
       "[138 rows x 2 columns]"
      ]
     },
     "execution_count": 3,
     "metadata": {},
     "output_type": "execute_result"
    }
   ],
   "source": [
    "df.groupby('pitcher_ruthlessness').head(1)[['pitcher_ruthlessness', 'pitcher_name']].sort_values('pitcher_ruthlessness')"
   ]
  },
  {
   "cell_type": "code",
   "execution_count": 4,
   "metadata": {
    "pycharm": {
     "name": "#%%\n"
    }
   },
   "outputs": [
    {
     "data": {
      "text/plain": [
       "batter_name    pitcher_name    \n",
       "--e- --varado  Beasley Gloom        8\n",
       "               Bright Zimmerman    13\n",
       "               Cornelius Games      9\n",
       "               Inky Rutledge        4\n",
       "               Logan Rodriguez      7\n",
       "                                   ..\n",
       "Ziwa Mueller   Finn James           6\n",
       "               Leach Ingram         2\n",
       "               Oscar Vaughan        4\n",
       "               Simba Davis         15\n",
       "               Winnie Hess          2\n",
       "Length: 1386, dtype: int64"
      ]
     },
     "execution_count": 4,
     "metadata": {},
     "output_type": "execute_result"
    }
   ],
   "source": [
    "df.groupby(['batter_name', 'pitcher_name']).size()"
   ]
  },
  {
   "cell_type": "code",
   "execution_count": 5,
   "metadata": {
    "pycharm": {
     "name": "#%%\n"
    }
   },
   "outputs": [
    {
     "name": "stderr",
     "output_type": "stream",
     "text": [
      "/var/folders/g5/scl2096539l75kwsbhhq4pth0000gn/T/ipykernel_15193/4016361128.py:1: FutureWarning: In a future version of pandas all arguments of DataFrame.drop except for the argument 'labels' will be keyword-only\n",
      "  X = df[['roll', *df.columns[5:-3]]].drop('pitcher_name', 1)\n"
     ]
    }
   ],
   "source": [
    "X = df[['roll', *df.columns[5:-3]]].drop('pitcher_name', 1)\n",
    "y = df['passed']"
   ]
  },
  {
   "cell_type": "code",
   "execution_count": 6,
   "metadata": {
    "pycharm": {
     "name": "#%%\n"
    }
   },
   "outputs": [
    {
     "data": {
      "text/html": [
       "<div>\n",
       "<style scoped>\n",
       "    .dataframe tbody tr th:only-of-type {\n",
       "        vertical-align: middle;\n",
       "    }\n",
       "\n",
       "    .dataframe tbody tr th {\n",
       "        vertical-align: top;\n",
       "    }\n",
       "\n",
       "    .dataframe thead th {\n",
       "        text-align: right;\n",
       "    }\n",
       "</style>\n",
       "<table border=\"1\" class=\"dataframe\">\n",
       "  <thead>\n",
       "    <tr style=\"text-align: right;\">\n",
       "      <th></th>\n",
       "      <th>roll</th>\n",
       "      <th>batter_buoyancy</th>\n",
       "      <th>batter_divinity</th>\n",
       "      <th>batter_martyrdom</th>\n",
       "      <th>batter_moxie</th>\n",
       "      <th>batter_musclitude</th>\n",
       "      <th>batter_patheticism</th>\n",
       "      <th>batter_thwackability</th>\n",
       "      <th>batter_tragicness</th>\n",
       "      <th>pitcher_ruthlessness</th>\n",
       "      <th>...</th>\n",
       "      <th>ballpark_ominousness</th>\n",
       "      <th>ballpark_inconvenience</th>\n",
       "      <th>ballpark_viscosity</th>\n",
       "      <th>ballpark_forwardness</th>\n",
       "      <th>ballpark_mysticism</th>\n",
       "      <th>ballpark_elongation</th>\n",
       "      <th>batting_team_hype</th>\n",
       "      <th>pitching_team_hype</th>\n",
       "      <th>batter_vibes</th>\n",
       "      <th>pitcher_vibes</th>\n",
       "    </tr>\n",
       "  </thead>\n",
       "  <tbody>\n",
       "    <tr>\n",
       "      <th>0</th>\n",
       "      <td>0.970532</td>\n",
       "      <td>0.843691</td>\n",
       "      <td>0.951609</td>\n",
       "      <td>1.191140</td>\n",
       "      <td>1.099834</td>\n",
       "      <td>1.064446</td>\n",
       "      <td>0.490344</td>\n",
       "      <td>0.526535</td>\n",
       "      <td>0.001000</td>\n",
       "      <td>0.731703</td>\n",
       "      <td>...</td>\n",
       "      <td>0.470335</td>\n",
       "      <td>0.426239</td>\n",
       "      <td>0.342355</td>\n",
       "      <td>0.536745</td>\n",
       "      <td>0.504129</td>\n",
       "      <td>0.442981</td>\n",
       "      <td>0</td>\n",
       "      <td>0</td>\n",
       "      <td>-0.152472</td>\n",
       "      <td>-0.264691</td>\n",
       "    </tr>\n",
       "    <tr>\n",
       "      <th>1</th>\n",
       "      <td>0.383835</td>\n",
       "      <td>0.858400</td>\n",
       "      <td>1.049192</td>\n",
       "      <td>0.510142</td>\n",
       "      <td>0.502847</td>\n",
       "      <td>0.553971</td>\n",
       "      <td>0.511392</td>\n",
       "      <td>0.458695</td>\n",
       "      <td>0.060000</td>\n",
       "      <td>0.574806</td>\n",
       "      <td>...</td>\n",
       "      <td>0.492195</td>\n",
       "      <td>0.495179</td>\n",
       "      <td>0.481398</td>\n",
       "      <td>0.431228</td>\n",
       "      <td>0.379607</td>\n",
       "      <td>0.596597</td>\n",
       "      <td>0</td>\n",
       "      <td>0</td>\n",
       "      <td>0.499695</td>\n",
       "      <td>0.530017</td>\n",
       "    </tr>\n",
       "    <tr>\n",
       "      <th>2</th>\n",
       "      <td>0.005247</td>\n",
       "      <td>0.739618</td>\n",
       "      <td>0.408940</td>\n",
       "      <td>1.135055</td>\n",
       "      <td>0.436672</td>\n",
       "      <td>0.703479</td>\n",
       "      <td>0.550927</td>\n",
       "      <td>0.843383</td>\n",
       "      <td>0.703466</td>\n",
       "      <td>0.720645</td>\n",
       "      <td>...</td>\n",
       "      <td>0.439184</td>\n",
       "      <td>0.602586</td>\n",
       "      <td>0.276975</td>\n",
       "      <td>0.444631</td>\n",
       "      <td>0.482089</td>\n",
       "      <td>0.512450</td>\n",
       "      <td>0</td>\n",
       "      <td>0</td>\n",
       "      <td>0.569201</td>\n",
       "      <td>0.560984</td>\n",
       "    </tr>\n",
       "    <tr>\n",
       "      <th>3</th>\n",
       "      <td>0.749045</td>\n",
       "      <td>0.613727</td>\n",
       "      <td>0.334205</td>\n",
       "      <td>0.964296</td>\n",
       "      <td>0.844452</td>\n",
       "      <td>0.718053</td>\n",
       "      <td>0.230509</td>\n",
       "      <td>0.878101</td>\n",
       "      <td>0.615223</td>\n",
       "      <td>1.059238</td>\n",
       "      <td>...</td>\n",
       "      <td>0.547400</td>\n",
       "      <td>0.681991</td>\n",
       "      <td>0.263230</td>\n",
       "      <td>0.590225</td>\n",
       "      <td>0.461713</td>\n",
       "      <td>0.404077</td>\n",
       "      <td>0</td>\n",
       "      <td>0</td>\n",
       "      <td>-0.612417</td>\n",
       "      <td>0.196992</td>\n",
       "    </tr>\n",
       "    <tr>\n",
       "      <th>4</th>\n",
       "      <td>0.359143</td>\n",
       "      <td>0.407004</td>\n",
       "      <td>0.136416</td>\n",
       "      <td>0.070000</td>\n",
       "      <td>0.637947</td>\n",
       "      <td>0.196717</td>\n",
       "      <td>0.930000</td>\n",
       "      <td>0.528597</td>\n",
       "      <td>0.160000</td>\n",
       "      <td>1.063023</td>\n",
       "      <td>...</td>\n",
       "      <td>0.470790</td>\n",
       "      <td>0.540501</td>\n",
       "      <td>0.544272</td>\n",
       "      <td>0.440855</td>\n",
       "      <td>0.639823</td>\n",
       "      <td>0.475801</td>\n",
       "      <td>0</td>\n",
       "      <td>0</td>\n",
       "      <td>0.831981</td>\n",
       "      <td>-0.701775</td>\n",
       "    </tr>\n",
       "    <tr>\n",
       "      <th>...</th>\n",
       "      <td>...</td>\n",
       "      <td>...</td>\n",
       "      <td>...</td>\n",
       "      <td>...</td>\n",
       "      <td>...</td>\n",
       "      <td>...</td>\n",
       "      <td>...</td>\n",
       "      <td>...</td>\n",
       "      <td>...</td>\n",
       "      <td>...</td>\n",
       "      <td>...</td>\n",
       "      <td>...</td>\n",
       "      <td>...</td>\n",
       "      <td>...</td>\n",
       "      <td>...</td>\n",
       "      <td>...</td>\n",
       "      <td>...</td>\n",
       "      <td>...</td>\n",
       "      <td>...</td>\n",
       "      <td>...</td>\n",
       "      <td>...</td>\n",
       "    </tr>\n",
       "    <tr>\n",
       "      <th>8415</th>\n",
       "      <td>0.394722</td>\n",
       "      <td>1.112507</td>\n",
       "      <td>1.146854</td>\n",
       "      <td>1.094173</td>\n",
       "      <td>1.309433</td>\n",
       "      <td>0.903956</td>\n",
       "      <td>0.421251</td>\n",
       "      <td>0.481998</td>\n",
       "      <td>0.001000</td>\n",
       "      <td>1.074474</td>\n",
       "      <td>...</td>\n",
       "      <td>0.392039</td>\n",
       "      <td>0.459210</td>\n",
       "      <td>0.422151</td>\n",
       "      <td>0.566199</td>\n",
       "      <td>0.481923</td>\n",
       "      <td>0.555106</td>\n",
       "      <td>0</td>\n",
       "      <td>0</td>\n",
       "      <td>0.139435</td>\n",
       "      <td>-0.493691</td>\n",
       "    </tr>\n",
       "    <tr>\n",
       "      <th>8416</th>\n",
       "      <td>0.816184</td>\n",
       "      <td>1.112507</td>\n",
       "      <td>1.146854</td>\n",
       "      <td>1.094173</td>\n",
       "      <td>1.309433</td>\n",
       "      <td>0.903956</td>\n",
       "      <td>0.421251</td>\n",
       "      <td>0.481998</td>\n",
       "      <td>0.001000</td>\n",
       "      <td>1.074474</td>\n",
       "      <td>...</td>\n",
       "      <td>0.392039</td>\n",
       "      <td>0.459210</td>\n",
       "      <td>0.422151</td>\n",
       "      <td>0.566199</td>\n",
       "      <td>0.481923</td>\n",
       "      <td>0.555106</td>\n",
       "      <td>0</td>\n",
       "      <td>0</td>\n",
       "      <td>0.139435</td>\n",
       "      <td>-0.493691</td>\n",
       "    </tr>\n",
       "    <tr>\n",
       "      <th>8417</th>\n",
       "      <td>0.969822</td>\n",
       "      <td>0.384763</td>\n",
       "      <td>0.731317</td>\n",
       "      <td>0.764639</td>\n",
       "      <td>0.895911</td>\n",
       "      <td>0.717220</td>\n",
       "      <td>0.263042</td>\n",
       "      <td>0.445073</td>\n",
       "      <td>0.007666</td>\n",
       "      <td>0.845408</td>\n",
       "      <td>...</td>\n",
       "      <td>0.447159</td>\n",
       "      <td>0.781742</td>\n",
       "      <td>0.295662</td>\n",
       "      <td>0.574707</td>\n",
       "      <td>0.590713</td>\n",
       "      <td>0.557553</td>\n",
       "      <td>0</td>\n",
       "      <td>0</td>\n",
       "      <td>0.106567</td>\n",
       "      <td>-0.240879</td>\n",
       "    </tr>\n",
       "    <tr>\n",
       "      <th>8418</th>\n",
       "      <td>0.793761</td>\n",
       "      <td>1.112507</td>\n",
       "      <td>1.146854</td>\n",
       "      <td>1.094173</td>\n",
       "      <td>1.309433</td>\n",
       "      <td>0.903956</td>\n",
       "      <td>0.421251</td>\n",
       "      <td>0.481998</td>\n",
       "      <td>0.001000</td>\n",
       "      <td>1.074474</td>\n",
       "      <td>...</td>\n",
       "      <td>0.392039</td>\n",
       "      <td>0.459210</td>\n",
       "      <td>0.422151</td>\n",
       "      <td>0.566199</td>\n",
       "      <td>0.481923</td>\n",
       "      <td>0.555106</td>\n",
       "      <td>0</td>\n",
       "      <td>0</td>\n",
       "      <td>0.139435</td>\n",
       "      <td>-0.493691</td>\n",
       "    </tr>\n",
       "    <tr>\n",
       "      <th>8419</th>\n",
       "      <td>0.115375</td>\n",
       "      <td>1.112507</td>\n",
       "      <td>1.146854</td>\n",
       "      <td>1.094173</td>\n",
       "      <td>1.309433</td>\n",
       "      <td>0.903956</td>\n",
       "      <td>0.421251</td>\n",
       "      <td>0.481998</td>\n",
       "      <td>0.001000</td>\n",
       "      <td>1.074474</td>\n",
       "      <td>...</td>\n",
       "      <td>0.392039</td>\n",
       "      <td>0.459210</td>\n",
       "      <td>0.422151</td>\n",
       "      <td>0.566199</td>\n",
       "      <td>0.481923</td>\n",
       "      <td>0.555106</td>\n",
       "      <td>0</td>\n",
       "      <td>0</td>\n",
       "      <td>0.139435</td>\n",
       "      <td>-0.493691</td>\n",
       "    </tr>\n",
       "  </tbody>\n",
       "</table>\n",
       "<p>8420 rows × 34 columns</p>\n",
       "</div>"
      ],
      "text/plain": [
       "          roll  batter_buoyancy  batter_divinity  batter_martyrdom  \\\n",
       "0     0.970532         0.843691         0.951609          1.191140   \n",
       "1     0.383835         0.858400         1.049192          0.510142   \n",
       "2     0.005247         0.739618         0.408940          1.135055   \n",
       "3     0.749045         0.613727         0.334205          0.964296   \n",
       "4     0.359143         0.407004         0.136416          0.070000   \n",
       "...        ...              ...              ...               ...   \n",
       "8415  0.394722         1.112507         1.146854          1.094173   \n",
       "8416  0.816184         1.112507         1.146854          1.094173   \n",
       "8417  0.969822         0.384763         0.731317          0.764639   \n",
       "8418  0.793761         1.112507         1.146854          1.094173   \n",
       "8419  0.115375         1.112507         1.146854          1.094173   \n",
       "\n",
       "      batter_moxie  batter_musclitude  batter_patheticism  \\\n",
       "0         1.099834           1.064446            0.490344   \n",
       "1         0.502847           0.553971            0.511392   \n",
       "2         0.436672           0.703479            0.550927   \n",
       "3         0.844452           0.718053            0.230509   \n",
       "4         0.637947           0.196717            0.930000   \n",
       "...            ...                ...                 ...   \n",
       "8415      1.309433           0.903956            0.421251   \n",
       "8416      1.309433           0.903956            0.421251   \n",
       "8417      0.895911           0.717220            0.263042   \n",
       "8418      1.309433           0.903956            0.421251   \n",
       "8419      1.309433           0.903956            0.421251   \n",
       "\n",
       "      batter_thwackability  batter_tragicness  pitcher_ruthlessness  ...  \\\n",
       "0                 0.526535           0.001000              0.731703  ...   \n",
       "1                 0.458695           0.060000              0.574806  ...   \n",
       "2                 0.843383           0.703466              0.720645  ...   \n",
       "3                 0.878101           0.615223              1.059238  ...   \n",
       "4                 0.528597           0.160000              1.063023  ...   \n",
       "...                    ...                ...                   ...  ...   \n",
       "8415              0.481998           0.001000              1.074474  ...   \n",
       "8416              0.481998           0.001000              1.074474  ...   \n",
       "8417              0.445073           0.007666              0.845408  ...   \n",
       "8418              0.481998           0.001000              1.074474  ...   \n",
       "8419              0.481998           0.001000              1.074474  ...   \n",
       "\n",
       "      ballpark_ominousness  ballpark_inconvenience  ballpark_viscosity  \\\n",
       "0                 0.470335                0.426239            0.342355   \n",
       "1                 0.492195                0.495179            0.481398   \n",
       "2                 0.439184                0.602586            0.276975   \n",
       "3                 0.547400                0.681991            0.263230   \n",
       "4                 0.470790                0.540501            0.544272   \n",
       "...                    ...                     ...                 ...   \n",
       "8415              0.392039                0.459210            0.422151   \n",
       "8416              0.392039                0.459210            0.422151   \n",
       "8417              0.447159                0.781742            0.295662   \n",
       "8418              0.392039                0.459210            0.422151   \n",
       "8419              0.392039                0.459210            0.422151   \n",
       "\n",
       "      ballpark_forwardness  ballpark_mysticism  ballpark_elongation  \\\n",
       "0                 0.536745            0.504129             0.442981   \n",
       "1                 0.431228            0.379607             0.596597   \n",
       "2                 0.444631            0.482089             0.512450   \n",
       "3                 0.590225            0.461713             0.404077   \n",
       "4                 0.440855            0.639823             0.475801   \n",
       "...                    ...                 ...                  ...   \n",
       "8415              0.566199            0.481923             0.555106   \n",
       "8416              0.566199            0.481923             0.555106   \n",
       "8417              0.574707            0.590713             0.557553   \n",
       "8418              0.566199            0.481923             0.555106   \n",
       "8419              0.566199            0.481923             0.555106   \n",
       "\n",
       "      batting_team_hype  pitching_team_hype  batter_vibes  pitcher_vibes  \n",
       "0                     0                   0     -0.152472      -0.264691  \n",
       "1                     0                   0      0.499695       0.530017  \n",
       "2                     0                   0      0.569201       0.560984  \n",
       "3                     0                   0     -0.612417       0.196992  \n",
       "4                     0                   0      0.831981      -0.701775  \n",
       "...                 ...                 ...           ...            ...  \n",
       "8415                  0                   0      0.139435      -0.493691  \n",
       "8416                  0                   0      0.139435      -0.493691  \n",
       "8417                  0                   0      0.106567      -0.240879  \n",
       "8418                  0                   0      0.139435      -0.493691  \n",
       "8419                  0                   0      0.139435      -0.493691  \n",
       "\n",
       "[8420 rows x 34 columns]"
      ]
     },
     "execution_count": 6,
     "metadata": {},
     "output_type": "execute_result"
    }
   ],
   "source": [
    "X"
   ]
  },
  {
   "cell_type": "code",
   "execution_count": 7,
   "metadata": {
    "pycharm": {
     "name": "#%%\n"
    }
   },
   "outputs": [],
   "source": [
    "from sklearn.model_selection import train_test_split\n",
    "from sklearn.preprocessing import StandardScaler\n",
    "\n",
    "X_train, X_test, y_train, y_test = train_test_split(X, y, test_size=0.2, random_state=0)\n",
    "sc = StandardScaler()\n",
    "X_train = sc.fit_transform(X_train)\n",
    "X_test = sc.transform(X_test)"
   ]
  },
  {
   "cell_type": "code",
   "execution_count": 8,
   "metadata": {
    "pycharm": {
     "name": "#%%\n"
    }
   },
   "outputs": [
    {
     "name": "stdout",
     "output_type": "stream",
     "text": [
      "[[943   6]\n",
      " [  6 729]]\n",
      "              precision    recall  f1-score   support\n",
      "\n",
      "       False       0.99      0.99      0.99       949\n",
      "        True       0.99      0.99      0.99       735\n",
      "\n",
      "    accuracy                           0.99      1684\n",
      "   macro avg       0.99      0.99      0.99      1684\n",
      "weighted avg       0.99      0.99      0.99      1684\n",
      "\n"
     ]
    }
   ],
   "source": [
    "from sklearn.metrics import confusion_matrix\n",
    "from sklearn.metrics import classification_report\n",
    "from sklearn import svm\n",
    "trainedsvm = svm.SVC(kernel='linear').fit(X_train, y_train)\n",
    "predictionsvm = trainedsvm.predict(X_test)\n",
    "print(confusion_matrix(y_test,predictionsvm))\n",
    "print(classification_report(y_test,predictionsvm))\n"
   ]
  },
  {
   "cell_type": "code",
   "execution_count": 9,
   "metadata": {
    "pycharm": {
     "name": "#%%\n"
    }
   },
   "outputs": [],
   "source": [
    "import numpy as np\n",
    "\n",
    "coef = np.true_divide(trainedsvm.coef_,  sc.scale_)\n",
    "coef_scaled = coef / coef[0, 0]\n",
    "coef_list = coef_scaled.tolist()[0]"
   ]
  },
  {
   "cell_type": "code",
   "execution_count": 10,
   "metadata": {
    "pycharm": {
     "name": "#%%\n"
    }
   },
   "outputs": [
    {
     "data": {
      "text/plain": [
       "[(1.0, 'roll'),\n",
       " (-0.32112457897897634, 'pitcher_ruthlessness'),\n",
       " (-0.27120527472810807, 'ballpark_forwardness'),\n",
       " (-0.09762293950858374, 'batter_musclitude'),\n",
       " (0.0909392286822631, 'ballpark_fortification'),\n",
       " (0.06630060819786052, 'ballpark_mysticism'),\n",
       " (0.06112699981026498, 'defense_avg_chasiness'),\n",
       " (0.059914862991178, 'ballpark_obtuseness'),\n",
       " (0.05574820607278194, 'ballpark_viscosity'),\n",
       " (-0.05401735240158478, 'pitcher_vibes'),\n",
       " (-0.05269631478050482, 'ballpark_elongation'),\n",
       " (0.03444888739253021, 'ballpark_inconvenience'),\n",
       " (-0.02884362320896967, 'ballpark_ominousness'),\n",
       " (-0.028676207469768487, 'ballpark_grandiosity'),\n",
       " (-0.02764376163800782, 'defense_avg_anticapitalism'),\n",
       " (-0.016970018093434912, 'pitcher_suppression'),\n",
       " (0.014436379355536532, 'defense_avg_watchfulness'),\n",
       " (0.012147065593217633, 'pitcher_chasiness'),\n",
       " (-0.011491259872568419, 'batter_patheticism'),\n",
       " (0.01099273639097274, 'pitcher_unthwackability'),\n",
       " (0.00777723253207019, 'batter_vibes'),\n",
       " (0.004856518861940703, 'batter_tragicness'),\n",
       " (-0.004329457553331462, 'batter_martyrdom'),\n",
       " (0.003843182447536161, 'pitcher_overpowerment'),\n",
       " (0.003434147917076791, 'batter_buoyancy'),\n",
       " (0.0031425633918700747, 'batter_divinity'),\n",
       " (-0.0029002469286405264, 'defense_avg_omniscience'),\n",
       " (0.002651547358807081, 'batter_thwackability'),\n",
       " (0.00249717755138309, 'defense_avg_tenaciousness'),\n",
       " (0.0024945256177767443, 'batter_moxie'),\n",
       " (-0.0017111930493491437, 'pitcher_coldness'),\n",
       " (-0.00018761329882890316, 'pitcher_shakespearianism'),\n",
       " (-0.0, 'batting_team_hype'),\n",
       " (-0.0, 'pitching_team_hype')]"
      ]
     },
     "execution_count": 10,
     "metadata": {},
     "output_type": "execute_result"
    }
   ],
   "source": [
    "sorted(zip(coef_list, X.columns), key=lambda x: abs(x[0]), reverse=True)"
   ]
  },
  {
   "cell_type": "code",
   "execution_count": 11,
   "metadata": {
    "pycharm": {
     "name": "#%%\n"
    }
   },
   "outputs": [
    {
     "data": {
      "text/plain": [
       "array([-0.2785087])"
      ]
     },
     "execution_count": 11,
     "metadata": {},
     "output_type": "execute_result"
    }
   ],
   "source": [
    "intercept = trainedsvm.intercept_ - np.dot(coef, sc.mean_)\n",
    "intercept / coef[0, 0]"
   ]
  },
  {
   "cell_type": "code",
   "execution_count": 12,
   "metadata": {
    "pycharm": {
     "name": "#%%\n"
    }
   },
   "outputs": [
    {
     "data": {
      "text/plain": [
       "array([[-2.25786696,  0.65974522,  0.69295005,  0.71787453,  0.66459095,\n",
       "         1.08412809,  0.4086028 ,  0.68565021,  0.1438497 ,  1.72606423,\n",
       "         0.70355439,  0.71797878,  0.67063686,  0.69668322,  0.65785257,\n",
       "         0.61981536,  0.65989611,  0.58917257,  0.59198895,  0.59324827,\n",
       "         0.58515509,  0.57404582,  0.44577267,  0.56628799,  0.49203531,\n",
       "         0.51341578,  0.40720963,  0.58392562,  0.47929851,  0.51578052,\n",
       "         0.        ,  0.        , -0.02627253,  0.40152266]])"
      ]
     },
     "execution_count": 12,
     "metadata": {},
     "output_type": "execute_result"
    }
   ],
   "source": [
    "sc.inverse_transform(trainedsvm.coef_)"
   ]
  },
  {
   "cell_type": "code",
   "execution_count": 20,
   "metadata": {
    "pycharm": {
     "name": "#%%\n"
    }
   },
   "outputs": [],
   "source": []
  }
 ],
 "metadata": {
  "kernelspec": {
   "display_name": "Python 3 (ipykernel)",
   "language": "python",
   "name": "python3"
  },
  "language_info": {
   "codemirror_mode": {
    "name": "ipython",
    "version": 3
   },
   "file_extension": ".py",
   "mimetype": "text/x-python",
   "name": "python",
   "nbconvert_exporter": "python",
   "pygments_lexer": "ipython3",
   "version": "3.9.7"
  }
 },
 "nbformat": 4,
 "nbformat_minor": 1
}
