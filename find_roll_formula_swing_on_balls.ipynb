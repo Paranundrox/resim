{
 "cells": [
  {
   "cell_type": "code",
   "execution_count": 1,
   "metadata": {
    "pycharm": {
     "name": "#%%\n"
    }
   },
   "outputs": [],
   "source": [
    "import glob\n",
    "\n",
    "import pandas as pd\n",
    "import matplotlib.pyplot as plt\n",
    "import numpy as np\n",
    "from matplotlib.markers import CARETLEFTBASE, CARETRIGHTBASE\n",
    "\n",
    "all_files = glob.glob(\"roll_data/*-swing-on-ball.csv\")\n",
    "\n",
    "df_balls = pd.concat((pd.read_csv(f) for f in all_files), ignore_index=True)\n",
    "\n",
    "# all_files = glob.glob(\"roll_data/*-swing-on-strike.csv\")\n",
    "\n",
    "# df_strikes = pd.concat((pd.read_csv(f) for f in all_files), ignore_index=True)"
   ]
  },
  {
   "cell_type": "code",
   "execution_count": 1037,
   "metadata": {},
   "outputs": [],
   "source": [
    "def calc_vibes(df, prefix):\n",
    "    buoy = df[prefix + \"_buoyancy\"]# * df[prefix + \"_mul\"]\n",
    "    press = df[prefix + \"_pressurization\"]# * df[prefix + \"_mul\"]\n",
    "    cinn = df[prefix + \"_cinnamon\"]# * df[prefix + \"_mul\"]\n",
    "\n",
    "    freq = 6 + (buoy * 10).round()\n",
    "    phase = math.pi * ((2/freq) * dfc[\"day\"] + 0.5)\n",
    "    vibes = 0.5 * (press + cinn) * np.sin(phase) - (0.5 * press) + (0.5 * cinn)\n",
    "    return vibes\n",
    "\n",
    "def get_pitcher_mul(row):\n",
    "    bm = str(row[\"batter_mods\"])\n",
    "    pm = str(row[\"pitcher_mods\"])\n",
    "    ptm = str(row[\"pitching_team_mods\"])\n",
    "    mul = 1\n",
    "    if \"OVERPERFORMING\" in pm:\n",
    "        mul += 0.2\n",
    "    if \"OVERPERFORMING\" in ptm:\n",
    "        mul += 0.2\n",
    "    if \"UNDERPERFORMING\" in pm:\n",
    "        mul -= 0.2\n",
    "    if \"UNDERPERFORMING\" in ptm:\n",
    "        mul -= 0.2\n",
    "    if \"TRAVELING\" in ptm:\n",
    "        pass # traveling just doesn't do anything on pitchers?\n",
    "        # if not row[\"top_of_inning\"]:\n",
    "            #mul += 0.05\n",
    "    if \"HIGH_PRESSURE\" in ptm:\n",
    "        # i messed up baserunner_count lol, so it's a string\n",
    "        if row[\"weather\"] == 18 and str(row[\"baserunner_count\"]) != \"[]\":\n",
    "            mul += 0.25\n",
    "    if \"GROWTH\" in ptm:\n",
    "        #mul += min(0.05, 0.05 * (row[\"day\"] / 99))\n",
    "        pass # growth doesn't do anything on pitchers either\n",
    "    if \"SINKING_SHIP\" in ptm:\n",
    "        mul += (14 - row[\"pitching_team_roster_size\"]) * 0.01\n",
    "    if \"AFFINITY_FOR_CROWS\" in ptm and row[\"weather\"] == 11:\n",
    "        mul += 0.5\n",
    "    return mul\n",
    "\n",
    "def get_batter_mul(row):\n",
    "    bm = str(row[\"batter_mods\"])\n",
    "    btm = str(row[\"batting_team_mods\"])\n",
    "    ptm = str(row[\"pitching_team_mods\"])\n",
    "    mul = 1\n",
    "    if \"OVERPERFORMING\" in bm:\n",
    "        mul += 0.2\n",
    "    if \"OVERPERFORMING\" in btm:\n",
    "        mul += 0.2\n",
    "    if \"UNDERPERFORMING\" in bm:\n",
    "        mul -= 0.2\n",
    "    if \"UNDERPERFORMING\" in btm:\n",
    "        mul -= 0.2\n",
    "    if \"TRAVELING\" in btm:\n",
    "        if row[\"top_of_inning\"]:\n",
    "            # this doesn't seem to do anything if it's here or not here\n",
    "            mul += 0.05\n",
    "    if \"GROWTH\" in btm:\n",
    "        mul += min(0.05, 0.05 * (row[\"day\"] / 99))\n",
    "        pass\n",
    "    if \"HIGH_PRESSURE\" in btm:\n",
    "        if row[\"weather\"] == 18 and str(row[\"baserunner_count\"]) != \"[]\":\n",
    "            mul += 0.25\n",
    "    if \"SINKING_SHIP\" in btm:\n",
    "        mul += (14 - row[\"batting_team_roster_size\"]) * 0.01\n",
    "    if \"AFFINITY_FOR_CROWS\" in btm and row[\"weather\"] == 11:\n",
    "        mul += 0.5\n",
    "    if \"CHUNKY\" in bm and row[\"weather\"] == 10:\n",
    "        # todo: handle, in peanuts weather\n",
    "#         pass\n",
    "        mul += 1.0\n",
    "    if \"SMOOTH\" in bm and row[\"weather\"] == 10:\n",
    "        # todo: handle, in peanuts weather\n",
    "        pass\n",
    "    if \"ON_FIRE\" in bm:\n",
    "        # todo: handle\n",
    "        pass\n",
    "    return mul"
   ]
  },
  {
   "cell_type": "code",
   "execution_count": 994,
   "metadata": {},
   "outputs": [],
   "source": [
    "# additions and corrections, global\n",
    "\n",
    "df_balls[\"batter_mul\"] = df_balls.apply(get_batter_mul, axis=1)\n",
    "df_balls[\"pitcher_mul\"] = df_balls.apply(get_pitcher_mul, axis=1)\n",
    "\n",
    "df_balls.loc[df_balls[\"pitcher_mods\"].astype(str).str.contains(\"SCATTERED\"),\"pitcher_vibes\"] = 0\n",
    "df_balls.loc[df_balls[\"batter_mods\"].astype(str).str.contains(\"SCATTERED\"),\"batter_vibes\"] = 0\n",
    "\n",
    "df_balls[\"ruth_scaled\"] = df_balls[\"pitcher_ruthlessness\"] * df_balls[\"pitcher_mul\"]\n",
    "df_balls[\"mox_scaled\"] = df_balls[\"batter_moxie\"] * df_balls[\"batter_mul\"]\n",
    "\n",
    "\n",
    "df_balls['invpath'] = 1 - df_balls['batter_patheticism']\n",
    "df_balls[\"invpath_scaled\"] = 1 - df_balls[\"batter_patheticism\"] * df_balls[\"batter_mul\"]\n",
    "df_balls[\"path_scaled\"] = 1 - ((1 - df_balls[\"batter_patheticism\"]) * df_balls[\"batter_mul\"])\n",
    "# df_balls[\"mox_path\"] = df_balls[\"mox_scaled\"] - df_balls[\"path_scaled\"]\n",
    "# df[df[\"pitcher_mul\"] != 1][[\"pitcher_mul\", \"pitcher_mods\", \"pitching_team_mods\"]].drop_duplicates()"
   ]
  },
  {
   "cell_type": "code",
   "execution_count": 995,
   "metadata": {},
   "outputs": [],
   "source": [
    "# df = df[(df[\"batting_team_hype\"] == 0) & (df['pitching_team_hype'] == 0)]\n",
    "\n",
    "# df_balls[\"ruth_vibes\"] = df_balls[\"ruth_scaled\"] * df_balls[\"pitcher_vibes\"]\n",
    "df_balls[\"ruth_vibes\"] = df_balls[\"ruth_scaled\"] * (1 + 0.2 * df_balls[\"pitcher_vibes\"])\n",
    "# df_balls[\"mox_vibes\"] = df_balls[\"mox_scaled\"] * df_balls[\"batter_vibes\"]\n",
    "df_balls[\"mox_vibes\"] = df_balls[\"mox_scaled\"] * (1 + 0.2 * df_balls[\"batter_vibes\"])\n",
    "\n",
    "df_balls[\"invpath_vibes\"] = df_balls[\"invpath-scaled\"] * (1 + 0.2 * df_balls[\"batter_vibes\"])\n",
    "\n",
    "# beiju's idea\n",
    "df_balls[\"visc_filth\"] = df_balls[\"ballpark_viscosity\"] * df_balls[\"ballpark_filthiness\"]\n",
    "# # put in our \"best fit\" up here in the original df, just because\n",
    "# df['svc_best'] = 0.30 * df[\"ruth_scaled\"] + 0.20 * df[\"ballpark_forwardness\"] \\\n",
    "#                   + 0.06 * df[\"ruth_vibes\"] + 0.10 * df[\"musc_scaled\"]\n",
    "\n",
    "df_balls['ruth_times_vibes'] = df_balls[\"ruth_scaled\"] * df_balls[\"pitcher_vibes\"]\n",
    "df_balls['mox_times_vibes'] = df_balls[\"mox_scaled\"] * df_balls[\"batter_vibes\"]\n",
    "df_balls['path_times_vibes'] = df_balls[\"path_scaled\"] * df_balls[\"batter_vibes\"]\n",
    "\n",
    "\n",
    "# kidror's idea\n",
    "df_balls[\"ruth_sq\"] = df_balls[\"ruth_vibes\"]**2\n",
    "df_balls[\"mox_sq\"] = df_balls[\"mox_vibes\"]**2\n",
    "# df_balls[\"path_sq\"] = df_balls[\"path_scaled\"]**2 # not path_vibes\n",
    "df_balls[\"visc_sq\"] = df_balls[\"ballpark_viscosity\"]**2"
   ]
  },
  {
   "cell_type": "code",
   "execution_count": 996,
   "metadata": {},
   "outputs": [],
   "source": [
    "# df = df[df[\"batter_mods\"].isna() & df[\"pitcher_mods\"].isna()]\n",
    "\n",
    "# just look at swinging on balls first\n",
    "dfc = df_balls\n",
    "for exclude_mod in [\"OVERPERFORMING\", \"UNDERPERFORMING\", \"HIGH_PRESSURE\", \"GROWTH\",\n",
    "                    \"SINKING_SHIP\", \"TRAVELING\", \"AFFINITY_FOR_CROWS\", \"CHUNKY\", \"SMOOTH\", \"ON_FIRE\"]:\n",
    "# for exclude_mod in []:\n",
    "    dfc = dfc[~dfc[\"batter_mods\"].astype(str).str.contains(exclude_mod)]\n",
    "    dfc = dfc[~dfc[\"pitcher_mods\"].astype(str).str.contains(exclude_mod)]\n",
    "    dfc = dfc[~dfc[\"pitching_team_mods\"].astype(str).str.contains(exclude_mod)]\n",
    "    dfc = dfc[~dfc[\"batting_team_mods\"].astype(str).str.contains(exclude_mod)]\n",
    "\n",
    "for exclude_mod in [\"FLINCH\"]:\n",
    "    # exclude flinch situations entirely...superfluous i think, it doesn't roll when flinching\n",
    "    dfc = dfc[~((dfc[\"batter_mods\"].astype(str).str.contains(exclude_mod)) & (dfc[\"strike_count\"] == 0))]"
   ]
  },
  {
   "cell_type": "code",
   "execution_count": 997,
   "metadata": {
    "pycharm": {
     "name": "#%%\n"
    },
    "scrolled": false
   },
   "outputs": [
    {
     "name": "stdout",
     "output_type": "stream",
     "text": [
      "57959\n",
      "34628\n"
     ]
    }
   ],
   "source": [
    "# print(list(df_balls.columns))\n",
    "print(len(df_balls))\n",
    "print(len(dfc))"
   ]
  },
  {
   "cell_type": "code",
   "execution_count": 998,
   "metadata": {},
   "outputs": [],
   "source": [
    "digest_list = [\"event_type\", \"roll\", \"batter_name\", \"pitcher_name\",\n",
    "               \"ruth_scaled\", \"pitcher_vibes\", \"musc_scaled\",\n",
    "               \"ballpark_forwardness\", \"game_id\", \"play_count\", \"svc_best\"]"
   ]
  },
  {
   "cell_type": "code",
   "execution_count": 999,
   "metadata": {},
   "outputs": [],
   "source": [
    "# print(coef_list, intercept_scaled)\n",
    "# print(X.columns)"
   ]
  },
  {
   "cell_type": "code",
   "execution_count": 1000,
   "metadata": {},
   "outputs": [
    {
     "data": {
      "text/plain": [
       "0.9492693003761858"
      ]
     },
     "execution_count": 1000,
     "metadata": {},
     "output_type": "execute_result"
    }
   ],
   "source": [
    "dfc[dfc[\"passed\"] == True][\"roll\"].max()"
   ]
  },
  {
   "cell_type": "code",
   "execution_count": 1001,
   "metadata": {},
   "outputs": [
    {
     "data": {
      "text/plain": [
       "0.0022923664988039"
      ]
     },
     "execution_count": 1001,
     "metadata": {},
     "output_type": "execute_result"
    }
   ],
   "source": [
    "dfc[dfc[\"passed\"] == False][\"roll\"].min()"
   ]
  },
  {
   "cell_type": "code",
   "execution_count": 1002,
   "metadata": {},
   "outputs": [
    {
     "data": {
      "text/plain": [
       "29545"
      ]
     },
     "execution_count": 1002,
     "metadata": {},
     "output_type": "execute_result"
    }
   ],
   "source": [
    "# max for swings seems to be 0.95 so remove rolls above that\n",
    "dfc = dfc[dfc['roll'] < 0.95]\n",
    "# weird \"cutoff\" at 0.1 (though you can take pitches below this!) so remove rolls below that\n",
    "dfc = dfc[dfc['roll'] > 0.1]\n",
    "len(dfc)"
   ]
  },
  {
   "cell_type": "code",
   "execution_count": 1020,
   "metadata": {
    "pycharm": {
     "name": "#%%\n"
    },
    "scrolled": false
   },
   "outputs": [
    {
     "name": "stdout",
     "output_type": "stream",
     "text": [
      "[0.04783582 0.70462381 0.38767944]\n"
     ]
    },
    {
     "data": {
      "image/png": "[encoded data removed]",
      "text/plain": [
       "<Figure size 864x432 with 2 Axes>"
      ]
     },
     "metadata": {
      "needs_background": "light"
     },
     "output_type": "display_data"
    }
   ],
   "source": [
    "# df_balls[\"threshold\"] = -1*(\\\n",
    "#     -0.10 + \\\n",
    "#     -0.65 * df_balls[\"ruth_vibes\"] + \\\n",
    "#     0.27 * df_balls[\"mox_vibes\"] + \\\n",
    "#     0.27 * df_balls[\"invpath_scaled\"] + \\\n",
    "#     -0.20 * df_balls[\"ballpark_viscosity\"])\n",
    "\n",
    "# dfc[\"threshold\"] = -1*(\\\n",
    "#     -0.10 + \\\n",
    "#     -0.65 * df_balls[\"ruth_vibes\"] + \\\n",
    "#     0.27 * df_balls[\"mox_vibes\"] + \\\n",
    "#     0.27 * df_balls[\"invpath_scaled\"] + \\\n",
    "#     -0.20 * df_balls[\"ballpark_viscosity\"])\n",
    "\n",
    "\n",
    "# x_val = \"ruth_vibes\"\n",
    "x_val = \"threshold\"\n",
    "\n",
    "y_val = df_balls\n",
    "# y_val = dfc\n",
    "\n",
    "polycoefs = (series_s.convert().coef + series_l.convert().coef)/2\n",
    "print(polycoefs)\n",
    "linex = np.linspace(0,1,100)\n",
    "fig, ax = plt.subplots(1, 2, figsize=(12,6))\n",
    "for axN in ax:\n",
    "    if axN == ax[0]:\n",
    "        axN.scatter(y_val[~y_val['passed']][x_val], y_val[~y_val['passed']][\"roll\"], color=\"red\", label=\"No Swing\", marker=CARETLEFTBASE)\n",
    "        axN.scatter(y_val[y_val['passed']][x_val], y_val[y_val['passed']][\"roll\"], color=\"blue\", label=\"Swing\", marker=CARETRIGHTBASE)\n",
    "    else:\n",
    "        axN.scatter(y_val[y_val['passed']][x_val], y_val[y_val['passed']][\"roll\"], color=\"blue\", label=\"Swing\", marker=CARETRIGHTBASE)\n",
    "        axN.scatter(y_val[~y_val['passed']][x_val], y_val[~y_val['passed']][\"roll\"], color=\"red\", label=\"No Swing\", marker=CARETLEFTBASE)\n",
    "    axN.plot(linex, polycoefs[0] + polycoefs[1]*linex + polycoefs[2]*linex**2, 'k')\n",
    "    # ax.plot(np.linspace(0,1,100), series_s(np.linspace(0,1,100)), 'k')\n",
    "    # xline = np.array(ax.get_xlim())\n",
    "    # yline = -intercept_scaled + xline\n",
    "    # # yline = -0.2 + xline\n",
    "    # ax.plot(xline, yline, 'k')\n",
    "\n",
    "    axN.set_xlabel(x_val)\n",
    "    axN.set_ylabel('roll')\n",
    "    axN.set_ylim(0, 1)\n",
    "    # ax.set_yscale('log')\n",
    "    # ax.set_xlim(0.484, 0.499)\n",
    "\n",
    "    axN.legend()\n",
    "\n",
    "# fig.savefig(x_val+\".png\", facecolor='white')"
   ]
  },
  {
   "cell_type": "code",
   "execution_count": 1004,
   "metadata": {
    "pycharm": {
     "name": "#%%\n"
    }
   },
   "outputs": [
    {
     "data": {
      "text/html": [
       "<div>\n",
       "<style scoped>\n",
       "    .dataframe tbody tr th:only-of-type {\n",
       "        vertical-align: middle;\n",
       "    }\n",
       "\n",
       "    .dataframe tbody tr th {\n",
       "        vertical-align: top;\n",
       "    }\n",
       "\n",
       "    .dataframe thead th {\n",
       "        text-align: right;\n",
       "    }\n",
       "</style>\n",
       "<table border=\"1\" class=\"dataframe\">\n",
       "  <thead>\n",
       "    <tr style=\"text-align: right;\">\n",
       "      <th></th>\n",
       "      <th>batter_mul</th>\n",
       "      <th>batter_name</th>\n",
       "    </tr>\n",
       "  </thead>\n",
       "  <tbody>\n",
       "    <tr>\n",
       "      <th>0</th>\n",
       "      <td>1.0</td>\n",
       "      <td>Farrell Seagull</td>\n",
       "    </tr>\n",
       "  </tbody>\n",
       "</table>\n",
       "</div>"
      ],
      "text/plain": [
       "   batter_mul      batter_name\n",
       "0         1.0  Farrell Seagull"
      ]
     },
     "execution_count": 1004,
     "metadata": {},
     "output_type": "execute_result"
    }
   ],
   "source": [
    "dfc.groupby('batter_mul').head(1)[['batter_mul', 'batter_name']].sort_values(\n",
    "    'batter_mul', ascending=False)[0:10]\n"
   ]
  },
  {
   "cell_type": "code",
   "execution_count": 1005,
   "metadata": {
    "pycharm": {
     "name": "#%%\n"
    },
    "scrolled": false
   },
   "outputs": [
    {
     "name": "stdout",
     "output_type": "stream",
     "text": [
      "['Unnamed: 0', 'event_type', 'roll', 'passed', 'batter_buoyancy', 'batter_divinity', 'batter_martyrdom', 'batter_moxie', 'batter_musclitude', 'batter_patheticism', 'batter_thwackability', 'batter_tragicness', 'batter_coldness', 'batter_overpowerment', 'batter_ruthlessness', 'batter_shakespearianism', 'batter_suppression', 'batter_unthwackability', 'batter_base_thirst', 'batter_continuation', 'batter_ground_friction', 'batter_indulgence', 'batter_laserlikeness', 'batter_anticapitalism', 'batter_chasiness', 'batter_omniscience', 'batter_tenaciousness', 'batter_watchfulness', 'batter_pressurization', 'batter_cinnamon', 'batter_multiplier', 'pitcher_buoyancy', 'pitcher_divinity', 'pitcher_martyrdom', 'pitcher_moxie', 'pitcher_musclitude', 'pitcher_patheticism', 'pitcher_thwackability', 'pitcher_tragicness', 'pitcher_ruthlessness', 'pitcher_overpowerment', 'pitcher_unthwackability', 'pitcher_shakespearianism', 'pitcher_suppression', 'pitcher_coldness', 'pitcher_base_thirst', 'pitcher_continuation', 'pitcher_ground_friction', 'pitcher_indulgence', 'pitcher_laserlikeness', 'pitcher_anticapitalism', 'pitcher_chasiness', 'pitcher_omniscience', 'pitcher_tenaciousness', 'pitcher_watchfulness', 'pitcher_pressurization', 'pitcher_cinnamon', 'pitcher_multiplier', 'defense_avg_anticapitalism', 'defense_avg_chasiness', 'defense_avg_omniscience', 'defense_avg_tenaciousness', 'defense_avg_watchfulness', 'ballpark_grandiosity', 'ballpark_fortification', 'ballpark_obtuseness', 'ballpark_ominousness', 'ballpark_inconvenience', 'ballpark_viscosity', 'ballpark_forwardness', 'ballpark_mysticism', 'ballpark_elongation', 'ballpark_filthiness', 'what1', 'what2', 'batting_team_hype', 'pitching_team_hype', 'batter_name', 'pitcher_name', 'batter_vibes', 'batter_vibes_multiplied', 'pitcher_vibes', 'pitcher_vibes_multiplied', 'batter_mods', 'batting_team_mods', 'pitcher_mods', 'pitching_team_mods', 'game_id', 'stadium_id', 'play_count', 'weather', 'ball_count', 'strike_count', 'season', 'day', 'top_of_inning', 'home_score', 'away_score', 'inning', 'batting_team_roster_size', 'pitching_team_roster_size', 'baserunner_count', 'is_strike', 'strike_roll', 'strike_threshold', 'batter_mul', 'pitcher_mul', 'ruth_scaled', 'mox_scaled', 'invpath', 'invpath-scaled', 'ruth_vibes', 'mox_vibes', 'path_vibes', 'visc_filth', 'ruth_sq', 'mox_sq', 'visc_sq', 'invpath-vibes', 'invpath_vibes', 'path_scaled', 'invpath_scaled', 'threshold', 'ruth_times_vibes', 'mox_times_vibes', 'path_times_vibes', 'offset']\n"
     ]
    }
   ],
   "source": [
    "print(list(df_balls.columns))"
   ]
  },
  {
   "cell_type": "code",
   "execution_count": 1006,
   "metadata": {
    "pycharm": {
     "name": "#%%\n"
    }
   },
   "outputs": [],
   "source": [
    "# X = dfc[['roll', *dfc.columns[5:-11]]].drop('pitcher_name', axis=1).drop('batter_mods', axis=1)\\\n",
    "#     .drop('batting_team_mods', axis=1).drop('pitching_team_mods', axis=1).drop('pitcher_mods', axis=1)\\\n",
    "#     .drop('batter_vibes', axis=1).drop('pitcher_vibes', axis=1)\\\n",
    "#     .drop('batter_multiplier', axis=1).drop('pitcher_multiplier', axis=1)\n",
    "# X = dfc[['roll', 'pitcher_ruthlessness', 'ballpark_forwardness', 'pitcher_vibes_multiplied', 'batter_musclitude']]\n",
    "\n",
    "# X = dfc[['roll', *dfc.columns[4:-42], 'batter_vibes', 'pitcher_vibes']]\\\n",
    "#     .drop('batter_multiplier', axis=1).drop('pitcher_multiplier', axis=1)\n",
    "# X = dfc[['roll', 'ruth_vibes', 'path_vibes', 'mox_vibes', 'ballpark_viscosity']]#, 'mox_path', 'visc_filth']]\n",
    "# X = dfc[['passed', 'roll', 'ruth_scaled', 'ballpark_forwardness', 'ruth_vibes', 'musc_scaled', 'flinch']]\n",
    "# X = X[X['roll'] < 0.85]\n",
    "X = dfc[['roll', 'ruth_vibes', 'mox_vibes', 'invpath_scaled', 'ballpark_viscosity']]\n",
    "\n",
    "# X = dfc[['roll',\n",
    "# #          'batter_buoyancy', 'batter_divinity', 'batter_martyrdom', \n",
    "#          'mox_scaled', \n",
    "# #          'batter_musclitude', \n",
    "# #          'invpath',\n",
    "#          'path_scaled',# 'batter_thwackability','batter_tragicness',\n",
    "# #          'batter_coldness', 'batter_overpowerment', 'batter_ruthlessness', 'batter_shakespearianism', 'batter_suppression', 'batter_unthwackability',\n",
    "# #          'batter_base_thirst', 'batter_continuation', 'batter_ground_friction', 'batter_indulgence', 'batter_laserlikeness',\n",
    "# #          'batter_anticapitalism', 'batter_chasiness', 'batter_omniscience', 'batter_tenaciousness', 'batter_watchfulness',\n",
    "# #          'batter_pressurization', 'batter_cinnamon', 'batter_multiplier',\n",
    "# #          'batter_vibes',\n",
    "#          'mox_times_vibes',\n",
    "#          'path_times_vibes',\n",
    "# #          'pitcher_buoyancy', 'pitcher_divinity', 'pitcher_martyrdom', 'pitcher_moxie', 'pitcher_musclitude', 'pitcher_patheticism', 'pitcher_thwackability', 'pitcher_tragicness',\n",
    "#          'ruth_scaled',# 'pitcher_overpowerment', 'pitcher_unthwackability', 'pitcher_shakespearianism', 'pitcher_suppression', 'pitcher_coldness',\n",
    "# #          'pitcher_base_thirst', 'pitcher_continuation', 'pitcher_ground_friction', 'pitcher_indulgence', 'pitcher_laserlikeness',\n",
    "# #          'pitcher_anticapitalism', 'pitcher_chasiness', 'pitcher_omniscience', 'pitcher_tenaciousness', 'pitcher_watchfulness',\n",
    "# #          'pitcher_pressurization', 'pitcher_cinnamon', 'pitcher_multiplier',\n",
    "# #          'pitcher_vibes',\n",
    "#          'ruth_times_vibes',\n",
    "# #          'defense_avg_anticapitalism', 'defense_avg_chasiness', 'defense_avg_omniscience', 'defense_avg_tenaciousness', 'defense_avg_watchfulness',\n",
    "# #          'ballpark_grandiosity', 'ballpark_fortification', 'ballpark_obtuseness', 'ballpark_ominousness', 'ballpark_inconvenience', \n",
    "#          'ballpark_viscosity'#, 'ballpark_forwardness', 'ballpark_mysticism', 'ballpark_elongation'\n",
    "#         ]]\n",
    "# X = dfc[['roll', 'pitcher_ruthlessness', 'ballpark_forwardness']]\n",
    "# X = dfc[['roll', 'pitcher_ruthlessness']]\n",
    "y = dfc['passed']\n",
    "# X = X.drop('passed', axis=1)"
   ]
  },
  {
   "cell_type": "code",
   "execution_count": 1007,
   "metadata": {
    "pycharm": {
     "name": "#%%\n"
    }
   },
   "outputs": [
    {
     "data": {
      "text/html": [
       "<div>\n",
       "<style scoped>\n",
       "    .dataframe tbody tr th:only-of-type {\n",
       "        vertical-align: middle;\n",
       "    }\n",
       "\n",
       "    .dataframe tbody tr th {\n",
       "        vertical-align: top;\n",
       "    }\n",
       "\n",
       "    .dataframe thead th {\n",
       "        text-align: right;\n",
       "    }\n",
       "</style>\n",
       "<table border=\"1\" class=\"dataframe\">\n",
       "  <thead>\n",
       "    <tr style=\"text-align: right;\">\n",
       "      <th></th>\n",
       "      <th>roll</th>\n",
       "      <th>ruth_vibes</th>\n",
       "      <th>mox_vibes</th>\n",
       "      <th>invpath_scaled</th>\n",
       "      <th>ballpark_viscosity</th>\n",
       "    </tr>\n",
       "  </thead>\n",
       "  <tbody>\n",
       "    <tr>\n",
       "      <th>0</th>\n",
       "      <td>0.134451</td>\n",
       "      <td>0.786526</td>\n",
       "      <td>1.011165</td>\n",
       "      <td>0.999000</td>\n",
       "      <td>0.263230</td>\n",
       "    </tr>\n",
       "    <tr>\n",
       "      <th>6</th>\n",
       "      <td>0.679864</td>\n",
       "      <td>0.786526</td>\n",
       "      <td>1.011165</td>\n",
       "      <td>0.999000</td>\n",
       "      <td>0.263230</td>\n",
       "    </tr>\n",
       "    <tr>\n",
       "      <th>8</th>\n",
       "      <td>0.614558</td>\n",
       "      <td>0.377605</td>\n",
       "      <td>0.404359</td>\n",
       "      <td>0.256128</td>\n",
       "      <td>0.481398</td>\n",
       "    </tr>\n",
       "    <tr>\n",
       "      <th>9</th>\n",
       "      <td>0.681459</td>\n",
       "      <td>0.786526</td>\n",
       "      <td>1.011165</td>\n",
       "      <td>0.999000</td>\n",
       "      <td>0.263230</td>\n",
       "    </tr>\n",
       "    <tr>\n",
       "      <th>10</th>\n",
       "      <td>0.185785</td>\n",
       "      <td>0.999588</td>\n",
       "      <td>0.789592</td>\n",
       "      <td>0.719674</td>\n",
       "      <td>0.432771</td>\n",
       "    </tr>\n",
       "    <tr>\n",
       "      <th>...</th>\n",
       "      <td>...</td>\n",
       "      <td>...</td>\n",
       "      <td>...</td>\n",
       "      <td>...</td>\n",
       "      <td>...</td>\n",
       "    </tr>\n",
       "    <tr>\n",
       "      <th>57855</th>\n",
       "      <td>0.280522</td>\n",
       "      <td>0.813605</td>\n",
       "      <td>1.293796</td>\n",
       "      <td>0.478432</td>\n",
       "      <td>0.496203</td>\n",
       "    </tr>\n",
       "    <tr>\n",
       "      <th>57857</th>\n",
       "      <td>0.816519</td>\n",
       "      <td>0.813605</td>\n",
       "      <td>0.473597</td>\n",
       "      <td>0.612314</td>\n",
       "      <td>0.496203</td>\n",
       "    </tr>\n",
       "    <tr>\n",
       "      <th>57858</th>\n",
       "      <td>0.514811</td>\n",
       "      <td>0.813605</td>\n",
       "      <td>0.473597</td>\n",
       "      <td>0.612314</td>\n",
       "      <td>0.496203</td>\n",
       "    </tr>\n",
       "    <tr>\n",
       "      <th>57860</th>\n",
       "      <td>0.191693</td>\n",
       "      <td>0.813605</td>\n",
       "      <td>0.926786</td>\n",
       "      <td>0.839000</td>\n",
       "      <td>0.496203</td>\n",
       "    </tr>\n",
       "    <tr>\n",
       "      <th>57864</th>\n",
       "      <td>0.813183</td>\n",
       "      <td>0.900891</td>\n",
       "      <td>0.693653</td>\n",
       "      <td>0.655167</td>\n",
       "      <td>0.496203</td>\n",
       "    </tr>\n",
       "  </tbody>\n",
       "</table>\n",
       "<p>29545 rows × 5 columns</p>\n",
       "</div>"
      ],
      "text/plain": [
       "           roll  ruth_vibes  mox_vibes  invpath_scaled  ballpark_viscosity\n",
       "0      0.134451    0.786526   1.011165        0.999000            0.263230\n",
       "6      0.679864    0.786526   1.011165        0.999000            0.263230\n",
       "8      0.614558    0.377605   0.404359        0.256128            0.481398\n",
       "9      0.681459    0.786526   1.011165        0.999000            0.263230\n",
       "10     0.185785    0.999588   0.789592        0.719674            0.432771\n",
       "...         ...         ...        ...             ...                 ...\n",
       "57855  0.280522    0.813605   1.293796        0.478432            0.496203\n",
       "57857  0.816519    0.813605   0.473597        0.612314            0.496203\n",
       "57858  0.514811    0.813605   0.473597        0.612314            0.496203\n",
       "57860  0.191693    0.813605   0.926786        0.839000            0.496203\n",
       "57864  0.813183    0.900891   0.693653        0.655167            0.496203\n",
       "\n",
       "[29545 rows x 5 columns]"
      ]
     },
     "execution_count": 1007,
     "metadata": {},
     "output_type": "execute_result"
    }
   ],
   "source": [
    "X"
   ]
  },
  {
   "cell_type": "code",
   "execution_count": 1008,
   "metadata": {
    "pycharm": {
     "name": "#%%\n"
    }
   },
   "outputs": [
    {
     "name": "stdout",
     "output_type": "stream",
     "text": [
      "[[22169   161]\n",
      " [  169  7046]]\n",
      "              precision    recall  f1-score   support\n",
      "\n",
      "       False       0.99      0.99      0.99     22330\n",
      "        True       0.98      0.98      0.98      7215\n",
      "\n",
      "    accuracy                           0.99     29545\n",
      "   macro avg       0.99      0.98      0.98     29545\n",
      "weighted avg       0.99      0.99      0.99     29545\n",
      "\n"
     ]
    }
   ],
   "source": [
    "from sklearn.preprocessing import StandardScaler\n",
    "from sklearn.metrics import confusion_matrix\n",
    "from sklearn.metrics import classification_report\n",
    "from sklearn import svm\n",
    "\n",
    "# # trainedsvm = svm.SVC(kernel='linear').fit(X, y)\n",
    "# trainedsvm = svm.LinearSVC(dual=False, max_iter=100000).fit(X, y)\n",
    "# predictionsvm = trainedsvm.predict(X)\n",
    "# print(confusion_matrix(y,predictionsvm))\n",
    "# print(classification_report(y,predictionsvm))\n",
    "\n",
    "sc = StandardScaler()\n",
    "X2 = sc.fit_transform(X)\n",
    "\n",
    "trainedsvm = svm.LinearSVC(dual=False, max_iter=1000000, C=1000).fit(X2, y)\n",
    "predictionsvm = trainedsvm.predict(X2)\n",
    "print(confusion_matrix(y,predictionsvm))\n",
    "print(classification_report(y,predictionsvm))"
   ]
  },
  {
   "cell_type": "code",
   "execution_count": 1009,
   "metadata": {
    "scrolled": true
   },
   "outputs": [
    {
     "data": {
      "text/plain": [
       "0.9888305973938061"
      ]
     },
     "execution_count": 1009,
     "metadata": {},
     "output_type": "execute_result"
    }
   ],
   "source": [
    "sc.inverse_transform(trainedsvm.coef_)\n",
    "trainedsvm.coef_\n",
    "sc.scale_\n",
    "trainedsvm.score(X2, y)"
   ]
  },
  {
   "cell_type": "code",
   "execution_count": 1010,
   "metadata": {
    "pycharm": {
     "name": "#%%\n"
    }
   },
   "outputs": [],
   "source": [
    "coef = np.true_divide(trainedsvm.coef_,  sc.scale_)\n",
    "coef_scaled = coef / coef[0, 0]\n",
    "coef_list = coef_scaled.tolist()[0]"
   ]
  },
  {
   "cell_type": "code",
   "execution_count": 1011,
   "metadata": {
    "pycharm": {
     "name": "#%%\n"
    },
    "scrolled": false
   },
   "outputs": [
    {
     "data": {
      "text/plain": [
       "[(1.0, 'roll'),\n",
       " (-0.6493800663604213, 'ruth_vibes'),\n",
       " (0.27074297728503866, 'invpath_scaled'),\n",
       " (0.26680261578837383, 'mox_vibes'),\n",
       " (-0.2178580998442088, 'ballpark_viscosity')]"
      ]
     },
     "execution_count": 1011,
     "metadata": {},
     "output_type": "execute_result"
    }
   ],
   "source": [
    "# top6 = sorted(zip(coef_list, X.columns), key=lambda x: abs(x[0]), reverse=True)[0:6]\n",
    "sorted(zip(coef_list, X.columns), key=lambda x: abs(x[0]), reverse=True)#[0:6]"
   ]
  },
  {
   "cell_type": "code",
   "execution_count": 1012,
   "metadata": {
    "pycharm": {
     "name": "#%%\n"
    }
   },
   "outputs": [
    {
     "data": {
      "text/plain": [
       "array([-0.09413326])"
      ]
     },
     "execution_count": 1012,
     "metadata": {},
     "output_type": "execute_result"
    }
   ],
   "source": [
    "intercept = trainedsvm.intercept_ - np.dot(coef, sc.mean_)\n",
    "intercept_scaled = intercept / coef[0, 0]\n",
    "intercept_scaled"
   ]
  },
  {
   "cell_type": "code",
   "execution_count": 1013,
   "metadata": {},
   "outputs": [
    {
     "name": "stdout",
     "output_type": "stream",
     "text": [
      "Index(['roll', 'ruth_vibes', 'mox_vibes', 'invpath_scaled',\n",
      "       'ballpark_viscosity'],\n",
      "      dtype='object')\n"
     ]
    }
   ],
   "source": [
    "# factors = []\n",
    "# for factor in top6:\n",
    "#     factors.append(factor[1])\n",
    "# factors\n",
    "print(X.columns)\n",
    "# print(X.columns[6] + '/' + X.columns[5] + ':', coef_list[6]/coef_list[5])\n",
    "# print(X.columns[3] + '/' + X.columns[1] + ':', coef_list[3]/coef_list[1])\n",
    "# print(X.columns[4] + '/' + X.columns[2] + ':', coef_list[4]/coef_list[2])\n",
    "# coef_list"
   ]
  },
  {
   "cell_type": "code",
   "execution_count": 1014,
   "metadata": {},
   "outputs": [],
   "source": [
    "# dfc[\"threshold\"] = -1*(\\\n",
    "#     intercept_scaled + \\\n",
    "#     coef_scaled[0,1] * dfc[\"ruth_vibes\"] + \\\n",
    "#     coef_scaled[0,2] * dfc[\"mox_vibes\"] + \\\n",
    "#     coef_scaled[0,3] * dfc[\"invpath_scaled\"] + \\\n",
    "#     coef_scaled[0,4] * dfc[\"ballpark_viscosity\"])\n",
    "\n",
    "dfc[\"threshold\"] = -1*(\\\n",
    "    -0.10 + \\\n",
    "    -0.65 * df_balls[\"ruth_vibes\"] + \\\n",
    "    0.27 * df_balls[\"mox_vibes\"] + \\\n",
    "    0.27 * df_balls[\"invpath_scaled\"] + \\\n",
    "    -0.20 * df_balls[\"ballpark_viscosity\"])\n",
    "\n",
    "\n",
    "dfc['threshold'] = -intercept_scaled[0]\n",
    "df_balls['threshold'] = -intercept_scaled[0]\n",
    "for pair in zip(coef_list, X.columns):\n",
    "    if pair[1] != \"roll\":\n",
    "        dfc['threshold'] -= pair[0] * dfc[pair[1]]\n",
    "        df_balls['threshold'] -= pair[0] * df_balls[pair[1]]\n",
    "# dfc[\"svc\"] = \\\n",
    "#     0.5 * dfc[\"ruth_vibes\"] + \\\n",
    "#     -0.25 * dfc[\"mox_vibes\"] + \\\n",
    "#     0.25 * dfc[\"path_scaled\"] + \\\n",
    "#     0.2 * dfc[\"ballpark_viscosity\"] + \\\n",
    "#     0.10 * dfc[\"ruth_sq\"]"
   ]
  },
  {
   "cell_type": "code",
   "execution_count": 1015,
   "metadata": {
    "scrolled": false
   },
   "outputs": [
    {
     "name": "stdout",
     "output_type": "stream",
     "text": [
      "1361\n"
     ]
    },
    {
     "data": {
      "image/png": "[encoded data removed]",
      "text/plain": [
       "<Figure size 720x720 with 1 Axes>"
      ]
     },
     "metadata": {
      "needs_background": "light"
     },
     "output_type": "display_data"
    }
   ],
   "source": [
    "# dfc[\"threshold\"] = -1*(\\\n",
    "#     1.00 * 0.175 + \\\n",
    "#     -0.65 * dfc[\"ruth_vibes\"] + \\\n",
    "#     -0.27 * dfc[\"path_scaled\"] + \\\n",
    "#     0.27 * dfc[\"mox_scaled\"] + \\\n",
    "#     -0.20 * dfc[\"ballpark_viscosity\"] + \\\n",
    "#     0.04 * dfc[\"mox_vibes\"] + \\\n",
    "#     0.008 * dfc[\"path_vibes\"])\n",
    "# dfc[\"threshold\"] = dfc[\"svc\"] - 0.125\n",
    "# dfc[\"threshold\"] = dfc[\"svc\"] - intercept_scaled\n",
    "# dfc.loc[(dfc[\"threshold\"] > 0.95), \"threshold\"] = 0.95\n",
    "\n",
    "\n",
    "dfc[\"offset\"] = dfc[\"roll\"] - dfc[\"threshold\"]\n",
    "df_balls[\"offset\"] = df_balls[\"roll\"] - df_balls[\"threshold\"]\n",
    "\n",
    "outliers = df_balls.copy()[(df_balls[\"passed\"] & (df_balls[\"offset\"] > 0)) | (~df_balls[\"passed\"] & (df_balls[\"offset\"] < 0))]\n",
    "# outliers = dfc.copy()[(dfc[\"passed\"] & (dfc[\"offset\"] > 0)) | (~dfc[\"passed\"] & (dfc[\"offset\"] < 0))]\n",
    "\n",
    "print(len(outliers))\n",
    "\n",
    "fig, ax = plt.subplots(1)\n",
    "fig.set_size_inches(10, 10)\n",
    "x_val = \"threshold\"\n",
    "ax.scatter(outliers[~outliers['passed']][x_val], outliers[~outliers['passed']][\"offset\"], color=\"red\", label=\"No Swing\")\n",
    "ax.scatter(outliers[outliers['passed']][x_val], outliers[outliers['passed']][\"offset\"], color=\"blue\", label=\"Swing\")\n",
    "ax.set_xlabel(x_val)\n",
    "ax.set_ylabel('offset')\n",
    "ax.grid()\n",
    "ax.legend()\n",
    "# ax.set_xlim(0, 1.4)\n",
    "# ax.set_xlim(0.1, 0.7)\n",
    "# ax.set_ylim(-0.06, 0.08)\n",
    "fig.savefig(\"swing_fit_outliers.png\", facecolor='white')"
   ]
  },
  {
   "cell_type": "code",
   "execution_count": 1040,
   "metadata": {},
   "outputs": [
    {
     "data": {
      "text/html": [
       "<div>\n",
       "<style scoped>\n",
       "    .dataframe tbody tr th:only-of-type {\n",
       "        vertical-align: middle;\n",
       "    }\n",
       "\n",
       "    .dataframe tbody tr th {\n",
       "        vertical-align: top;\n",
       "    }\n",
       "\n",
       "    .dataframe thead th {\n",
       "        text-align: right;\n",
       "    }\n",
       "</style>\n",
       "<table border=\"1\" class=\"dataframe\">\n",
       "  <thead>\n",
       "    <tr style=\"text-align: right;\">\n",
       "      <th></th>\n",
       "      <th>event_type</th>\n",
       "      <th>roll</th>\n",
       "      <th>threshold</th>\n",
       "      <th>offset</th>\n",
       "      <th>batter_moxie</th>\n",
       "      <th>batter_patheticism</th>\n",
       "      <th>pitcher_ruthlessness</th>\n",
       "      <th>batter_vibes</th>\n",
       "      <th>pitcher_vibes</th>\n",
       "      <th>mox_vibes</th>\n",
       "      <th>...</th>\n",
       "      <th>game_id</th>\n",
       "      <th>play_count</th>\n",
       "      <th>batter_mods</th>\n",
       "      <th>pitcher_mods</th>\n",
       "      <th>batting_team_mods</th>\n",
       "      <th>pitching_team_mods</th>\n",
       "      <th>weather</th>\n",
       "      <th>day</th>\n",
       "      <th>game_id</th>\n",
       "      <th>play_count</th>\n",
       "    </tr>\n",
       "  </thead>\n",
       "  <tbody>\n",
       "    <tr>\n",
       "      <th>24214</th>\n",
       "      <td>Out</td>\n",
       "      <td>0.434916</td>\n",
       "      <td>-0.007818</td>\n",
       "      <td>0.442735</td>\n",
       "      <td>0.645117</td>\n",
       "      <td>0.050000</td>\n",
       "      <td>0.555879</td>\n",
       "      <td>0.217382</td>\n",
       "      <td>0.409479</td>\n",
       "      <td>1.346328</td>\n",
       "      <td>...</td>\n",
       "      <td>475a6c72-bb27-437d-9779-aacd0be2acbe</td>\n",
       "      <td>264</td>\n",
       "      <td>ALTERNATE;CHUNKY</td>\n",
       "      <td>ALTERNATE</td>\n",
       "      <td>BASE_INSTINCTS</td>\n",
       "      <td>LIFE_OF_PARTY;ELECTRIC</td>\n",
       "      <td>10</td>\n",
       "      <td>13</td>\n",
       "      <td>475a6c72-bb27-437d-9779-aacd0be2acbe</td>\n",
       "      <td>264</td>\n",
       "    </tr>\n",
       "    <tr>\n",
       "      <th>56084</th>\n",
       "      <td>StrikeSwinging</td>\n",
       "      <td>0.099723</td>\n",
       "      <td>-0.164006</td>\n",
       "      <td>0.263729</td>\n",
       "      <td>1.181096</td>\n",
       "      <td>0.367858</td>\n",
       "      <td>0.232161</td>\n",
       "      <td>0.076364</td>\n",
       "      <td>-0.170581</td>\n",
       "      <td>1.199135</td>\n",
       "      <td>...</td>\n",
       "      <td>e5229a96-dfb7-4ce2-a610-3e92f688e092</td>\n",
       "      <td>286</td>\n",
       "      <td>NaN</td>\n",
       "      <td>FRIEND_OF_CROWS</td>\n",
       "      <td>NaN</td>\n",
       "      <td>GROWTH</td>\n",
       "      <td>13</td>\n",
       "      <td>101</td>\n",
       "      <td>e5229a96-dfb7-4ce2-a610-3e92f688e092</td>\n",
       "      <td>286</td>\n",
       "    </tr>\n",
       "    <tr>\n",
       "      <th>15271</th>\n",
       "      <td>Foul</td>\n",
       "      <td>0.097619</td>\n",
       "      <td>-0.161847</td>\n",
       "      <td>0.259465</td>\n",
       "      <td>1.099834</td>\n",
       "      <td>0.490344</td>\n",
       "      <td>0.104391</td>\n",
       "      <td>0.172333</td>\n",
       "      <td>-0.131032</td>\n",
       "      <td>1.137742</td>\n",
       "      <td>...</td>\n",
       "      <td>0b4a26a8-46d3-4d2c-a6eb-5e1d3682f1df</td>\n",
       "      <td>145</td>\n",
       "      <td>NaN</td>\n",
       "      <td>NaN</td>\n",
       "      <td>HIGH_PRESSURE</td>\n",
       "      <td>TRAVELING;PARTY_TIME</td>\n",
       "      <td>1</td>\n",
       "      <td>96</td>\n",
       "      <td>0b4a26a8-46d3-4d2c-a6eb-5e1d3682f1df</td>\n",
       "      <td>145</td>\n",
       "    </tr>\n",
       "    <tr>\n",
       "      <th>15041</th>\n",
       "      <td>StrikeSwinging</td>\n",
       "      <td>0.096207</td>\n",
       "      <td>-0.161847</td>\n",
       "      <td>0.258053</td>\n",
       "      <td>1.099834</td>\n",
       "      <td>0.490344</td>\n",
       "      <td>0.104391</td>\n",
       "      <td>0.172333</td>\n",
       "      <td>-0.131032</td>\n",
       "      <td>1.137742</td>\n",
       "      <td>...</td>\n",
       "      <td>0b4a26a8-46d3-4d2c-a6eb-5e1d3682f1df</td>\n",
       "      <td>69</td>\n",
       "      <td>NaN</td>\n",
       "      <td>NaN</td>\n",
       "      <td>HIGH_PRESSURE</td>\n",
       "      <td>TRAVELING;PARTY_TIME</td>\n",
       "      <td>1</td>\n",
       "      <td>96</td>\n",
       "      <td>0b4a26a8-46d3-4d2c-a6eb-5e1d3682f1df</td>\n",
       "      <td>69</td>\n",
       "    </tr>\n",
       "    <tr>\n",
       "      <th>7693</th>\n",
       "      <td>Out</td>\n",
       "      <td>0.093615</td>\n",
       "      <td>-0.161328</td>\n",
       "      <td>0.254943</td>\n",
       "      <td>1.274794</td>\n",
       "      <td>0.284940</td>\n",
       "      <td>0.300408</td>\n",
       "      <td>0.271386</td>\n",
       "      <td>0.125269</td>\n",
       "      <td>1.343986</td>\n",
       "      <td>...</td>\n",
       "      <td>361927c0-79d5-4e11-bab0-a55a23ed564b</td>\n",
       "      <td>157</td>\n",
       "      <td>NaN</td>\n",
       "      <td>NaN</td>\n",
       "      <td>LIFE_OF_PARTY;ELECTRIC</td>\n",
       "      <td>BOTTOM_DWELLER</td>\n",
       "      <td>11</td>\n",
       "      <td>88</td>\n",
       "      <td>361927c0-79d5-4e11-bab0-a55a23ed564b</td>\n",
       "      <td>157</td>\n",
       "    </tr>\n",
       "    <tr>\n",
       "      <th>...</th>\n",
       "      <td>...</td>\n",
       "      <td>...</td>\n",
       "      <td>...</td>\n",
       "      <td>...</td>\n",
       "      <td>...</td>\n",
       "      <td>...</td>\n",
       "      <td>...</td>\n",
       "      <td>...</td>\n",
       "      <td>...</td>\n",
       "      <td>...</td>\n",
       "      <td>...</td>\n",
       "      <td>...</td>\n",
       "      <td>...</td>\n",
       "      <td>...</td>\n",
       "      <td>...</td>\n",
       "      <td>...</td>\n",
       "      <td>...</td>\n",
       "      <td>...</td>\n",
       "      <td>...</td>\n",
       "      <td>...</td>\n",
       "      <td>...</td>\n",
       "    </tr>\n",
       "    <tr>\n",
       "      <th>8761</th>\n",
       "      <td>Ball</td>\n",
       "      <td>0.492352</td>\n",
       "      <td>0.630630</td>\n",
       "      <td>-0.138278</td>\n",
       "      <td>0.307426</td>\n",
       "      <td>0.382395</td>\n",
       "      <td>1.098939</td>\n",
       "      <td>0.855650</td>\n",
       "      <td>-0.040855</td>\n",
       "      <td>0.360035</td>\n",
       "      <td>...</td>\n",
       "      <td>7450e01f-703d-4c09-86eb-0b5b05fe9779</td>\n",
       "      <td>233</td>\n",
       "      <td>SPICY;ON_FIRE</td>\n",
       "      <td>HARD_BOILED</td>\n",
       "      <td>NaN</td>\n",
       "      <td>BIRD_SEED</td>\n",
       "      <td>12</td>\n",
       "      <td>89</td>\n",
       "      <td>7450e01f-703d-4c09-86eb-0b5b05fe9779</td>\n",
       "      <td>233</td>\n",
       "    </tr>\n",
       "    <tr>\n",
       "      <th>8540</th>\n",
       "      <td>Ball</td>\n",
       "      <td>0.208696</td>\n",
       "      <td>0.371207</td>\n",
       "      <td>-0.162512</td>\n",
       "      <td>0.507344</td>\n",
       "      <td>0.837388</td>\n",
       "      <td>0.415525</td>\n",
       "      <td>-0.292824</td>\n",
       "      <td>0.268245</td>\n",
       "      <td>0.692565</td>\n",
       "      <td>...</td>\n",
       "      <td>524cedb4-7165-462c-9a16-f9c187f95f37</td>\n",
       "      <td>150</td>\n",
       "      <td>NaN</td>\n",
       "      <td>NaN</td>\n",
       "      <td>HIGH_PRESSURE;OVERPERFORMING</td>\n",
       "      <td>NaN</td>\n",
       "      <td>18</td>\n",
       "      <td>89</td>\n",
       "      <td>524cedb4-7165-462c-9a16-f9c187f95f37</td>\n",
       "      <td>150</td>\n",
       "    </tr>\n",
       "    <tr>\n",
       "      <th>38779</th>\n",
       "      <td>Ball</td>\n",
       "      <td>0.515564</td>\n",
       "      <td>0.694989</td>\n",
       "      <td>-0.179425</td>\n",
       "      <td>0.307426</td>\n",
       "      <td>0.382395</td>\n",
       "      <td>1.021097</td>\n",
       "      <td>0.936348</td>\n",
       "      <td>0.832481</td>\n",
       "      <td>0.364997</td>\n",
       "      <td>...</td>\n",
       "      <td>be86d7d6-4aea-4fdd-85fd-7cd2b0ab6a59</td>\n",
       "      <td>83</td>\n",
       "      <td>SPICY;ON_FIRE</td>\n",
       "      <td>NaN</td>\n",
       "      <td>NaN</td>\n",
       "      <td>MAINTENANCE_MODE</td>\n",
       "      <td>1</td>\n",
       "      <td>33</td>\n",
       "      <td>be86d7d6-4aea-4fdd-85fd-7cd2b0ab6a59</td>\n",
       "      <td>83</td>\n",
       "    </tr>\n",
       "    <tr>\n",
       "      <th>50622</th>\n",
       "      <td>Ball</td>\n",
       "      <td>0.272135</td>\n",
       "      <td>0.474431</td>\n",
       "      <td>-0.202296</td>\n",
       "      <td>0.692911</td>\n",
       "      <td>0.141570</td>\n",
       "      <td>0.951062</td>\n",
       "      <td>-0.571698</td>\n",
       "      <td>0.428437</td>\n",
       "      <td>0.613684</td>\n",
       "      <td>...</td>\n",
       "      <td>c471e9cc-308a-4e42-822d-1388f7b427e5</td>\n",
       "      <td>120</td>\n",
       "      <td>SIPHON;SPICY;PERK;ON_FIRE</td>\n",
       "      <td>ALTERNATE;PERK</td>\n",
       "      <td>HIGH_PRESSURE</td>\n",
       "      <td>LOVE</td>\n",
       "      <td>1</td>\n",
       "      <td>45</td>\n",
       "      <td>c471e9cc-308a-4e42-822d-1388f7b427e5</td>\n",
       "      <td>120</td>\n",
       "    </tr>\n",
       "    <tr>\n",
       "      <th>3805</th>\n",
       "      <td>Ball</td>\n",
       "      <td>0.489921</td>\n",
       "      <td>0.784387</td>\n",
       "      <td>-0.294465</td>\n",
       "      <td>0.864867</td>\n",
       "      <td>0.310924</td>\n",
       "      <td>1.327721</td>\n",
       "      <td>0.083382</td>\n",
       "      <td>0.718561</td>\n",
       "      <td>0.879290</td>\n",
       "      <td>...</td>\n",
       "      <td>3841a5cf-d982-4b21-ae81-80d8347565dc</td>\n",
       "      <td>184</td>\n",
       "      <td>SPICY;ON_FIRE</td>\n",
       "      <td>NaN</td>\n",
       "      <td>NaN</td>\n",
       "      <td>LOVE</td>\n",
       "      <td>18</td>\n",
       "      <td>84</td>\n",
       "      <td>3841a5cf-d982-4b21-ae81-80d8347565dc</td>\n",
       "      <td>184</td>\n",
       "    </tr>\n",
       "  </tbody>\n",
       "</table>\n",
       "<p>1361 rows × 29 columns</p>\n",
       "</div>"
      ],
      "text/plain": [
       "           event_type      roll  threshold    offset  batter_moxie  \\\n",
       "24214             Out  0.434916  -0.007818  0.442735      0.645117   \n",
       "56084  StrikeSwinging  0.099723  -0.164006  0.263729      1.181096   \n",
       "15271            Foul  0.097619  -0.161847  0.259465      1.099834   \n",
       "15041  StrikeSwinging  0.096207  -0.161847  0.258053      1.099834   \n",
       "7693              Out  0.093615  -0.161328  0.254943      1.274794   \n",
       "...               ...       ...        ...       ...           ...   \n",
       "8761             Ball  0.492352   0.630630 -0.138278      0.307426   \n",
       "8540             Ball  0.208696   0.371207 -0.162512      0.507344   \n",
       "38779            Ball  0.515564   0.694989 -0.179425      0.307426   \n",
       "50622            Ball  0.272135   0.474431 -0.202296      0.692911   \n",
       "3805             Ball  0.489921   0.784387 -0.294465      0.864867   \n",
       "\n",
       "       batter_patheticism  pitcher_ruthlessness  batter_vibes  pitcher_vibes  \\\n",
       "24214            0.050000              0.555879      0.217382       0.409479   \n",
       "56084            0.367858              0.232161      0.076364      -0.170581   \n",
       "15271            0.490344              0.104391      0.172333      -0.131032   \n",
       "15041            0.490344              0.104391      0.172333      -0.131032   \n",
       "7693             0.284940              0.300408      0.271386       0.125269   \n",
       "...                   ...                   ...           ...            ...   \n",
       "8761             0.382395              1.098939      0.855650      -0.040855   \n",
       "8540             0.837388              0.415525     -0.292824       0.268245   \n",
       "38779            0.382395              1.021097      0.936348       0.832481   \n",
       "50622            0.141570              0.951062     -0.571698       0.428437   \n",
       "3805             0.310924              1.327721      0.083382       0.718561   \n",
       "\n",
       "       mox_vibes  ...                               game_id play_count  \\\n",
       "24214   1.346328  ...  475a6c72-bb27-437d-9779-aacd0be2acbe        264   \n",
       "56084   1.199135  ...  e5229a96-dfb7-4ce2-a610-3e92f688e092        286   \n",
       "15271   1.137742  ...  0b4a26a8-46d3-4d2c-a6eb-5e1d3682f1df        145   \n",
       "15041   1.137742  ...  0b4a26a8-46d3-4d2c-a6eb-5e1d3682f1df         69   \n",
       "7693    1.343986  ...  361927c0-79d5-4e11-bab0-a55a23ed564b        157   \n",
       "...          ...  ...                                   ...        ...   \n",
       "8761    0.360035  ...  7450e01f-703d-4c09-86eb-0b5b05fe9779        233   \n",
       "8540    0.692565  ...  524cedb4-7165-462c-9a16-f9c187f95f37        150   \n",
       "38779   0.364997  ...  be86d7d6-4aea-4fdd-85fd-7cd2b0ab6a59         83   \n",
       "50622   0.613684  ...  c471e9cc-308a-4e42-822d-1388f7b427e5        120   \n",
       "3805    0.879290  ...  3841a5cf-d982-4b21-ae81-80d8347565dc        184   \n",
       "\n",
       "                     batter_mods     pitcher_mods  \\\n",
       "24214           ALTERNATE;CHUNKY        ALTERNATE   \n",
       "56084                        NaN  FRIEND_OF_CROWS   \n",
       "15271                        NaN              NaN   \n",
       "15041                        NaN              NaN   \n",
       "7693                         NaN              NaN   \n",
       "...                          ...              ...   \n",
       "8761               SPICY;ON_FIRE      HARD_BOILED   \n",
       "8540                         NaN              NaN   \n",
       "38779              SPICY;ON_FIRE              NaN   \n",
       "50622  SIPHON;SPICY;PERK;ON_FIRE   ALTERNATE;PERK   \n",
       "3805               SPICY;ON_FIRE              NaN   \n",
       "\n",
       "                  batting_team_mods      pitching_team_mods  weather  day  \\\n",
       "24214                BASE_INSTINCTS  LIFE_OF_PARTY;ELECTRIC       10   13   \n",
       "56084                           NaN                  GROWTH       13  101   \n",
       "15271                 HIGH_PRESSURE    TRAVELING;PARTY_TIME        1   96   \n",
       "15041                 HIGH_PRESSURE    TRAVELING;PARTY_TIME        1   96   \n",
       "7693         LIFE_OF_PARTY;ELECTRIC          BOTTOM_DWELLER       11   88   \n",
       "...                             ...                     ...      ...  ...   \n",
       "8761                            NaN               BIRD_SEED       12   89   \n",
       "8540   HIGH_PRESSURE;OVERPERFORMING                     NaN       18   89   \n",
       "38779                           NaN        MAINTENANCE_MODE        1   33   \n",
       "50622                 HIGH_PRESSURE                    LOVE        1   45   \n",
       "3805                            NaN                    LOVE       18   84   \n",
       "\n",
       "                                    game_id play_count  \n",
       "24214  475a6c72-bb27-437d-9779-aacd0be2acbe        264  \n",
       "56084  e5229a96-dfb7-4ce2-a610-3e92f688e092        286  \n",
       "15271  0b4a26a8-46d3-4d2c-a6eb-5e1d3682f1df        145  \n",
       "15041  0b4a26a8-46d3-4d2c-a6eb-5e1d3682f1df         69  \n",
       "7693   361927c0-79d5-4e11-bab0-a55a23ed564b        157  \n",
       "...                                     ...        ...  \n",
       "8761   7450e01f-703d-4c09-86eb-0b5b05fe9779        233  \n",
       "8540   524cedb4-7165-462c-9a16-f9c187f95f37        150  \n",
       "38779  be86d7d6-4aea-4fdd-85fd-7cd2b0ab6a59         83  \n",
       "50622  c471e9cc-308a-4e42-822d-1388f7b427e5        120  \n",
       "3805   3841a5cf-d982-4b21-ae81-80d8347565dc        184  \n",
       "\n",
       "[1361 rows x 29 columns]"
      ]
     },
     "execution_count": 1040,
     "metadata": {},
     "output_type": "execute_result"
    }
   ],
   "source": [
    "col_list = ['event_type',\n",
    "            'roll',\n",
    "            'threshold',\n",
    "            'offset',\n",
    "            'batter_moxie',\n",
    "            'batter_patheticism',\n",
    "            'pitcher_ruthlessness',\n",
    "            'batter_vibes',\n",
    "            'pitcher_vibes',\n",
    "            'mox_vibes',\n",
    "            'path_vibes',\n",
    "            'ruth_vibes',\n",
    "            'batter_mul',\n",
    "            'pitcher_mul',\n",
    "            'ballpark_viscosity',\n",
    "            'ballpark_forwardness',\n",
    "            'batter_musclitude',\n",
    "            'batter_name',\n",
    "            'pitcher_name',\n",
    "            'game_id',\n",
    "            'play_count',\n",
    "            'batter_mods',\n",
    "            'pitcher_mods',\n",
    "            'batting_team_mods',\n",
    "            'pitching_team_mods',\n",
    "            'weather',\n",
    "            'day',\n",
    "            'game_id',\n",
    "            'play_count']\n",
    "outliers.sort_values('offset', ascending=False).loc[:, col_list]"
   ]
  },
  {
   "cell_type": "code",
   "execution_count": 1039,
   "metadata": {},
   "outputs": [
    {
     "data": {
      "text/plain": [
       "event_type                                               Out\n",
       "roll                                                0.434916\n",
       "threshold                                          -0.007818\n",
       "offset                                              0.442735\n",
       "batter_moxie                                        0.645117\n",
       "batter_patheticism                                      0.05\n",
       "pitcher_ruthlessness                                0.555879\n",
       "batter_vibes                                        0.217382\n",
       "pitcher_vibes                                       0.409479\n",
       "mox_vibes                                           1.346328\n",
       "path_vibes                                          0.991303\n",
       "ruth_vibes                                          0.601404\n",
       "batter_mul                                               2.0\n",
       "pitcher_mul                                              1.0\n",
       "ballpark_viscosity                                  0.506666\n",
       "ballpark_forwardness                                0.415052\n",
       "batter_musclitude                                   0.187481\n",
       "batter_name                                  Igneus Delacruz\n",
       "pitcher_name                                 Rivers Clembons\n",
       "game_id                 475a6c72-bb27-437d-9779-aacd0be2acbe\n",
       "play_count                                               264\n",
       "batter_mods                                 ALTERNATE;CHUNKY\n",
       "pitcher_mods                                       ALTERNATE\n",
       "batting_team_mods                             BASE_INSTINCTS\n",
       "pitching_team_mods                    LIFE_OF_PARTY;ELECTRIC\n",
       "weather                                                   10\n",
       "day                                                       13\n",
       "game_id                 475a6c72-bb27-437d-9779-aacd0be2acbe\n",
       "play_count                                               264\n",
       "is_strike                                              False\n",
       "Name: 24214, dtype: object"
      ]
     },
     "execution_count": 1039,
     "metadata": {},
     "output_type": "execute_result"
    }
   ],
   "source": [
    "out1 = outliers.loc[24214,col_list]\n",
    "# out1 = outliers.loc[23888,col_list]\n",
    "out1"
   ]
  },
  {
   "cell_type": "code",
   "execution_count": 1036,
   "metadata": {},
   "outputs": [
    {
     "data": {
      "text/plain": [
       "0.5009277007132517"
      ]
     },
     "execution_count": 1036,
     "metadata": {},
     "output_type": "execute_result"
    }
   ],
   "source": [
    "# was this a strike?\n",
    "# constant = 0.2 if not self.is_flinching() else 0.4\n",
    "# threshold = constant + 0.3 * (ruth * (1 + 0.2 * vibes)) + 0.2 * fwd + 0.1 * musc\n",
    "# threshold = min(threshold, 0.85)\n",
    "# strike: 0.493356368343993\n",
    "0.2 + 0.3*out1['ruth_vibes'] + 0.2*out1['ballpark_forwardness'] + 0.1*out1['batter_musclitude']*2"
   ]
  },
  {
   "cell_type": "code",
   "execution_count": 990,
   "metadata": {},
   "outputs": [
    {
     "data": {
      "text/plain": [
       "0.67316396467707"
      ]
     },
     "execution_count": 990,
     "metadata": {},
     "output_type": "execute_result"
    }
   ],
   "source": [
    "out1['batter_moxie']*(1 + 0.2*out1['batter_vibes'])"
   ]
  },
  {
   "cell_type": "code",
   "execution_count": 989,
   "metadata": {},
   "outputs": [
    {
     "data": {
      "text/plain": [
       "-0.27856132933626687"
      ]
     },
     "execution_count": 989,
     "metadata": {},
     "output_type": "execute_result"
    }
   ],
   "source": [
    "-1*(2.0 * out1['mox_vibes']*0.26680261578837383 + \\\n",
    "    2.0 * 0.27074297728503866*(1 - out1['batter_patheticism']) + \\\n",
    "    0.5 * -0.6493800663604213*out1['ruth_vibes'] + \\\n",
    "    1.0 * -0.2178580998442088*out1['ballpark_viscosity'] + \\\n",
    "    intercept_scaled[0])"
   ]
  },
  {
   "cell_type": "code",
   "execution_count": 855,
   "metadata": {},
   "outputs": [
    {
     "data": {
      "text/plain": [
       "[1.0,\n",
       " -0.6493800663604213,\n",
       " 0.26680261578837383,\n",
       " 0.27074297728503866,\n",
       " -0.2178580998442088]"
      ]
     },
     "execution_count": 855,
     "metadata": {},
     "output_type": "execute_result"
    }
   ],
   "source": [
    "coef_list"
   ]
  },
  {
   "cell_type": "code",
   "execution_count": 863,
   "metadata": {},
   "outputs": [
    {
     "data": {
      "text/plain": [
       "Index(['roll', 'ruth_vibes', 'mox_vibes', 'invpath_scaled',\n",
       "       'ballpark_viscosity'],\n",
       "      dtype='object')"
      ]
     },
     "execution_count": 863,
     "metadata": {},
     "output_type": "execute_result"
    }
   ],
   "source": [
    "X.columns"
   ]
  },
  {
   "cell_type": "code",
   "execution_count": 991,
   "metadata": {},
   "outputs": [
    {
     "data": {
      "text/plain": [
       "array([-0.09413326])"
      ]
     },
     "execution_count": 991,
     "metadata": {},
     "output_type": "execute_result"
    }
   ],
   "source": [
    "intercept_scaled"
   ]
  },
  {
   "cell_type": "code",
   "execution_count": null,
   "metadata": {},
   "outputs": [],
   "source": []
  },
  {
   "cell_type": "code",
   "execution_count": 800,
   "metadata": {},
   "outputs": [
    {
     "name": "stdout",
     "output_type": "stream",
     "text": [
      "[[22293    37]\n",
      " [   43  7172]]\n",
      "              precision    recall  f1-score   support\n",
      "\n",
      "       False       1.00      1.00      1.00     22330\n",
      "        True       0.99      0.99      0.99      7215\n",
      "\n",
      "    accuracy                           1.00     29545\n",
      "   macro avg       1.00      1.00      1.00     29545\n",
      "weighted avg       1.00      1.00      1.00     29545\n",
      "\n"
     ]
    }
   ],
   "source": [
    "# let's do *another svc* but polynomial this time\n",
    "Xp = dfc[['roll', 'threshold']]\n",
    "\n",
    "scp = StandardScaler()\n",
    "Xp2 = scp.fit_transform(Xp)\n",
    "\n",
    "trainedsvm_p = svm.SVC(kernel='poly', degree=3, max_iter=1000000, C=1000).fit(Xp2, y)\n",
    "predictionsvm_p = trainedsvm_p.predict(Xp2)\n",
    "print(confusion_matrix(y,predictionsvm_p))\n",
    "print(classification_report(y,predictionsvm_p))"
   ]
  },
  {
   "cell_type": "code",
   "execution_count": 770,
   "metadata": {},
   "outputs": [
    {
     "data": {
      "text/plain": [
       "array([-38.78499559])"
      ]
     },
     "execution_count": 770,
     "metadata": {},
     "output_type": "execute_result"
    }
   ],
   "source": [
    "trainedsvm_p.intercept_"
   ]
  },
  {
   "cell_type": "code",
   "execution_count": 771,
   "metadata": {},
   "outputs": [],
   "source": [
    "swings = dfc[dfc['passed']]\n",
    "looks = dfc[~dfc['passed']]"
   ]
  },
  {
   "cell_type": "code",
   "execution_count": 772,
   "metadata": {},
   "outputs": [
    {
     "data": {
      "text/plain": [
       "<matplotlib.collections.PathCollection at 0x7fa6ab80af40>"
      ]
     },
     "execution_count": 772,
     "metadata": {},
     "output_type": "execute_result"
    },
    {
     "data": {
      "image/png": "[encoded data removed]",
      "text/plain": [
       "<Figure size 432x288 with 1 Axes>"
      ]
     },
     "metadata": {
      "needs_background": "light"
     },
     "output_type": "display_data"
    }
   ],
   "source": [
    "plt.scatter(swings[x_val], swings[\"roll\"], color=\"blue\", label=\"Swing\", marker=CARETRIGHTBASE)\n",
    "# plt.plot(x, series_s(x),'k')"
   ]
  },
  {
   "cell_type": "code",
   "execution_count": 773,
   "metadata": {},
   "outputs": [
    {
     "data": {
      "text/plain": [
       "0.06682047026673703"
      ]
     },
     "execution_count": 773,
     "metadata": {},
     "output_type": "execute_result"
    }
   ],
   "source": [
    "swings['threshold'].min()"
   ]
  },
  {
   "cell_type": "code",
   "execution_count": 774,
   "metadata": {},
   "outputs": [],
   "source": [
    "x = np.arange(0.24, 0.8, 0.001)\n",
    "y_s = np.zeros(x.shape)\n",
    "y_l = np.zeros(x.shape)\n",
    "for i, n in enumerate(x):\n",
    "    y_s[i] = swings[((swings['threshold'] > n) & (swings['threshold'] <= n + 0.01))]['roll'].max()\n",
    "    y_l[i] = looks[((looks['threshold'] > n) & (looks['threshold'] <= n + 0.01))]['roll'].min()"
   ]
  },
  {
   "cell_type": "code",
   "execution_count": 775,
   "metadata": {},
   "outputs": [
    {
     "data": {
      "image/png": "[encoded data removed]",
      "text/plain": [
       "<Figure size 432x288 with 1 Axes>"
      ]
     },
     "metadata": {
      "needs_background": "light"
     },
     "output_type": "display_data"
    }
   ],
   "source": [
    "plt.plot(x, y_s)\n",
    "plt.plot(x, y_l)\n",
    "plt.grid()"
   ]
  },
  {
   "cell_type": "code",
   "execution_count": 776,
   "metadata": {},
   "outputs": [],
   "source": [
    "from numpy.polynomial import Polynomial\n",
    "\n",
    "series_s = Polynomial.fit(x, y_s, 2)\n",
    "series_l = Polynomial.fit(x, y_l, 2)"
   ]
  },
  {
   "cell_type": "code",
   "execution_count": 777,
   "metadata": {},
   "outputs": [
    {
     "name": "stdout",
     "output_type": "stream",
     "text": [
      "0.516977282968868 + 0.2996437218285165·x¹ + 0.019685574171296592·x²\n",
      "0.520052551042309 + 0.31940559375887073·x¹ + 0.040885655777554424·x²\n"
     ]
    }
   ],
   "source": [
    "print(series_s)\n",
    "print(series_l)"
   ]
  },
  {
   "cell_type": "code",
   "execution_count": 778,
   "metadata": {},
   "outputs": [
    {
     "data": {
      "text/latex": [
       "$x \\mapsto \\text{0.02804393160749913} + \\text{0.810252254531868}\\,x + \\text{0.25199067042535783}\\,x^{2}$"
      ],
      "text/plain": [
       "Polynomial([0.02804393, 0.81025225, 0.25199067], domain=[-1.,  1.], window=[-1.,  1.])"
      ]
     },
     "execution_count": 778,
     "metadata": {},
     "output_type": "execute_result"
    }
   ],
   "source": [
    "series_s.convert()"
   ]
  },
  {
   "cell_type": "code",
   "execution_count": 779,
   "metadata": {},
   "outputs": [
    {
     "data": {
      "text/latex": [
       "$x \\mapsto \\text{0.06762771801212625} + \\text{0.59899535783264}\\,x + \\text{0.5233682147401518}\\,x^{2}$"
      ],
      "text/plain": [
       "Polynomial([0.06762772, 0.59899536, 0.52336821], domain=[-1.,  1.], window=[-1.,  1.])"
      ]
     },
     "execution_count": 779,
     "metadata": {},
     "output_type": "execute_result"
    }
   ],
   "source": [
    "series_l.convert()"
   ]
  },
  {
   "cell_type": "code",
   "execution_count": 780,
   "metadata": {},
   "outputs": [
    {
     "data": {
      "image/png": "[encoded data removed]",
      "text/plain": [
       "<Figure size 432x288 with 1 Axes>"
      ]
     },
     "metadata": {
      "needs_background": "light"
     },
     "output_type": "display_data"
    }
   ],
   "source": [
    "plt.plot(x, y_s - series_s(x), '.')\n",
    "plt.plot(x, y_l - series_l(x), '.')\n",
    "plt.grid()"
   ]
  },
  {
   "cell_type": "code",
   "execution_count": 781,
   "metadata": {},
   "outputs": [
    {
     "name": "stdout",
     "output_type": "stream",
     "text": [
      "[0.51851492 0.30952466 0.03028561]\n"
     ]
    }
   ],
   "source": [
    "print((series_s.coef + series_l.coef)/2)"
   ]
  },
  {
   "cell_type": "code",
   "execution_count": null,
   "metadata": {},
   "outputs": [],
   "source": []
  }
 ],
 "metadata": {
  "kernelspec": {
   "display_name": "Python 3 (ipykernel)",
   "language": "python",
   "name": "python3"
  },
  "language_info": {
   "codemirror_mode": {
    "name": "ipython",
    "version": 3
   },
   "file_extension": ".py",
   "mimetype": "text/x-python",
   "name": "python",
   "nbconvert_exporter": "python",
   "pygments_lexer": "ipython3",
   "version": "3.9.12"
  }
 },
 "nbformat": 4,
 "nbformat_minor": 1
}
