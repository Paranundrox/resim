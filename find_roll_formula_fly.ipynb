{
 "cells": [
  {
   "cell_type": "code",
   "execution_count": 1,
   "metadata": {
    "collapsed": false,
    "jupyter": {
     "outputs_hidden": false
    },
    "pycharm": {
     "name": "#%%\n"
    }
   },
   "outputs": [
    {
     "data": {
      "text/plain": [
       "17504"
      ]
     },
     "execution_count": 1,
     "metadata": {},
     "output_type": "execute_result"
    }
   ],
   "source": [
    "import glob\n",
    "\n",
    "import pandas as pd\n",
    "import matplotlib.pyplot as plt\n",
    "import numpy as np\n",
    "from matplotlib.markers import CARETLEFTBASE, CARETRIGHTBASE\n",
    "\n",
    "all_files = glob.glob(\"roll_data/*-fly.csv\")\n",
    "\n",
    "df = pd.concat((pd.read_csv(f) for f in all_files), ignore_index=True)\n",
    "\n",
    "season = 14\n",
    "df = df[df['season'] == season]\n",
    "len(df)"
   ]
  },
  {
   "cell_type": "code",
   "execution_count": 2,
   "metadata": {
    "collapsed": false,
    "jupyter": {
     "outputs_hidden": false
    },
    "pycharm": {
     "name": "#%%\n"
    }
   },
   "outputs": [
    {
     "name": "stderr",
     "output_type": "stream",
     "text": [
      "/var/folders/g5/scl2096539l75kwsbhhq4pth0000gn/T/ipykernel_73250/3042228743.py:9: PerformanceWarning: DataFrame is highly fragmented.  This is usually the result of calling `frame.insert` many times, which has poor performance.  Consider joining all columns at once using pd.concat(axis=1) instead. To get a de-fragmented frame, use `newframe = frame.copy()`\n",
      "  df[attr+'_with_vibe'] = df[attr] * (1 + 0.2 * df['pitcher_vibes'])\n",
      "/var/folders/g5/scl2096539l75kwsbhhq4pth0000gn/T/ipykernel_73250/3042228743.py:9: PerformanceWarning: DataFrame is highly fragmented.  This is usually the result of calling `frame.insert` many times, which has poor performance.  Consider joining all columns at once using pd.concat(axis=1) instead. To get a de-fragmented frame, use `newframe = frame.copy()`\n",
      "  df[attr+'_with_vibe'] = df[attr] * (1 + 0.2 * df['pitcher_vibes'])\n",
      "/var/folders/g5/scl2096539l75kwsbhhq4pth0000gn/T/ipykernel_73250/3042228743.py:9: PerformanceWarning: DataFrame is highly fragmented.  This is usually the result of calling `frame.insert` many times, which has poor performance.  Consider joining all columns at once using pd.concat(axis=1) instead. To get a de-fragmented frame, use `newframe = frame.copy()`\n",
      "  df[attr+'_with_vibe'] = df[attr] * (1 + 0.2 * df['pitcher_vibes'])\n",
      "/var/folders/g5/scl2096539l75kwsbhhq4pth0000gn/T/ipykernel_73250/3042228743.py:9: PerformanceWarning: DataFrame is highly fragmented.  This is usually the result of calling `frame.insert` many times, which has poor performance.  Consider joining all columns at once using pd.concat(axis=1) instead. To get a de-fragmented frame, use `newframe = frame.copy()`\n",
      "  df[attr+'_with_vibe'] = df[attr] * (1 + 0.2 * df['pitcher_vibes'])\n",
      "/var/folders/g5/scl2096539l75kwsbhhq4pth0000gn/T/ipykernel_73250/3042228743.py:12: PerformanceWarning: DataFrame is highly fragmented.  This is usually the result of calling `frame.insert` many times, which has poor performance.  Consider joining all columns at once using pd.concat(axis=1) instead. To get a de-fragmented frame, use `newframe = frame.copy()`\n",
      "  df[attr + '_times_vibe'] = df[attr] * df['defender_vibes']\n",
      "/var/folders/g5/scl2096539l75kwsbhhq4pth0000gn/T/ipykernel_73250/3042228743.py:13: PerformanceWarning: DataFrame is highly fragmented.  This is usually the result of calling `frame.insert` many times, which has poor performance.  Consider joining all columns at once using pd.concat(axis=1) instead. To get a de-fragmented frame, use `newframe = frame.copy()`\n",
      "  df[attr+'_with_vibe'] = df[attr] * (1 + 0.2 * df['defender_vibes'])\n",
      "/var/folders/g5/scl2096539l75kwsbhhq4pth0000gn/T/ipykernel_73250/3042228743.py:12: PerformanceWarning: DataFrame is highly fragmented.  This is usually the result of calling `frame.insert` many times, which has poor performance.  Consider joining all columns at once using pd.concat(axis=1) instead. To get a de-fragmented frame, use `newframe = frame.copy()`\n",
      "  df[attr + '_times_vibe'] = df[attr] * df['defender_vibes']\n",
      "/var/folders/g5/scl2096539l75kwsbhhq4pth0000gn/T/ipykernel_73250/3042228743.py:13: PerformanceWarning: DataFrame is highly fragmented.  This is usually the result of calling `frame.insert` many times, which has poor performance.  Consider joining all columns at once using pd.concat(axis=1) instead. To get a de-fragmented frame, use `newframe = frame.copy()`\n",
      "  df[attr+'_with_vibe'] = df[attr] * (1 + 0.2 * df['defender_vibes'])\n",
      "/var/folders/g5/scl2096539l75kwsbhhq4pth0000gn/T/ipykernel_73250/3042228743.py:12: PerformanceWarning: DataFrame is highly fragmented.  This is usually the result of calling `frame.insert` many times, which has poor performance.  Consider joining all columns at once using pd.concat(axis=1) instead. To get a de-fragmented frame, use `newframe = frame.copy()`\n",
      "  df[attr + '_times_vibe'] = df[attr] * df['defender_vibes']\n",
      "/var/folders/g5/scl2096539l75kwsbhhq4pth0000gn/T/ipykernel_73250/3042228743.py:13: PerformanceWarning: DataFrame is highly fragmented.  This is usually the result of calling `frame.insert` many times, which has poor performance.  Consider joining all columns at once using pd.concat(axis=1) instead. To get a de-fragmented frame, use `newframe = frame.copy()`\n",
      "  df[attr+'_with_vibe'] = df[attr] * (1 + 0.2 * df['defender_vibes'])\n",
      "/var/folders/g5/scl2096539l75kwsbhhq4pth0000gn/T/ipykernel_73250/3042228743.py:12: PerformanceWarning: DataFrame is highly fragmented.  This is usually the result of calling `frame.insert` many times, which has poor performance.  Consider joining all columns at once using pd.concat(axis=1) instead. To get a de-fragmented frame, use `newframe = frame.copy()`\n",
      "  df[attr + '_times_vibe'] = df[attr] * df['defender_vibes']\n",
      "/var/folders/g5/scl2096539l75kwsbhhq4pth0000gn/T/ipykernel_73250/3042228743.py:13: PerformanceWarning: DataFrame is highly fragmented.  This is usually the result of calling `frame.insert` many times, which has poor performance.  Consider joining all columns at once using pd.concat(axis=1) instead. To get a de-fragmented frame, use `newframe = frame.copy()`\n",
      "  df[attr+'_with_vibe'] = df[attr] * (1 + 0.2 * df['defender_vibes'])\n",
      "/var/folders/g5/scl2096539l75kwsbhhq4pth0000gn/T/ipykernel_73250/3042228743.py:12: PerformanceWarning: DataFrame is highly fragmented.  This is usually the result of calling `frame.insert` many times, which has poor performance.  Consider joining all columns at once using pd.concat(axis=1) instead. To get a de-fragmented frame, use `newframe = frame.copy()`\n",
      "  df[attr + '_times_vibe'] = df[attr] * df['defender_vibes']\n",
      "/var/folders/g5/scl2096539l75kwsbhhq4pth0000gn/T/ipykernel_73250/3042228743.py:13: PerformanceWarning: DataFrame is highly fragmented.  This is usually the result of calling `frame.insert` many times, which has poor performance.  Consider joining all columns at once using pd.concat(axis=1) instead. To get a de-fragmented frame, use `newframe = frame.copy()`\n",
      "  df[attr+'_with_vibe'] = df[attr] * (1 + 0.2 * df['defender_vibes'])\n"
     ]
    }
   ],
   "source": [
    "df.loc[df[\"pitcher_mods\"].astype(str).str.contains(\"SCATTERED\"),\"pitcher_vibes\"] = 0\n",
    "df.loc[df[\"batter_mods\"].astype(str).str.contains(\"SCATTERED\"),\"batter_vibes\"] = 0\n",
    "\n",
    "for attr in ['batter_buoyancy', 'batter_divinity', 'batter_martyrdom', 'batter_moxie', 'batter_musclitude', 'batter_patheticism', 'batter_thwackability', 'batter_tragicness', 'batter_coldness', 'batter_overpowerment', 'batter_ruthlessness', 'batter_shakespearianism', 'batter_suppression', 'batter_unthwackability', 'batter_base_thirst', 'batter_continuation', 'batter_ground_friction', 'batter_indulgence', 'batter_laserlikeness', 'batter_anticapitalism', 'batter_chasiness', 'batter_omniscience', 'batter_tenaciousness', 'batter_watchfulness', 'batter_pressurization', 'batter_cinnamon']:\n",
    "    df[attr] = df[attr] * df['batter_multiplier']\n",
    "    df[attr+'_with_vibe'] = df[attr] * (1 + 0.2 * df['batter_vibes'])\n",
    "for attr in ['pitcher_buoyancy', 'pitcher_divinity', 'pitcher_martyrdom', 'pitcher_moxie', 'pitcher_musclitude', 'pitcher_patheticism', 'pitcher_thwackability', 'pitcher_tragicness', 'pitcher_ruthlessness', 'pitcher_overpowerment', 'pitcher_unthwackability', 'pitcher_shakespearianism', 'pitcher_suppression', 'pitcher_coldness', 'pitcher_base_thirst', 'pitcher_continuation', 'pitcher_ground_friction', 'pitcher_indulgence', 'pitcher_laserlikeness', 'pitcher_anticapitalism', 'pitcher_chasiness', 'pitcher_omniscience', 'pitcher_tenaciousness', 'pitcher_watchfulness', 'pitcher_pressurization', 'pitcher_cinnamon']:\n",
    "    df[attr] = df[attr] * df['pitcher_multiplier']\n",
    "    df[attr+'_with_vibe'] = df[attr] * (1 + 0.2 * df['pitcher_vibes'])\n",
    "\n",
    "for attr in ['defense_avg_anticapitalism', 'defense_avg_chasiness', 'defense_avg_omniscience', 'defense_avg_tenaciousness', 'defense_avg_watchfulness']:\n",
    "    df[attr + '_times_vibe'] = df[attr] * df['defender_vibes']\n",
    "    df[attr+'_with_vibe'] = df[attr] * (1 + 0.2 * df['defender_vibes'])\n"
   ]
  },
  {
   "cell_type": "code",
   "execution_count": 3,
   "metadata": {
    "collapsed": false,
    "jupyter": {
     "outputs_hidden": false
    },
    "pycharm": {
     "name": "#%%\n"
    }
   },
   "outputs": [
    {
     "data": {
      "text/plain": [
       "11275"
      ]
     },
     "execution_count": 3,
     "metadata": {},
     "output_type": "execute_result"
    }
   ],
   "source": [
    "dfc = df.copy()\n",
    "# for exclude_mod in [\"OVERPERFORMING\", \"UNDERPERFORMING\", \"HIGH_PRESSURE\", \"GROWTH\", \"SINKING_SHIP\", \"TRAVELING\"]:\n",
    "for exclude_mod in [\"FLINCH\", \"O_NO\", \"ON_FIRE\", \"GROWTH\", \"TRAVELING\"]:\n",
    " dfc = dfc[~dfc[\"batter_mods\"].astype(str).str.contains(exclude_mod)]\n",
    " dfc = dfc[~dfc[\"pitcher_mods\"].astype(str).str.contains(exclude_mod)]\n",
    " dfc = dfc[~dfc[\"pitching_team_mods\"].astype(str).str.contains(exclude_mod)]\n",
    " dfc = dfc[~dfc[\"batting_team_mods\"].astype(str).str.contains(exclude_mod)]\n",
    "\n",
    "# dfc = dfc[dfc['roll'] < 0.7]\n",
    "# dfc = dfc[dfc['roll'] > 0.2]\n",
    "dfc = dfc[(dfc['pitcher_multiplier'] == 1) & (dfc['batter_multiplier'] == 1)]\n",
    "# dfc = dfc[(dfc['pitcher_vibes'].abs() < 0.2) & (dfc['batter_vibes'].abs() < 0.2)]\n",
    "# for limit_attr in ['batter_patheticism', 'batter_thwackability', 'batter_divinity', 'batter_musclitude', 'pitcher_ruthlessness']:\n",
    "#     dfc = dfc[(dfc[limit_attr] > 0.1) & (dfc[limit_attr] < 0.9)]\n",
    "# dfc = dfc[dfc['batter_thwackability'] + dfc['batter_musclitude'] + dfc['batter_divinity'] > dfc['batter_patheticism']]\n",
    "\n",
    "len(dfc)"
   ]
  },
  {
   "cell_type": "code",
   "execution_count": 4,
   "metadata": {
    "collapsed": false,
    "jupyter": {
     "outputs_hidden": false
    },
    "pycharm": {
     "name": "#%%\n"
    }
   },
   "outputs": [],
   "source": [
    "# dfc.corr()['offset'].sort_values()"
   ]
  },
  {
   "cell_type": "code",
   "execution_count": 5,
   "metadata": {
    "collapsed": false,
    "jupyter": {
     "outputs_hidden": false
    },
    "pycharm": {
     "name": "#%%\n"
    }
   },
   "outputs": [],
   "source": [
    "X = dfc[['roll', 'passed',\n",
    "         'batter_buoyancy_with_vibe',\n",
    "         # 'batter_martyrdom_with_vibe',\n",
    " # 'defense_avg_anticapitalism_with_vibe',\n",
    " # 'defense_avg_chasiness_with_vibe',\n",
    " # 'defense_avg_omniscience_with_vibe',\n",
    " # 'defense_avg_tenaciousness_with_vibe',\n",
    " # 'defense_avg_watchfulness_with_vibe',\n",
    " # 'defense_avg_anticapitalism_times_vibe',\n",
    " # 'defense_avg_chasiness_times_vibe',\n",
    " # 'defense_avg_omniscience_times_vibe',\n",
    " # 'defense_avg_tenaciousness_times_vibe',\n",
    " # 'defense_avg_watchfulness_times_vibe',\n",
    " # 'defender_vibes',\n",
    " 'ballpark_grandiosity',\n",
    " # 'ballpark_fortification',\n",
    " # 'ballpark_obtuseness',\n",
    " 'ballpark_ominousness',\n",
    " # 'ballpark_inconvenience',\n",
    " 'ballpark_viscosity',\n",
    " # 'ballpark_forwardness',\n",
    " # 'ballpark_mysticism',\n",
    " 'ballpark_elongation',\n",
    " # 'ballpark_filthiness',\n",
    "        ]]\n",
    "# X = X[X['roll'] < 0.85]\n",
    "\n",
    "# X = dfc[['roll', 'pitcher_ruthlessness', 'ballpark_forwardness']]\n",
    "# X = dfc[['roll', 'pitcher_ruthlessness']]\n",
    "y = X['passed']\n",
    "X = X.drop('passed', axis=1)"
   ]
  },
  {
   "cell_type": "code",
   "execution_count": 6,
   "metadata": {
    "collapsed": false,
    "jupyter": {
     "outputs_hidden": false
    },
    "pycharm": {
     "name": "#%%\n"
    }
   },
   "outputs": [
    {
     "name": "stdout",
     "output_type": "stream",
     "text": [
      "[[7611  416]\n",
      " [ 119 3129]]\n",
      "              precision    recall  f1-score   support\n",
      "\n",
      "       False       0.98      0.95      0.97      8027\n",
      "        True       0.88      0.96      0.92      3248\n",
      "\n",
      "    accuracy                           0.95     11275\n",
      "   macro avg       0.93      0.96      0.94     11275\n",
      "weighted avg       0.96      0.95      0.95     11275\n",
      "\n",
      "0.952549889135255\n"
     ]
    }
   ],
   "source": [
    "from sklearn.preprocessing import StandardScaler\n",
    "from sklearn.metrics import confusion_matrix\n",
    "from sklearn.metrics import classification_report\n",
    "from sklearn import svm, linear_model\n",
    "\n",
    "# # trainedsvm = svm.SVC(kernel='linear').fit(X, y)\n",
    "# trainedsvm = svm.LinearSVC(dual=False, max_iter=100000).fit(X, y)\n",
    "# predictionsvm = trainedsvm.predict(X)\n",
    "# print(confusion_matrix(y,predictionsvm))\n",
    "# print(classification_report(y,predictionsvm))\n",
    "\n",
    "sc = StandardScaler()\n",
    "X2 = sc.fit_transform(X)\n",
    "\n",
    "trainedsvm = svm.LinearSVC(intercept_scaling=100, dual=False, max_iter=100000, C=1000, class_weight='balanced').fit(X2, y)\n",
    "predictionsvm = trainedsvm.predict(X2)\n",
    "print(confusion_matrix(y,predictionsvm))\n",
    "print(classification_report(y,predictionsvm))\n",
    "print(trainedsvm.score(X2, y))"
   ]
  },
  {
   "cell_type": "code",
   "execution_count": 7,
   "metadata": {
    "collapsed": false,
    "jupyter": {
     "outputs_hidden": false
    },
    "pycharm": {
     "name": "#%%\n"
    }
   },
   "outputs": [
    {
     "name": "stdout",
     "output_type": "stream",
     "text": [
      "[-0.1310234]\n"
     ]
    },
    {
     "data": {
      "text/plain": [
       "[(1.0, 'roll'),\n",
       " (-0.2766014743755049, 'batter_buoyancy_with_vibe'),\n",
       " (0.03361189623866827, 'ballpark_ominousness'),\n",
       " (0.016154406342401863, 'ballpark_viscosity'),\n",
       " (-0.013136872871792653, 'ballpark_elongation'),\n",
       " (-0.0033346214885640155, 'ballpark_grandiosity')]"
      ]
     },
     "execution_count": 7,
     "metadata": {},
     "output_type": "execute_result"
    }
   ],
   "source": [
    "coef = np.true_divide(trainedsvm.coef_, sc.scale_)\n",
    "coef_scaled = coef / coef[0, 0]\n",
    "coef_list = coef_scaled.tolist()[0]\n",
    "\n",
    "intercept = trainedsvm.intercept_ - np.dot(coef, sc.mean_)\n",
    "intercept_scaled = intercept / coef[0, 0]\n",
    "print(intercept_scaled)\n",
    "sorted(zip(coef_list, X.columns), key=lambda x: abs(x[0]), reverse=True)"
   ]
  },
  {
   "cell_type": "code",
   "execution_count": 8,
   "metadata": {
    "collapsed": false,
    "jupyter": {
     "outputs_hidden": false
    },
    "pycharm": {
     "name": "#%%\n"
    }
   },
   "outputs": [
    {
     "name": "stdout",
     "output_type": "stream",
     "text": [
      "[0.1310234]\n",
      "(0.2766014743755049, 'batter_buoyancy_with_vibe')\n",
      "(0.0033346214885640155, 'ballpark_grandiosity')\n",
      "(-0.03361189623866827, 'ballpark_ominousness')\n",
      "(-0.016154406342401863, 'ballpark_viscosity')\n",
      "(0.013136872871792653, 'ballpark_elongation')\n"
     ]
    },
    {
     "data": {
      "text/plain": [
       "<matplotlib.legend.Legend at 0x7f9741190ac0>"
      ]
     },
     "execution_count": 8,
     "metadata": {},
     "output_type": "execute_result"
    },
    {
     "data": {
      "image/png": "[encoded data removed]",
      "text/plain": [
       "<Figure size 720x432 with 1 Axes>"
      ]
     },
     "metadata": {
      "needs_background": "light"
     },
     "output_type": "display_data"
    }
   ],
   "source": [
    "# dfc['threshold'] = 0.16-(\n",
    "#      -0.2776083943255873 * dfc['batter_buoyancy_with_vibe']\n",
    "#      -0.10076177945700408 * dfc['ballpark_elongation']\n",
    "#      +0.07782492861928512 * dfc['ballpark_ominousness']\n",
    "#      +0.05186526153248099 * dfc['ballpark_viscosity']\n",
    "# )\n",
    "\n",
    "dfc['threshold'] = -intercept_scaled[0]\n",
    "print(-intercept_scaled)\n",
    "for pair in zip(-np.array(coef_list), X.columns):\n",
    "    if pair[1] != \"roll\":\n",
    "        print(pair)\n",
    "        dfc['threshold'] += pair[0] * dfc[pair[1]]\n",
    "\n",
    "# x_val = \"day\"\n",
    "x_val = \"threshold\"\n",
    "fig, ax = plt.subplots(1, figsize=(10, 6))\n",
    "ax.scatter(dfc[~dfc['passed']][x_val], dfc[~dfc['passed']][\"roll\"], color=\"red\",\n",
    "           label=\"Ground out\", marker=CARETRIGHTBASE)\n",
    "ax.scatter(dfc[dfc['passed']][x_val], dfc[dfc['passed']][\"roll\"], color=\"blue\",\n",
    "           label=\"Flyout\", marker=CARETLEFTBASE)\n",
    "ax.set_xlabel(x_val)\n",
    "ax.set_ylabel('roll')\n",
    "ax.set_title(\"Fly\")\n",
    "# ax.set_xlim(0.484, 0.499)\n",
    "\n",
    "ax.plot(ax.get_xlim(), ax.get_xlim(), 'k')\n",
    "\n",
    "ax.legend()"
   ]
  },
  {
   "cell_type": "code",
   "execution_count": 9,
   "metadata": {
    "pycharm": {
     "name": "#%%\n"
    },
    "tags": []
   },
   "outputs": [
    {
     "name": "stdout",
     "output_type": "stream",
     "text": [
      "535\n"
     ]
    },
    {
     "data": {
      "text/html": [
       "<div>\n",
       "<style scoped>\n",
       "    .dataframe tbody tr th:only-of-type {\n",
       "        vertical-align: middle;\n",
       "    }\n",
       "\n",
       "    .dataframe tbody tr th {\n",
       "        vertical-align: top;\n",
       "    }\n",
       "\n",
       "    .dataframe thead th {\n",
       "        text-align: right;\n",
       "    }\n",
       "</style>\n",
       "<table border=\"1\" class=\"dataframe\">\n",
       "  <thead>\n",
       "    <tr style=\"text-align: right;\">\n",
       "      <th></th>\n",
       "      <th>offset</th>\n",
       "      <th>roll</th>\n",
       "      <th>threshold</th>\n",
       "      <th>event_type</th>\n",
       "      <th>fielder_roll</th>\n",
       "      <th>top_of_inning</th>\n",
       "      <th>inning</th>\n",
       "      <th>pitcher_multiplier</th>\n",
       "      <th>batter_multiplier</th>\n",
       "      <th>baserunner_count</th>\n",
       "      <th>...</th>\n",
       "      <th>batter_musclitude</th>\n",
       "      <th>batter_name</th>\n",
       "      <th>pitcher_name</th>\n",
       "      <th>batter_mods</th>\n",
       "      <th>pitcher_mods</th>\n",
       "      <th>batting_team_mods</th>\n",
       "      <th>pitching_team_mods</th>\n",
       "      <th>day</th>\n",
       "      <th>game_id</th>\n",
       "      <th>play_count</th>\n",
       "    </tr>\n",
       "  </thead>\n",
       "  <tbody>\n",
       "    <tr>\n",
       "      <th>26990</th>\n",
       "      <td>0.085637</td>\n",
       "      <td>0.367553</td>\n",
       "      <td>0.281916</td>\n",
       "      <td>Flyout</td>\n",
       "      <td>0.395088</td>\n",
       "      <td>True</td>\n",
       "      <td>7</td>\n",
       "      <td>1.0</td>\n",
       "      <td>1.0</td>\n",
       "      <td>[]</td>\n",
       "      <td>...</td>\n",
       "      <td>0.801767</td>\n",
       "      <td>Patel Beyonce</td>\n",
       "      <td>Oscar Vaughan</td>\n",
       "      <td>HONEY_ROASTED;REVERBERATING</td>\n",
       "      <td>ALTERNATE</td>\n",
       "      <td>PARTY_TIME</td>\n",
       "      <td>MIDDLING</td>\n",
       "      <td>96</td>\n",
       "      <td>9b671a70-c55f-4beb-bef2-5b1b8c5d4c01</td>\n",
       "      <td>277</td>\n",
       "    </tr>\n",
       "    <tr>\n",
       "      <th>20343</th>\n",
       "      <td>0.068115</td>\n",
       "      <td>0.399062</td>\n",
       "      <td>0.330947</td>\n",
       "      <td>Flyout</td>\n",
       "      <td>0.470069</td>\n",
       "      <td>False</td>\n",
       "      <td>4</td>\n",
       "      <td>1.0</td>\n",
       "      <td>1.0</td>\n",
       "      <td>['b60605e6-ff41-4388-a61a-fafd2175f7ad']</td>\n",
       "      <td>...</td>\n",
       "      <td>0.694862</td>\n",
       "      <td>Stijn Strongbody</td>\n",
       "      <td>Rivers Clembons</td>\n",
       "      <td>SWIM_BLADDER</td>\n",
       "      <td>ALTERNATE</td>\n",
       "      <td>POPCORN_PAYOUTS</td>\n",
       "      <td>LIFE_OF_PARTY;ELECTRIC</td>\n",
       "      <td>81</td>\n",
       "      <td>faecc678-2b00-4057-81f2-559225a6ff9f</td>\n",
       "      <td>191</td>\n",
       "    </tr>\n",
       "    <tr>\n",
       "      <th>23728</th>\n",
       "      <td>0.059441</td>\n",
       "      <td>0.405967</td>\n",
       "      <td>0.346526</td>\n",
       "      <td>Flyout</td>\n",
       "      <td>0.050722</td>\n",
       "      <td>False</td>\n",
       "      <td>3</td>\n",
       "      <td>1.0</td>\n",
       "      <td>1.0</td>\n",
       "      <td>['c18961e9-ef3f-4954-bd6b-9fe01c615186', '542a...</td>\n",
       "      <td>...</td>\n",
       "      <td>0.834127</td>\n",
       "      <td>Quack Enjoyable</td>\n",
       "      <td>Leach Herman</td>\n",
       "      <td>NaN</td>\n",
       "      <td>ALTERNATE;FRIEND_OF_CROWS</td>\n",
       "      <td>PARTY_TIME</td>\n",
       "      <td>NaN</td>\n",
       "      <td>89</td>\n",
       "      <td>ea4a64d4-921f-4f5a-95e7-ffd805ee0c89</td>\n",
       "      <td>140</td>\n",
       "    </tr>\n",
       "    <tr>\n",
       "      <th>26502</th>\n",
       "      <td>0.054941</td>\n",
       "      <td>0.555239</td>\n",
       "      <td>0.500299</td>\n",
       "      <td>Flyout</td>\n",
       "      <td>0.898742</td>\n",
       "      <td>True</td>\n",
       "      <td>7</td>\n",
       "      <td>1.0</td>\n",
       "      <td>1.0</td>\n",
       "      <td>[]</td>\n",
       "      <td>...</td>\n",
       "      <td>1.272179</td>\n",
       "      <td>Don Mitchell</td>\n",
       "      <td>Leach Herman</td>\n",
       "      <td>REVERBERATING</td>\n",
       "      <td>ALTERNATE;FRIEND_OF_CROWS</td>\n",
       "      <td>LOVE;PARTY_TIME</td>\n",
       "      <td>NaN</td>\n",
       "      <td>95</td>\n",
       "      <td>9ce3a14a-9cc0-410f-9793-7b671610d48c</td>\n",
       "      <td>237</td>\n",
       "    </tr>\n",
       "    <tr>\n",
       "      <th>22551</th>\n",
       "      <td>0.054565</td>\n",
       "      <td>0.417636</td>\n",
       "      <td>0.363071</td>\n",
       "      <td>Flyout</td>\n",
       "      <td>0.074167</td>\n",
       "      <td>True</td>\n",
       "      <td>7</td>\n",
       "      <td>1.0</td>\n",
       "      <td>1.0</td>\n",
       "      <td>[]</td>\n",
       "      <td>...</td>\n",
       "      <td>0.797885</td>\n",
       "      <td>Cannonball Sports</td>\n",
       "      <td>Mags Banananana</td>\n",
       "      <td>NaN</td>\n",
       "      <td>WANDERER</td>\n",
       "      <td>LIFE_OF_PARTY;ELECTRIC</td>\n",
       "      <td>NaN</td>\n",
       "      <td>86</td>\n",
       "      <td>f876eca0-8935-4be5-9051-c70187054f5e</td>\n",
       "      <td>244</td>\n",
       "    </tr>\n",
       "    <tr>\n",
       "      <th>...</th>\n",
       "      <td>...</td>\n",
       "      <td>...</td>\n",
       "      <td>...</td>\n",
       "      <td>...</td>\n",
       "      <td>...</td>\n",
       "      <td>...</td>\n",
       "      <td>...</td>\n",
       "      <td>...</td>\n",
       "      <td>...</td>\n",
       "      <td>...</td>\n",
       "      <td>...</td>\n",
       "      <td>...</td>\n",
       "      <td>...</td>\n",
       "      <td>...</td>\n",
       "      <td>...</td>\n",
       "      <td>...</td>\n",
       "      <td>...</td>\n",
       "      <td>...</td>\n",
       "      <td>...</td>\n",
       "      <td>...</td>\n",
       "      <td>...</td>\n",
       "    </tr>\n",
       "    <tr>\n",
       "      <th>32405</th>\n",
       "      <td>-0.135680</td>\n",
       "      <td>0.274836</td>\n",
       "      <td>0.410516</td>\n",
       "      <td>GroundOut</td>\n",
       "      <td>0.227960</td>\n",
       "      <td>True</td>\n",
       "      <td>0</td>\n",
       "      <td>1.0</td>\n",
       "      <td>1.0</td>\n",
       "      <td>[]</td>\n",
       "      <td>...</td>\n",
       "      <td>0.877497</td>\n",
       "      <td>Huber Frumple</td>\n",
       "      <td>Mindy Kugel</td>\n",
       "      <td>NaN</td>\n",
       "      <td>TRIPLE_THREAT</td>\n",
       "      <td>AFFINITY_FOR_CROWS</td>\n",
       "      <td>MAINTENANCE_MODE;STALEPOPCORN_PAYOUTS</td>\n",
       "      <td>43</td>\n",
       "      <td>bc72f051-8b59-4347-ae44-56cd5d47c83e</td>\n",
       "      <td>12</td>\n",
       "    </tr>\n",
       "    <tr>\n",
       "      <th>18828</th>\n",
       "      <td>-0.138803</td>\n",
       "      <td>0.406572</td>\n",
       "      <td>0.545375</td>\n",
       "      <td>GroundOut</td>\n",
       "      <td>0.419818</td>\n",
       "      <td>False</td>\n",
       "      <td>0</td>\n",
       "      <td>1.0</td>\n",
       "      <td>1.0</td>\n",
       "      <td>['c6a19154-7438-4c4f-b786-2dfaf5951f0f']</td>\n",
       "      <td>...</td>\n",
       "      <td>1.033988</td>\n",
       "      <td>Alyssa Harrell</td>\n",
       "      <td>NaN</td>\n",
       "      <td>ALTERNATE</td>\n",
       "      <td>FLICKERING;ECHO;ALTERNATE</td>\n",
       "      <td>CARCINIZATION;UNHOLEY</td>\n",
       "      <td>LOVE</td>\n",
       "      <td>78</td>\n",
       "      <td>318c7c55-cf0b-4e69-9168-f388dacc3b18</td>\n",
       "      <td>36</td>\n",
       "    </tr>\n",
       "    <tr>\n",
       "      <th>29438</th>\n",
       "      <td>-0.151583</td>\n",
       "      <td>0.397665</td>\n",
       "      <td>0.549248</td>\n",
       "      <td>GroundOut</td>\n",
       "      <td>0.936608</td>\n",
       "      <td>True</td>\n",
       "      <td>2</td>\n",
       "      <td>1.0</td>\n",
       "      <td>1.0</td>\n",
       "      <td>[]</td>\n",
       "      <td>...</td>\n",
       "      <td>1.130804</td>\n",
       "      <td>Alyssa Harrell</td>\n",
       "      <td>Vito Kravitz</td>\n",
       "      <td>ALTERNATE</td>\n",
       "      <td>ALTERNATE</td>\n",
       "      <td>CARCINIZATION;UNHOLEY</td>\n",
       "      <td>SUN_KISSED;SUN2_PAYOUTS</td>\n",
       "      <td>36</td>\n",
       "      <td>d3d2f904-4037-49ad-8597-2161ab532622</td>\n",
       "      <td>77</td>\n",
       "    </tr>\n",
       "    <tr>\n",
       "      <th>21352</th>\n",
       "      <td>-0.155095</td>\n",
       "      <td>0.290840</td>\n",
       "      <td>0.445935</td>\n",
       "      <td>GroundOut</td>\n",
       "      <td>0.389058</td>\n",
       "      <td>True</td>\n",
       "      <td>0</td>\n",
       "      <td>1.0</td>\n",
       "      <td>1.0</td>\n",
       "      <td>[]</td>\n",
       "      <td>...</td>\n",
       "      <td>0.877497</td>\n",
       "      <td>Huber Frumple</td>\n",
       "      <td>Greer Lott</td>\n",
       "      <td>NaN</td>\n",
       "      <td>NaN</td>\n",
       "      <td>AFFINITY_FOR_CROWS</td>\n",
       "      <td>HIGH_PRESSURE</td>\n",
       "      <td>84</td>\n",
       "      <td>048bbb61-7a35-4a03-ab18-eecc731306a7</td>\n",
       "      <td>10</td>\n",
       "    </tr>\n",
       "    <tr>\n",
       "      <th>22106</th>\n",
       "      <td>-0.155115</td>\n",
       "      <td>0.292173</td>\n",
       "      <td>0.447289</td>\n",
       "      <td>GroundOut</td>\n",
       "      <td>0.497946</td>\n",
       "      <td>True</td>\n",
       "      <td>5</td>\n",
       "      <td>1.0</td>\n",
       "      <td>1.0</td>\n",
       "      <td>[]</td>\n",
       "      <td>...</td>\n",
       "      <td>0.877497</td>\n",
       "      <td>Huber Frumple</td>\n",
       "      <td>Jenkins Good</td>\n",
       "      <td>NaN</td>\n",
       "      <td>ALTERNATE;FRIEND_OF_CROWS</td>\n",
       "      <td>AFFINITY_FOR_CROWS</td>\n",
       "      <td>HIGH_PRESSURE</td>\n",
       "      <td>85</td>\n",
       "      <td>9f3ab76c-e008-42ad-bd54-eb477d898c9f</td>\n",
       "      <td>235</td>\n",
       "    </tr>\n",
       "  </tbody>\n",
       "</table>\n",
       "<p>535 rows × 24 columns</p>\n",
       "</div>"
      ],
      "text/plain": [
       "         offset      roll  threshold event_type  fielder_roll  top_of_inning  \\\n",
       "26990  0.085637  0.367553   0.281916     Flyout      0.395088           True   \n",
       "20343  0.068115  0.399062   0.330947     Flyout      0.470069          False   \n",
       "23728  0.059441  0.405967   0.346526     Flyout      0.050722          False   \n",
       "26502  0.054941  0.555239   0.500299     Flyout      0.898742           True   \n",
       "22551  0.054565  0.417636   0.363071     Flyout      0.074167           True   \n",
       "...         ...       ...        ...        ...           ...            ...   \n",
       "32405 -0.135680  0.274836   0.410516  GroundOut      0.227960           True   \n",
       "18828 -0.138803  0.406572   0.545375  GroundOut      0.419818          False   \n",
       "29438 -0.151583  0.397665   0.549248  GroundOut      0.936608           True   \n",
       "21352 -0.155095  0.290840   0.445935  GroundOut      0.389058           True   \n",
       "22106 -0.155115  0.292173   0.447289  GroundOut      0.497946           True   \n",
       "\n",
       "       inning  pitcher_multiplier  batter_multiplier  \\\n",
       "26990       7                 1.0                1.0   \n",
       "20343       4                 1.0                1.0   \n",
       "23728       3                 1.0                1.0   \n",
       "26502       7                 1.0                1.0   \n",
       "22551       7                 1.0                1.0   \n",
       "...       ...                 ...                ...   \n",
       "32405       0                 1.0                1.0   \n",
       "18828       0                 1.0                1.0   \n",
       "29438       2                 1.0                1.0   \n",
       "21352       0                 1.0                1.0   \n",
       "22106       5                 1.0                1.0   \n",
       "\n",
       "                                        baserunner_count  ...  \\\n",
       "26990                                                 []  ...   \n",
       "20343           ['b60605e6-ff41-4388-a61a-fafd2175f7ad']  ...   \n",
       "23728  ['c18961e9-ef3f-4954-bd6b-9fe01c615186', '542a...  ...   \n",
       "26502                                                 []  ...   \n",
       "22551                                                 []  ...   \n",
       "...                                                  ...  ...   \n",
       "32405                                                 []  ...   \n",
       "18828           ['c6a19154-7438-4c4f-b786-2dfaf5951f0f']  ...   \n",
       "29438                                                 []  ...   \n",
       "21352                                                 []  ...   \n",
       "22106                                                 []  ...   \n",
       "\n",
       "      batter_musclitude        batter_name     pitcher_name  \\\n",
       "26990          0.801767      Patel Beyonce    Oscar Vaughan   \n",
       "20343          0.694862   Stijn Strongbody  Rivers Clembons   \n",
       "23728          0.834127    Quack Enjoyable     Leach Herman   \n",
       "26502          1.272179       Don Mitchell     Leach Herman   \n",
       "22551          0.797885  Cannonball Sports  Mags Banananana   \n",
       "...                 ...                ...              ...   \n",
       "32405          0.877497      Huber Frumple      Mindy Kugel   \n",
       "18828          1.033988     Alyssa Harrell              NaN   \n",
       "29438          1.130804     Alyssa Harrell     Vito Kravitz   \n",
       "21352          0.877497      Huber Frumple       Greer Lott   \n",
       "22106          0.877497      Huber Frumple     Jenkins Good   \n",
       "\n",
       "                       batter_mods               pitcher_mods  \\\n",
       "26990  HONEY_ROASTED;REVERBERATING                  ALTERNATE   \n",
       "20343                 SWIM_BLADDER                  ALTERNATE   \n",
       "23728                          NaN  ALTERNATE;FRIEND_OF_CROWS   \n",
       "26502                REVERBERATING  ALTERNATE;FRIEND_OF_CROWS   \n",
       "22551                          NaN                   WANDERER   \n",
       "...                            ...                        ...   \n",
       "32405                          NaN              TRIPLE_THREAT   \n",
       "18828                    ALTERNATE  FLICKERING;ECHO;ALTERNATE   \n",
       "29438                    ALTERNATE                  ALTERNATE   \n",
       "21352                          NaN                        NaN   \n",
       "22106                          NaN  ALTERNATE;FRIEND_OF_CROWS   \n",
       "\n",
       "            batting_team_mods                     pitching_team_mods day  \\\n",
       "26990              PARTY_TIME                               MIDDLING  96   \n",
       "20343         POPCORN_PAYOUTS                 LIFE_OF_PARTY;ELECTRIC  81   \n",
       "23728              PARTY_TIME                                    NaN  89   \n",
       "26502         LOVE;PARTY_TIME                                    NaN  95   \n",
       "22551  LIFE_OF_PARTY;ELECTRIC                                    NaN  86   \n",
       "...                       ...                                    ...  ..   \n",
       "32405      AFFINITY_FOR_CROWS  MAINTENANCE_MODE;STALEPOPCORN_PAYOUTS  43   \n",
       "18828   CARCINIZATION;UNHOLEY                                   LOVE  78   \n",
       "29438   CARCINIZATION;UNHOLEY                SUN_KISSED;SUN2_PAYOUTS  36   \n",
       "21352      AFFINITY_FOR_CROWS                          HIGH_PRESSURE  84   \n",
       "22106      AFFINITY_FOR_CROWS                          HIGH_PRESSURE  85   \n",
       "\n",
       "                                    game_id play_count  \n",
       "26990  9b671a70-c55f-4beb-bef2-5b1b8c5d4c01        277  \n",
       "20343  faecc678-2b00-4057-81f2-559225a6ff9f        191  \n",
       "23728  ea4a64d4-921f-4f5a-95e7-ffd805ee0c89        140  \n",
       "26502  9ce3a14a-9cc0-410f-9793-7b671610d48c        237  \n",
       "22551  f876eca0-8935-4be5-9051-c70187054f5e        244  \n",
       "...                                     ...        ...  \n",
       "32405  bc72f051-8b59-4347-ae44-56cd5d47c83e         12  \n",
       "18828  318c7c55-cf0b-4e69-9168-f388dacc3b18         36  \n",
       "29438  d3d2f904-4037-49ad-8597-2161ab532622         77  \n",
       "21352  048bbb61-7a35-4a03-ab18-eecc731306a7         10  \n",
       "22106  9f3ab76c-e008-42ad-bd54-eb477d898c9f        235  \n",
       "\n",
       "[535 rows x 24 columns]"
      ]
     },
     "execution_count": 9,
     "metadata": {},
     "output_type": "execute_result"
    },
    {
     "data": {
      "image/png": "[encoded data removed]",
      "text/plain": [
       "<Figure size 432x288 with 1 Axes>"
      ]
     },
     "metadata": {
      "needs_background": "light"
     },
     "output_type": "display_data"
    }
   ],
   "source": [
    "dfc[\"offset\"] = dfc[\"roll\"] - dfc[\"threshold\"]\n",
    "outliers = dfc[(dfc[\"passed\"] & (dfc[\"offset\"] >= 0)) | (~dfc[\"passed\"] & (dfc[\"offset\"] <= 0))]\n",
    "\n",
    "fig, ax = plt.subplots(1)\n",
    "x_val = \"threshold\"\n",
    "ax.scatter(outliers[~outliers['passed']][x_val], outliers[~outliers['passed']][\"offset\"], color=\"red\", label=\"No Swing\")\n",
    "ax.scatter(outliers[outliers['passed']][x_val], outliers[outliers['passed']][\"offset\"], color=\"blue\", label=\"Swing\")\n",
    "ax.set_xlabel(x_val)\n",
    "ax.set_ylabel('offset')\n",
    "ax.legend()\n",
    "\n",
    "table = outliers\n",
    "print(len(table))\n",
    "table[[\"offset\", \"roll\", \"threshold\", \"event_type\", \"fielder_roll\", \"top_of_inning\", \"inning\",\n",
    "       \"pitcher_multiplier\", \"batter_multiplier\", \"baserunner_count\", \"event_type\",\n",
    "       \"batter_vibes\", \"pitcher_vibes\",\n",
    "       \"pitcher_ruthlessness\", \"batter_musclitude\",\n",
    "       \"batter_name\", \"pitcher_name\", \"batter_mods\", \"pitcher_mods\",\n",
    "       \"batting_team_mods\", \"pitching_team_mods\", \"day\",  \"game_id\", \"play_count\"]].sort_values('offset', ascending=False)\n",
    "# len(table)"
   ]
  },
  {
   "cell_type": "code",
   "execution_count": null,
   "metadata": {
    "collapsed": false,
    "jupyter": {
     "outputs_hidden": false
    },
    "pycharm": {
     "name": "#%%\n"
    }
   },
   "outputs": [],
   "source": []
  },
  {
   "cell_type": "code",
   "execution_count": null,
   "metadata": {
    "collapsed": false,
    "jupyter": {
     "outputs_hidden": false
    },
    "pycharm": {
     "name": "#%%\n"
    }
   },
   "outputs": [],
   "source": []
  },
  {
   "cell_type": "code",
   "execution_count": null,
   "metadata": {
    "collapsed": false,
    "jupyter": {
     "outputs_hidden": false
    },
    "pycharm": {
     "name": "#%%\n"
    }
   },
   "outputs": [],
   "source": []
  },
  {
   "cell_type": "code",
   "execution_count": null,
   "metadata": {
    "pycharm": {
     "name": "#%%\n"
    },
    "tags": []
   },
   "outputs": [],
   "source": []
  },
  {
   "cell_type": "code",
   "execution_count": null,
   "metadata": {
    "collapsed": false,
    "jupyter": {
     "outputs_hidden": false
    },
    "pycharm": {
     "name": "#%%\n"
    }
   },
   "outputs": [],
   "source": []
  }
 ],
 "metadata": {
  "kernelspec": {
   "display_name": "Python 3 (ipykernel)",
   "language": "python",
   "name": "python3"
  },
  "language_info": {
   "codemirror_mode": {
    "name": "ipython",
    "version": 3
   },
   "file_extension": ".py",
   "mimetype": "text/x-python",
   "name": "python",
   "nbconvert_exporter": "python",
   "pygments_lexer": "ipython3",
   "version": "3.9.12"
  }
 },
 "nbformat": 4,
 "nbformat_minor": 4
}
