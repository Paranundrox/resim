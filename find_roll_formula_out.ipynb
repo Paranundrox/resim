{
 "cells": [
  {
   "cell_type": "code",
   "execution_count": 1,
   "metadata": {
    "collapsed": false,
    "jupyter": {
     "outputs_hidden": false
    },
    "pycharm": {
     "name": "#%%\n"
    }
   },
   "outputs": [
    {
     "data": {
      "text/plain": [
       "37615"
      ]
     },
     "execution_count": 1,
     "metadata": {},
     "output_type": "execute_result"
    }
   ],
   "source": [
    "import glob\n",
    "\n",
    "import pandas as pd\n",
    "import matplotlib.pyplot as plt\n",
    "import numpy as np\n",
    "from matplotlib.markers import CARETLEFTBASE, CARETRIGHTBASE\n",
    "\n",
    "all_files = glob.glob(\"roll_data/*-out.csv\")\n",
    "\n",
    "df = pd.concat((pd.read_csv(f) for f in all_files), ignore_index=True)\n",
    "\n",
    "season = 13\n",
    "df = df[df['season'] == season]\n",
    "len(df)"
   ]
  },
  {
   "cell_type": "code",
   "execution_count": 2,
   "metadata": {},
   "outputs": [],
   "source": [
    "def calc_vibes(df, prefix):\n",
    "    buoy = df[prefix + \"_buoyancy\"]# * df[prefix + \"_mul\"]\n",
    "    press = df[prefix + \"_pressurization\"]# * df[prefix + \"_mul\"]\n",
    "    cinn = df[prefix + \"_cinnamon\"]# * df[prefix + \"_mul\"]\n",
    "\n",
    "    freq = 6 + (buoy * 10).round()\n",
    "    phase = math.pi * ((2/freq) * dfc[\"day\"] + 0.5)\n",
    "    vibes = 0.5 * (press + cinn) * np.sin(phase) - (0.5 * press) + (0.5 * cinn)\n",
    "    return vibes\n",
    "\n",
    "def get_pitcher_mul(row):\n",
    "    pm = str(row[\"pitcher_mods\"])\n",
    "    ptm = str(row[\"pitching_team_mods\"])\n",
    "    mul = 1\n",
    "    if \"OVERPERFORMING\" in pm:\n",
    "        mul += 0.2\n",
    "    if \"OVERPERFORMING\" in ptm:\n",
    "        mul += 0.2\n",
    "    if \"UNDERPERFORMING\" in pm:\n",
    "        mul -= 0.2\n",
    "    if \"UNDERPERFORMING\" in ptm:\n",
    "        mul -= 0.2\n",
    "    if \"TRAVELING\" in ptm:\n",
    "        # pass # traveling just doesn't do anything on pitchers?\n",
    "        if not row[\"top_of_inning\"]:\n",
    "            mul += 0.05\n",
    "    if \"HIGH_PRESSURE\" in ptm:\n",
    "        # i messed up baserunner_count lol, so it's a string\n",
    "        if row[\"weather\"] == 18 and str(row[\"baserunner_count\"]) != \"[]\":\n",
    "            mul += 0.25\n",
    "    if \"GROWTH\" in ptm:\n",
    "        mul += min(0.05, 0.05 * (row[\"day\"] / 99))\n",
    "        # pass # growth doesn't do anything on pitchers either\n",
    "    if \"SINKING_SHIP\" in ptm:\n",
    "        mul += (14 - row[\"pitching_team_roster_size\"]) * 0.01\n",
    "    if \"AFFINITY_FOR_CROWS\" in ptm and row[\"weather\"] == 11:\n",
    "        mul += 0.5\n",
    "    return mul\n",
    "\n",
    "def get_batter_mul(row):\n",
    "    bm = str(row[\"batter_mods\"])\n",
    "    btm = str(row[\"batting_team_mods\"])\n",
    "    ptm = str(row[\"pitching_team_mods\"])\n",
    "    mul = 1\n",
    "    if \"OVERPERFORMING\" in bm:\n",
    "        mul += 0.2\n",
    "    if \"OVERPERFORMING\" in btm:\n",
    "        mul += 0.2\n",
    "    if \"UNDERPERFORMING\" in bm:\n",
    "        mul -= 0.2\n",
    "    if \"UNDERPERFORMING\" in btm:\n",
    "        mul -= 0.2\n",
    "    if \"TRAVELING\" in btm:\n",
    "        pass\n",
    "        # if row[\"top_of_inning\"]:\n",
    "            # this doesn't seem to do anything if it's here or not here\n",
    "            # mul += 0.05\n",
    "    if \"GROWTH\" in btm:\n",
    "        # mul += min(0.05, 0.05 * (row[\"day\"] / 99))\n",
    "        pass\n",
    "    if \"HIGH_PRESSURE\" in btm:\n",
    "        if row[\"weather\"] == 18 and str(row[\"baserunner_count\"]) != \"[]\":\n",
    "            mul += 0.25\n",
    "    if \"SINKING_SHIP\" in btm:\n",
    "        mul += (14 - row[\"batting_team_roster_size\"]) * 0.01\n",
    "    if \"AFFINITY_FOR_CROWS\" in btm and row[\"weather\"] == 11:\n",
    "        mul += 0.5\n",
    "    if \"CHUNKY\" in bm and row[\"weather\"] == 10:\n",
    "        # todo: handle, in peanuts weather\n",
    "#         pass\n",
    "        mul += 1.0\n",
    "    if \"SMOOTH\" in bm and row[\"weather\"] == 10:\n",
    "        # todo: handle, in peanuts weather\n",
    "        pass\n",
    "    if \"ON_FIRE\" in bm:\n",
    "        # todo: handle\n",
    "        mul += 2.0\n",
    "#         pass\n",
    "    return mul\n",
    "\n",
    "def get_fielder_mul(row):\n",
    "    fm = str(row[\"defender_mods\"])\n",
    "    ptm = str(row[\"pitching_team_mods\"])\n",
    "    mul = 1\n",
    "    if \"OVERPERFORMING\" in fm:\n",
    "        mul += 0.2\n",
    "    if \"OVERPERFORMING\" in ptm:\n",
    "        mul += 0.2\n",
    "    if \"UNDERPERFORMING\" in fm:\n",
    "        mul -= 0.2\n",
    "    if \"UNDERPERFORMING\" in ptm:\n",
    "        mul -= 0.2\n",
    "    if \"TRAVELING\" in ptm:\n",
    "        # pass # traveling just doesn't do anything on pitchers?\n",
    "        if not row[\"top_of_inning\"]:\n",
    "            mul += 0.05\n",
    "    if \"HIGH_PRESSURE\" in ptm:\n",
    "        # i messed up baserunner_count lol, so it's a string\n",
    "        if row[\"weather\"] == 18 and str(row[\"baserunner_count\"]) != \"[]\":\n",
    "            mul += 0.25\n",
    "    if \"GROWTH\" in ptm:\n",
    "        mul += min(0.05, 0.05 * (row[\"day\"] / 99))\n",
    "        # pass # growth doesn't do anything on pitchers either\n",
    "    if \"SINKING_SHIP\" in ptm:\n",
    "        mul += (14 - row[\"pitching_team_roster_size\"]) * 0.01\n",
    "    if \"AFFINITY_FOR_CROWS\" in ptm and row[\"weather\"] == 11:\n",
    "        mul += 0.5\n",
    "    if \"SHELLED\" in fm:\n",
    "        # is it this, or is it \"mul = 0\", I wonder\n",
    "        mul -= 1.0\n",
    "    return mul"
   ]
  },
  {
   "cell_type": "code",
   "execution_count": 3,
   "metadata": {},
   "outputs": [],
   "source": [
    "df[\"batter_mul\"] = df.apply(get_batter_mul, axis=1)\n",
    "df[\"pitcher_mul\"] = df.apply(get_pitcher_mul, axis=1)\n",
    "df[\"fielder_mul\"] = df.apply(get_fielder_mul, axis=1)"
   ]
  },
  {
   "cell_type": "code",
   "execution_count": 4,
   "metadata": {
    "collapsed": false,
    "jupyter": {
     "outputs_hidden": false
    },
    "pycharm": {
     "name": "#%%\n"
    }
   },
   "outputs": [],
   "source": [
    "df['baserunner_n'] = [int(np.floor(len(x)/40)) for x in df.loc[:, 'baserunner_count']]\n",
    "\n",
    "df.loc[df[\"pitcher_mods\"].astype(str).str.contains(\"SCATTERED\"),\"pitcher_vibes\"] = 0\n",
    "df.loc[df[\"batter_mods\"].astype(str).str.contains(\"SCATTERED\"),\"batter_vibes\"] = 0\n",
    "\n",
    "for attr in ['batter_buoyancy', 'batter_divinity', 'batter_martyrdom', 'batter_moxie', 'batter_musclitude', 'batter_patheticism', 'batter_thwackability', 'batter_tragicness', 'batter_coldness', 'batter_overpowerment', 'batter_ruthlessness', 'batter_shakespearianism', 'batter_suppression', 'batter_unthwackability', 'batter_base_thirst', 'batter_continuation', 'batter_ground_friction', 'batter_indulgence', 'batter_laserlikeness', 'batter_anticapitalism', 'batter_chasiness', 'batter_omniscience', 'batter_tenaciousness', 'batter_watchfulness', 'batter_pressurization', 'batter_cinnamon']:\n",
    "    df[attr] = df[attr] * df['batter_mul']\n",
    "    df[attr+'_with_vibe'] = df[attr] * (1 + 0.2 * df['batter_vibes'])\n",
    "df = df.copy()\n",
    "for attr in ['pitcher_buoyancy', 'pitcher_divinity', 'pitcher_martyrdom', 'pitcher_moxie', 'pitcher_musclitude', 'pitcher_patheticism', 'pitcher_thwackability', 'pitcher_tragicness', 'pitcher_ruthlessness', 'pitcher_overpowerment', 'pitcher_unthwackability', 'pitcher_shakespearianism', 'pitcher_suppression', 'pitcher_coldness', 'pitcher_base_thirst', 'pitcher_continuation', 'pitcher_ground_friction', 'pitcher_indulgence', 'pitcher_laserlikeness', 'pitcher_anticapitalism', 'pitcher_chasiness', 'pitcher_omniscience', 'pitcher_tenaciousness', 'pitcher_watchfulness', 'pitcher_pressurization', 'pitcher_cinnamon']:\n",
    "    df[attr] = df[attr] * df['pitcher_mul']\n",
    "    df[attr+'_with_vibe'] = df[attr] * (1 + 0.2 * df['pitcher_vibes'])\n",
    "\n",
    "if \"defender_vibes\" in df:\n",
    "    for attr in [\"defense_avg_anticapitalism\", \"defense_avg_chasiness\", \"defense_avg_omniscience\", \"defense_avg_tenaciousness\", \"defense_avg_watchfulness\"]:\n",
    "        df[attr] = df[attr] * df['fielder_mul']\n",
    "        df[attr+'_with_vibe'] = df[attr] * (1 + 0.2 * df['defender_vibes'])\n",
    "\n",
    "        \n",
    "df['omni_tenac'] = df['defense_avg_omniscience_with_vibe'] * df['defense_avg_tenaciousness_with_vibe']\n",
    "\n",
    "\n",
    "df['roll_minus_knowns'] = df['roll'] - 0.1 * df['batter_thwackability_with_vibe'] + 0.08 * df['pitcher_unthwackability_with_vibe']\n",
    "\n",
    "df['cold_runners'] = df['pitcher_coldness_with_vibe'] * (1 + df['baserunner_n'])\n",
    "df['omnisq'] = df['defense_avg_omniscience_with_vibe'] * df['defense_avg_omniscience_with_vibe']\n",
    "df['rollsq'] = df['roll'] * df['roll']\n",
    "df = df.copy()"
   ]
  },
  {
   "cell_type": "code",
   "execution_count": 5,
   "metadata": {
    "collapsed": false,
    "jupyter": {
     "outputs_hidden": false
    },
    "pycharm": {
     "name": "#%%\n"
    }
   },
   "outputs": [
    {
     "data": {
      "text/plain": [
       "29346"
      ]
     },
     "execution_count": 5,
     "metadata": {},
     "output_type": "execute_result"
    }
   ],
   "source": [
    "dfc = df.copy()\n",
    "# for exclude_mod in [\"OVERPERFORMING\", \"UNDERPERFORMING\", \"HIGH_PRESSURE\", \"GROWTH\", \"SINKING_SHIP\", \"TRAVELING\"]:\n",
    "# for exclude_mod in [\"FLINCH\", \"O_NO\", \"ON_FIRE\", \"GROWTH\", \"TRAVELING\"]:\n",
    "for exclude_mod in [\"SPICY\", \"ON_FIRE\"]:\n",
    "    dfc = dfc[~dfc[\"batter_mods\"].astype(str).str.contains(exclude_mod)]\n",
    "#  dfc = dfc[~dfc[\"pitcher_mods\"].astype(str).str.contains(exclude_mod)]\n",
    "#  dfc = dfc[~dfc[\"pitching_team_mods\"].astype(str).str.contains(exclude_mod)]\n",
    "#  dfc = dfc[~dfc[\"batting_team_mods\"].astype(str).str.contains(exclude_mod)]\n",
    "\n",
    "\n",
    "dfc = dfc[(dfc['pitcher_mul'] == 1) & (dfc['batter_mul'] == 1)]\n",
    "\n",
    "# dfc = dfc[dfc['stadium_id'].isna()]\n",
    "\n",
    "len(dfc)"
   ]
  },
  {
   "cell_type": "code",
   "execution_count": 185,
   "metadata": {
    "collapsed": false,
    "jupyter": {
     "outputs_hidden": false
    },
    "pycharm": {
     "name": "#%%\n"
    }
   },
   "outputs": [],
   "source": [
    "# X = dfc[['roll_minus_knowns', 'passed',\n",
    "X = dfc[['roll', 'passed',\n",
    "         'batter_thwackability_with_vibe',\n",
    "         'pitcher_unthwackability_with_vibe',\n",
    "         # 'pitcher_coldness_with_vibe',\n",
    "         'defense_avg_omniscience_with_vibe',\n",
    "         # 'omnisq',\n",
    "         # 'baserunner_n',\n",
    "         # 'cold_runners',\n",
    "         # 'defense_avg_tenaciousness_with_vibe',\n",
    "         # 'defense_avg_watchfulness_with_vibe',\n",
    "         # 'defense_avg_anticapitalism_with_vibe',\n",
    "         # 'defense_avg_chasiness_with_vibe',\n",
    "         # 'fielder_roll',\n",
    "         # 'omni_tenac',\n",
    "         'ballpark_grandiosity',\n",
    "         # 'ballpark_fortification',\n",
    "         'ballpark_obtuseness',\n",
    "         # 'ballpark_ominousness',\n",
    "         'ballpark_inconvenience',\n",
    "         'ballpark_viscosity',\n",
    "         'ballpark_forwardness',\n",
    "         # 'ballpark_elongation',\n",
    "         # 'ballpark_mysticism',\n",
    "         'ballpark_filthiness',\n",
    "         ]]\n",
    "# X = X[X['roll'] < 0.85]\n",
    "\n",
    "# X = dfc[['roll', 'pitcher_ruthlessness', 'ballpark_forwardness']]\n",
    "# X = dfc[['roll', 'pitcher_ruthlessness']]\n",
    "y = X['passed']\n",
    "X = X.drop('passed', axis=1)"
   ]
  },
  {
   "cell_type": "code",
   "execution_count": 186,
   "metadata": {
    "collapsed": false,
    "jupyter": {
     "outputs_hidden": false
    },
    "pycharm": {
     "name": "#%%\n"
    }
   },
   "outputs": [
    {
     "name": "stdout",
     "output_type": "stream",
     "text": [
      "[[20932     4]\n",
      " [    4  8406]]\n",
      "              precision    recall  f1-score   support\n",
      "\n",
      "       False       1.00      1.00      1.00     20936\n",
      "        True       1.00      1.00      1.00      8410\n",
      "\n",
      "    accuracy                           1.00     29346\n",
      "   macro avg       1.00      1.00      1.00     29346\n",
      "weighted avg       1.00      1.00      1.00     29346\n",
      "\n",
      "0.9997273904450351\n"
     ]
    }
   ],
   "source": [
    "from sklearn.preprocessing import StandardScaler\n",
    "from sklearn.metrics import confusion_matrix\n",
    "from sklearn.metrics import classification_report\n",
    "from sklearn import svm, linear_model\n",
    "\n",
    "# # trainedsvm = svm.SVC(kernel='linear').fit(X, y)\n",
    "# trainedsvm = svm.LinearSVC(dual=False, max_iter=100000).fit(X, y)\n",
    "# predictionsvm = trainedsvm.predict(X)\n",
    "# print(confusion_matrix(y,predictionsvm))\n",
    "# print(classification_report(y,predictionsvm))\n",
    "\n",
    "sc = StandardScaler()\n",
    "X2 = sc.fit_transform(X)\n",
    "\n",
    "trainedsvm = svm.LinearSVC(dual=False, max_iter=100000, C=1000).fit(X2, y)\n",
    "predictionsvm = trainedsvm.predict(X2)\n",
    "print(confusion_matrix(y,predictionsvm))\n",
    "print(classification_report(y,predictionsvm))\n",
    "print(trainedsvm.score(X2, y))"
   ]
  },
  {
   "cell_type": "code",
   "execution_count": 187,
   "metadata": {
    "collapsed": false,
    "jupyter": {
     "outputs_hidden": false
    },
    "pycharm": {
     "name": "#%%\n"
    }
   },
   "outputs": [
    {
     "name": "stdout",
     "output_type": "stream",
     "text": [
      "[-0.30005905]\n"
     ]
    },
    {
     "data": {
      "text/plain": [
       "[(1.0, 'roll'),\n",
       " (-0.10050823510489429, 'batter_thwackability_with_vibe'),\n",
       " (0.0796707758031995, 'pitcher_unthwackability_with_vibe'),\n",
       " (0.06435167801390816, 'defense_avg_omniscience_with_vibe'),\n",
       " (-0.009776483416523868, 'ballpark_forwardness'),\n",
       " (-0.009118249408313014, 'ballpark_grandiosity'),\n",
       " (-0.009112481509532798, 'ballpark_obtuseness'),\n",
       " (0.006578018188654503, 'ballpark_filthiness'),\n",
       " (0.0032259616992003676, 'ballpark_inconvenience'),\n",
       " (0.0026685508124676244, 'ballpark_viscosity')]"
      ]
     },
     "execution_count": 187,
     "metadata": {},
     "output_type": "execute_result"
    }
   ],
   "source": [
    "coef = np.true_divide(trainedsvm.coef_, sc.scale_)\n",
    "coef_scaled = coef / coef[0, 0]\n",
    "coef_list = coef_scaled.tolist()[0]\n",
    "\n",
    "intercept = trainedsvm.intercept_ - np.dot(coef, sc.mean_)\n",
    "intercept_scaled = intercept / coef[0, 0]\n",
    "print(intercept_scaled)\n",
    "sorted(zip(coef_list, X.columns), key=lambda x: abs(x[0]), reverse=True)"
   ]
  },
  {
   "cell_type": "code",
   "execution_count": 176,
   "metadata": {
    "collapsed": false,
    "jupyter": {
     "outputs_hidden": false
    },
    "pycharm": {
     "name": "#%%\n"
    }
   },
   "outputs": [
    {
     "data": {
      "text/plain": [
       "<matplotlib.legend.Legend at 0x7f7beb3288b0>"
      ]
     },
     "execution_count": 176,
     "metadata": {},
     "output_type": "execute_result"
    },
    {
     "data": {
      "image/png": "[encoded data removed]",
      "text/plain": [
       "<Figure size 432x432 with 1 Axes>"
      ]
     },
     "metadata": {
      "needs_background": "light"
     },
     "output_type": "display_data"
    }
   ],
   "source": [
    "dfc['threshold'] = (0.315 - (\n",
    " -0.10 * dfc['batter_thwackability_with_vibe']\n",
    " +0.08 * dfc['pitcher_unthwackability_with_vibe']\n",
    " +0.07 * dfc['defense_avg_omniscience_with_vibe']\n",
    "))\n",
    "\n",
    "dfc['threshold'] = (0.300 - (\n",
    "    - 0.10 * dfc['batter_thwackability_with_vibe']\n",
    "    + 0.08 * dfc['pitcher_unthwackability_with_vibe']\n",
    "    + 0.065 * dfc['defense_avg_omniscience_with_vibe']\n",
    "    - 0.01 * dfc['ballpark_forwardness']\n",
    "    - 0.01 * dfc['ballpark_grandiosity']\n",
    "    - 0.01 * dfc['ballpark_obtuseness']\n",
    "    + 0.003* dfc['ballpark_viscosity']\n",
    "    + 0.003* dfc['ballpark_inconvenience']\n",
    "    # + 0.007* dfc['ballpark_filthiness']\n",
    "))\n",
    "\n",
    "# dfc['threshold'] = -intercept_scaled[0]\n",
    "# print(-intercept_scaled)\n",
    "# for pair in zip(-np.array(coef_list), X.columns):\n",
    "#     if pair[1] != \"roll\":\n",
    "#         print(pair)\n",
    "#         dfc['threshold'] += pair[0] * dfc[pair[1]]\n",
    "        \n",
    "# dfc['threshold'] -= - 0.1 * df['batter_thwackability_with_vibe'] + 0.08 * df['pitcher_unthwackability_with_vibe']\n",
    "    \n",
    "y_val = \"roll\"\n",
    "x_val = \"threshold\"\n",
    "# x_val = \"fielder_roll\"\n",
    "fig, ax = plt.subplots(1, figsize=(6, 6))\n",
    "ax.scatter(dfc[~dfc['passed']][x_val], dfc[~dfc['passed']][y_val], color=\"red\",\n",
    "           label=\"Out\", marker=CARETRIGHTBASE)\n",
    "ax.scatter(dfc[dfc['passed']][x_val], dfc[dfc['passed']][y_val], color=\"blue\",\n",
    "           label=\"Hit\", marker=CARETLEFTBASE)\n",
    "ax.set_xlabel(x_val)\n",
    "ax.set_ylabel('roll')\n",
    "ax.set_title(f\"Season {season+1} Hits vs. Outs\")\n",
    "# ax.set_xlim(0.484, 0.499)\n",
    "\n",
    "if x_val == \"threshold\":\n",
    "    ax.plot(ax.get_xlim(), ax.get_xlim())\n",
    "\n",
    "ax.legend()"
   ]
  },
  {
   "cell_type": "code",
   "execution_count": 177,
   "metadata": {
    "pycharm": {
     "name": "#%%\n"
    },
    "tags": []
   },
   "outputs": [
    {
     "name": "stdout",
     "output_type": "stream",
     "text": [
      "15\n"
     ]
    },
    {
     "data": {
      "text/html": [
       "<div>\n",
       "<style scoped>\n",
       "    .dataframe tbody tr th:only-of-type {\n",
       "        vertical-align: middle;\n",
       "    }\n",
       "\n",
       "    .dataframe tbody tr th {\n",
       "        vertical-align: top;\n",
       "    }\n",
       "\n",
       "    .dataframe thead th {\n",
       "        text-align: right;\n",
       "    }\n",
       "</style>\n",
       "<table border=\"1\" class=\"dataframe\">\n",
       "  <thead>\n",
       "    <tr style=\"text-align: right;\">\n",
       "      <th></th>\n",
       "      <th>offset</th>\n",
       "      <th>event_type</th>\n",
       "      <th>pitcher_mul</th>\n",
       "      <th>batter_mul</th>\n",
       "      <th>fielder_mul</th>\n",
       "      <th>event_type</th>\n",
       "      <th>roll</th>\n",
       "      <th>threshold</th>\n",
       "      <th>batter_thwackability_with_vibe</th>\n",
       "      <th>pitcher_unthwackability_with_vibe</th>\n",
       "      <th>defense_avg_omniscience_with_vibe</th>\n",
       "      <th>batter_name</th>\n",
       "      <th>pitcher_name</th>\n",
       "      <th>fielder_name</th>\n",
       "      <th>batter_mods</th>\n",
       "      <th>pitcher_mods</th>\n",
       "      <th>defender_mods</th>\n",
       "      <th>batting_team_mods</th>\n",
       "      <th>pitching_team_mods</th>\n",
       "      <th>day</th>\n",
       "      <th>game_id</th>\n",
       "      <th>play_count</th>\n",
       "      <th>fielder_roll</th>\n",
       "      <th>ballpark_ominousness</th>\n",
       "    </tr>\n",
       "  </thead>\n",
       "  <tbody>\n",
       "    <tr>\n",
       "      <th>33325</th>\n",
       "      <td>0.001124</td>\n",
       "      <td>BaseHit</td>\n",
       "      <td>1.0</td>\n",
       "      <td>1.0</td>\n",
       "      <td>1.0</td>\n",
       "      <td>BaseHit</td>\n",
       "      <td>0.326461</td>\n",
       "      <td>0.325337</td>\n",
       "      <td>1.283122</td>\n",
       "      <td>1.000996</td>\n",
       "      <td>0.610682</td>\n",
       "      <td>Francisca Sasquatch</td>\n",
       "      <td>Jordan Hildebert</td>\n",
       "      <td>Comfo-t S-p---be-ish</td>\n",
       "      <td>HONEY_ROASTED</td>\n",
       "      <td>FRIEND_OF_CROWS;SIPHON</td>\n",
       "      <td>SCATTERED</td>\n",
       "      <td>LIFE_OF_PARTY;ELECTRIC</td>\n",
       "      <td>NaN</td>\n",
       "      <td>29</td>\n",
       "      <td>c87d2155-a791-47dc-830a-0e06ff2097be</td>\n",
       "      <td>319</td>\n",
       "      <td>0.131666</td>\n",
       "      <td>0.471649</td>\n",
       "    </tr>\n",
       "    <tr>\n",
       "      <th>39903</th>\n",
       "      <td>-0.000011</td>\n",
       "      <td>Flyout</td>\n",
       "      <td>1.0</td>\n",
       "      <td>1.0</td>\n",
       "      <td>1.0</td>\n",
       "      <td>Flyout</td>\n",
       "      <td>0.267952</td>\n",
       "      <td>0.267964</td>\n",
       "      <td>0.571435</td>\n",
       "      <td>1.230411</td>\n",
       "      <td>0.082065</td>\n",
       "      <td>Ni- Winkler</td>\n",
       "      <td>Agan Harrison</td>\n",
       "      <td>Justice Spoon</td>\n",
       "      <td>SCATTERED</td>\n",
       "      <td>NaN</td>\n",
       "      <td>ALTERNATE;FIRE_EATER</td>\n",
       "      <td>GROWTH</td>\n",
       "      <td>NaN</td>\n",
       "      <td>40</td>\n",
       "      <td>e28943d4-092b-4892-bf82-edb94e31081c</td>\n",
       "      <td>188</td>\n",
       "      <td>0.532930</td>\n",
       "      <td>0.491609</td>\n",
       "    </tr>\n",
       "    <tr>\n",
       "      <th>34109</th>\n",
       "      <td>-0.000013</td>\n",
       "      <td>GroundOut</td>\n",
       "      <td>1.0</td>\n",
       "      <td>1.0</td>\n",
       "      <td>1.0</td>\n",
       "      <td>GroundOut</td>\n",
       "      <td>0.342275</td>\n",
       "      <td>0.342288</td>\n",
       "      <td>0.972270</td>\n",
       "      <td>0.198048</td>\n",
       "      <td>0.859910</td>\n",
       "      <td>Yrjö Kerfuffle</td>\n",
       "      <td>NaN</td>\n",
       "      <td>Kaz Fiasco</td>\n",
       "      <td>NaN</td>\n",
       "      <td>FLICKERING;RECEIVER</td>\n",
       "      <td>NaN</td>\n",
       "      <td>NaN</td>\n",
       "      <td>BOTTOM_DWELLER</td>\n",
       "      <td>31</td>\n",
       "      <td>1aad07e1-7f2b-4493-96c7-7b858a6b819b</td>\n",
       "      <td>92</td>\n",
       "      <td>0.764993</td>\n",
       "      <td>0.471649</td>\n",
       "    </tr>\n",
       "    <tr>\n",
       "      <th>68164</th>\n",
       "      <td>-0.000059</td>\n",
       "      <td>GroundOut</td>\n",
       "      <td>1.0</td>\n",
       "      <td>1.0</td>\n",
       "      <td>1.0</td>\n",
       "      <td>GroundOut</td>\n",
       "      <td>0.213357</td>\n",
       "      <td>0.213415</td>\n",
       "      <td>0.179301</td>\n",
       "      <td>1.024183</td>\n",
       "      <td>0.553167</td>\n",
       "      <td>Stijn Strongbody</td>\n",
       "      <td>Wesley Poole</td>\n",
       "      <td>Socks Maybe</td>\n",
       "      <td>SWIM_BLADDER</td>\n",
       "      <td>NaN</td>\n",
       "      <td>NaN</td>\n",
       "      <td>NaN</td>\n",
       "      <td>NaN</td>\n",
       "      <td>91</td>\n",
       "      <td>25812b54-0175-4a21-9adf-f523bce87cf6</td>\n",
       "      <td>289</td>\n",
       "      <td>0.455194</td>\n",
       "      <td>0.469844</td>\n",
       "    </tr>\n",
       "    <tr>\n",
       "      <th>44439</th>\n",
       "      <td>-0.000100</td>\n",
       "      <td>GroundOut</td>\n",
       "      <td>1.0</td>\n",
       "      <td>1.0</td>\n",
       "      <td>1.0</td>\n",
       "      <td>GroundOut</td>\n",
       "      <td>0.309996</td>\n",
       "      <td>0.310096</td>\n",
       "      <td>0.923292</td>\n",
       "      <td>0.754476</td>\n",
       "      <td>0.542323</td>\n",
       "      <td>Steph Weeks</td>\n",
       "      <td>Caleb Alvarado</td>\n",
       "      <td>Socks Maybe</td>\n",
       "      <td>FIRE_EATER</td>\n",
       "      <td>FRIEND_OF_CROWS</td>\n",
       "      <td>NaN</td>\n",
       "      <td>EARLBIRDS</td>\n",
       "      <td>NaN</td>\n",
       "      <td>47</td>\n",
       "      <td>9dede6c6-5aea-41cf-8462-9717c124719b</td>\n",
       "      <td>236</td>\n",
       "      <td>0.463253</td>\n",
       "      <td>0.469844</td>\n",
       "    </tr>\n",
       "    <tr>\n",
       "      <th>65506</th>\n",
       "      <td>-0.000137</td>\n",
       "      <td>GroundOut</td>\n",
       "      <td>1.0</td>\n",
       "      <td>1.0</td>\n",
       "      <td>1.0</td>\n",
       "      <td>GroundOut</td>\n",
       "      <td>0.282499</td>\n",
       "      <td>0.282636</td>\n",
       "      <td>0.817918</td>\n",
       "      <td>1.077440</td>\n",
       "      <td>0.456601</td>\n",
       "      <td>Velasquez Alstott</td>\n",
       "      <td>Inky Rutledge</td>\n",
       "      <td>Bonk Jokes</td>\n",
       "      <td>FLINCH;FIRE_EATER</td>\n",
       "      <td>NaN</td>\n",
       "      <td>NaN</td>\n",
       "      <td>TRAVELING;PARTY_TIME</td>\n",
       "      <td>O_NO</td>\n",
       "      <td>87</td>\n",
       "      <td>6cca6460-266a-4e2c-8a6b-0c0cc1097f5f</td>\n",
       "      <td>159</td>\n",
       "      <td>0.549246</td>\n",
       "      <td>0.498974</td>\n",
       "    </tr>\n",
       "    <tr>\n",
       "      <th>84085</th>\n",
       "      <td>-0.000246</td>\n",
       "      <td>GroundOut</td>\n",
       "      <td>1.0</td>\n",
       "      <td>1.0</td>\n",
       "      <td>1.0</td>\n",
       "      <td>GroundOut</td>\n",
       "      <td>0.274786</td>\n",
       "      <td>0.275031</td>\n",
       "      <td>0.467531</td>\n",
       "      <td>1.009648</td>\n",
       "      <td>0.117977</td>\n",
       "      <td>Huber Frumple</td>\n",
       "      <td>Inky Rutledge</td>\n",
       "      <td>Eizabeth Elliott</td>\n",
       "      <td>NaN</td>\n",
       "      <td>NaN</td>\n",
       "      <td>NaN</td>\n",
       "      <td>AFFINITY_FOR_CROWS</td>\n",
       "      <td>O_NO</td>\n",
       "      <td>104</td>\n",
       "      <td>bf090bfc-0b4b-4654-bd85-f2ec3123341d</td>\n",
       "      <td>50</td>\n",
       "      <td>0.957672</td>\n",
       "      <td>0.498974</td>\n",
       "    </tr>\n",
       "    <tr>\n",
       "      <th>73681</th>\n",
       "      <td>-0.000264</td>\n",
       "      <td>GroundOut</td>\n",
       "      <td>1.0</td>\n",
       "      <td>1.0</td>\n",
       "      <td>1.0</td>\n",
       "      <td>GroundOut</td>\n",
       "      <td>0.323189</td>\n",
       "      <td>0.323453</td>\n",
       "      <td>1.207072</td>\n",
       "      <td>0.766287</td>\n",
       "      <td>0.721207</td>\n",
       "      <td>Knight Triumphant</td>\n",
       "      <td>Tot Clark</td>\n",
       "      <td>Malik Destiny</td>\n",
       "      <td>SIPHON;PERK</td>\n",
       "      <td>NaN</td>\n",
       "      <td>ALTERNATE;FIRE_EATER</td>\n",
       "      <td>LOVE</td>\n",
       "      <td>NaN</td>\n",
       "      <td>9</td>\n",
       "      <td>68bf182a-53c4-4f41-8b4c-28b2e0326125</td>\n",
       "      <td>19</td>\n",
       "      <td>0.343765</td>\n",
       "      <td>0.495296</td>\n",
       "    </tr>\n",
       "    <tr>\n",
       "      <th>35201</th>\n",
       "      <td>-0.000359</td>\n",
       "      <td>GroundOut</td>\n",
       "      <td>1.0</td>\n",
       "      <td>1.0</td>\n",
       "      <td>1.0</td>\n",
       "      <td>GroundOut</td>\n",
       "      <td>0.336068</td>\n",
       "      <td>0.336427</td>\n",
       "      <td>0.766098</td>\n",
       "      <td>0.625702</td>\n",
       "      <td>0.105310</td>\n",
       "      <td>Kurt Crueller</td>\n",
       "      <td>Ruslan Greatness</td>\n",
       "      <td>Beasley Day</td>\n",
       "      <td>NaN</td>\n",
       "      <td>FRIEND_OF_CROWS</td>\n",
       "      <td>NaN</td>\n",
       "      <td>O_NO</td>\n",
       "      <td>AFFINITY_FOR_CROWS</td>\n",
       "      <td>33</td>\n",
       "      <td>ec2eb4d3-b81a-430d-90c0-328371126cb2</td>\n",
       "      <td>24</td>\n",
       "      <td>0.193326</td>\n",
       "      <td>0.498974</td>\n",
       "    </tr>\n",
       "    <tr>\n",
       "      <th>82213</th>\n",
       "      <td>-0.000415</td>\n",
       "      <td>GroundOut</td>\n",
       "      <td>1.0</td>\n",
       "      <td>1.0</td>\n",
       "      <td>1.0</td>\n",
       "      <td>GroundOut</td>\n",
       "      <td>0.269915</td>\n",
       "      <td>0.270329</td>\n",
       "      <td>0.463527</td>\n",
       "      <td>1.009648</td>\n",
       "      <td>0.142414</td>\n",
       "      <td>Summers Pony</td>\n",
       "      <td>Inky Rutledge</td>\n",
       "      <td>Eizabeth Elliott</td>\n",
       "      <td>NaN</td>\n",
       "      <td>TRIPLE_THREAT</td>\n",
       "      <td>NaN</td>\n",
       "      <td>NaN</td>\n",
       "      <td>O_NO</td>\n",
       "      <td>22</td>\n",
       "      <td>76795bae-2e33-4e19-9082-0b3bf6965b6b</td>\n",
       "      <td>310</td>\n",
       "      <td>0.999097</td>\n",
       "      <td>0.696044</td>\n",
       "    </tr>\n",
       "  </tbody>\n",
       "</table>\n",
       "</div>"
      ],
      "text/plain": [
       "         offset event_type  pitcher_mul  batter_mul  fielder_mul event_type  \\\n",
       "33325  0.001124    BaseHit          1.0         1.0          1.0    BaseHit   \n",
       "39903 -0.000011     Flyout          1.0         1.0          1.0     Flyout   \n",
       "34109 -0.000013  GroundOut          1.0         1.0          1.0  GroundOut   \n",
       "68164 -0.000059  GroundOut          1.0         1.0          1.0  GroundOut   \n",
       "44439 -0.000100  GroundOut          1.0         1.0          1.0  GroundOut   \n",
       "65506 -0.000137  GroundOut          1.0         1.0          1.0  GroundOut   \n",
       "84085 -0.000246  GroundOut          1.0         1.0          1.0  GroundOut   \n",
       "73681 -0.000264  GroundOut          1.0         1.0          1.0  GroundOut   \n",
       "35201 -0.000359  GroundOut          1.0         1.0          1.0  GroundOut   \n",
       "82213 -0.000415  GroundOut          1.0         1.0          1.0  GroundOut   \n",
       "\n",
       "           roll  threshold  batter_thwackability_with_vibe  \\\n",
       "33325  0.326461   0.325337                        1.283122   \n",
       "39903  0.267952   0.267964                        0.571435   \n",
       "34109  0.342275   0.342288                        0.972270   \n",
       "68164  0.213357   0.213415                        0.179301   \n",
       "44439  0.309996   0.310096                        0.923292   \n",
       "65506  0.282499   0.282636                        0.817918   \n",
       "84085  0.274786   0.275031                        0.467531   \n",
       "73681  0.323189   0.323453                        1.207072   \n",
       "35201  0.336068   0.336427                        0.766098   \n",
       "82213  0.269915   0.270329                        0.463527   \n",
       "\n",
       "       pitcher_unthwackability_with_vibe  defense_avg_omniscience_with_vibe  \\\n",
       "33325                           1.000996                           0.610682   \n",
       "39903                           1.230411                           0.082065   \n",
       "34109                           0.198048                           0.859910   \n",
       "68164                           1.024183                           0.553167   \n",
       "44439                           0.754476                           0.542323   \n",
       "65506                           1.077440                           0.456601   \n",
       "84085                           1.009648                           0.117977   \n",
       "73681                           0.766287                           0.721207   \n",
       "35201                           0.625702                           0.105310   \n",
       "82213                           1.009648                           0.142414   \n",
       "\n",
       "               batter_name      pitcher_name          fielder_name  \\\n",
       "33325  Francisca Sasquatch  Jordan Hildebert  Comfo-t S-p---be-ish   \n",
       "39903          Ni- Winkler     Agan Harrison         Justice Spoon   \n",
       "34109       Yrjö Kerfuffle               NaN            Kaz Fiasco   \n",
       "68164     Stijn Strongbody      Wesley Poole           Socks Maybe   \n",
       "44439          Steph Weeks    Caleb Alvarado           Socks Maybe   \n",
       "65506    Velasquez Alstott     Inky Rutledge            Bonk Jokes   \n",
       "84085        Huber Frumple     Inky Rutledge      Eizabeth Elliott   \n",
       "73681    Knight Triumphant         Tot Clark         Malik Destiny   \n",
       "35201        Kurt Crueller  Ruslan Greatness           Beasley Day   \n",
       "82213         Summers Pony     Inky Rutledge      Eizabeth Elliott   \n",
       "\n",
       "             batter_mods            pitcher_mods         defender_mods  \\\n",
       "33325      HONEY_ROASTED  FRIEND_OF_CROWS;SIPHON             SCATTERED   \n",
       "39903          SCATTERED                     NaN  ALTERNATE;FIRE_EATER   \n",
       "34109                NaN     FLICKERING;RECEIVER                   NaN   \n",
       "68164       SWIM_BLADDER                     NaN                   NaN   \n",
       "44439         FIRE_EATER         FRIEND_OF_CROWS                   NaN   \n",
       "65506  FLINCH;FIRE_EATER                     NaN                   NaN   \n",
       "84085                NaN                     NaN                   NaN   \n",
       "73681        SIPHON;PERK                     NaN  ALTERNATE;FIRE_EATER   \n",
       "35201                NaN         FRIEND_OF_CROWS                   NaN   \n",
       "82213                NaN           TRIPLE_THREAT                   NaN   \n",
       "\n",
       "            batting_team_mods  pitching_team_mods  day  \\\n",
       "33325  LIFE_OF_PARTY;ELECTRIC                 NaN   29   \n",
       "39903                  GROWTH                 NaN   40   \n",
       "34109                     NaN      BOTTOM_DWELLER   31   \n",
       "68164                     NaN                 NaN   91   \n",
       "44439               EARLBIRDS                 NaN   47   \n",
       "65506    TRAVELING;PARTY_TIME                O_NO   87   \n",
       "84085      AFFINITY_FOR_CROWS                O_NO  104   \n",
       "73681                    LOVE                 NaN    9   \n",
       "35201                    O_NO  AFFINITY_FOR_CROWS   33   \n",
       "82213                     NaN                O_NO   22   \n",
       "\n",
       "                                    game_id  play_count  fielder_roll  \\\n",
       "33325  c87d2155-a791-47dc-830a-0e06ff2097be         319      0.131666   \n",
       "39903  e28943d4-092b-4892-bf82-edb94e31081c         188      0.532930   \n",
       "34109  1aad07e1-7f2b-4493-96c7-7b858a6b819b          92      0.764993   \n",
       "68164  25812b54-0175-4a21-9adf-f523bce87cf6         289      0.455194   \n",
       "44439  9dede6c6-5aea-41cf-8462-9717c124719b         236      0.463253   \n",
       "65506  6cca6460-266a-4e2c-8a6b-0c0cc1097f5f         159      0.549246   \n",
       "84085  bf090bfc-0b4b-4654-bd85-f2ec3123341d          50      0.957672   \n",
       "73681  68bf182a-53c4-4f41-8b4c-28b2e0326125          19      0.343765   \n",
       "35201  ec2eb4d3-b81a-430d-90c0-328371126cb2          24      0.193326   \n",
       "82213  76795bae-2e33-4e19-9082-0b3bf6965b6b         310      0.999097   \n",
       "\n",
       "       ballpark_ominousness  \n",
       "33325              0.471649  \n",
       "39903              0.491609  \n",
       "34109              0.471649  \n",
       "68164              0.469844  \n",
       "44439              0.469844  \n",
       "65506              0.498974  \n",
       "84085              0.498974  \n",
       "73681              0.495296  \n",
       "35201              0.498974  \n",
       "82213              0.696044  "
      ]
     },
     "execution_count": 177,
     "metadata": {},
     "output_type": "execute_result"
    },
    {
     "data": {
      "image/png": "[encoded data removed]",
      "text/plain": [
       "<Figure size 432x288 with 1 Axes>"
      ]
     },
     "metadata": {
      "needs_background": "light"
     },
     "output_type": "display_data"
    }
   ],
   "source": [
    "dfc[\"offset\"] = dfc[\"roll\"] - dfc[\"threshold\"]\n",
    "outliers = dfc[(dfc[\"passed\"] & (dfc[\"offset\"] >= 0)) | (~dfc[\"passed\"] & (dfc[\"offset\"] <= 0))]\n",
    "\n",
    "fig, ax = plt.subplots(1)\n",
    "x_val = \"threshold\"\n",
    "# x_val = \"defense_avg_omniscience_with_vibe\"\n",
    "ax.scatter(outliers[~outliers['passed']][x_val], outliers[~outliers['passed']][\"offset\"], color=\"red\", label=\"Out\")\n",
    "ax.scatter(outliers[outliers['passed']][x_val], outliers[outliers['passed']][\"offset\"], color=\"blue\", label=\"Hit\")\n",
    "ax.set_xlabel(x_val)\n",
    "ax.set_ylabel('offset')\n",
    "ax.legend()\n",
    "\n",
    "pd.set_option('display.max_rows', None)\n",
    "pd.set_option('display.max_columns', None)\n",
    "table = outliers[[\"offset\", \"event_type\", #\"home_score\", \"away_score\", \"top_of_inning\", \"inning\",\n",
    "       \"pitcher_mul\", \"batter_mul\", \"fielder_mul\",# \"baserunner_count\",\n",
    "       \"event_type\", \"roll\", \"threshold\",# \"batter_vibes\", \"pitcher_vibes\",\n",
    "       \"batter_thwackability_with_vibe\", \"pitcher_unthwackability_with_vibe\", \"defense_avg_omniscience_with_vibe\",\n",
    "       \"batter_name\", \"pitcher_name\", \"fielder_name\", \"batter_mods\", \"pitcher_mods\", \"defender_mods\",\n",
    "       \"batting_team_mods\", \"pitching_team_mods\", \"day\",  \"game_id\", \"play_count\",\n",
    "       \"fielder_roll\", \"ballpark_ominousness\"]]\n",
    "print(len(table))\n",
    "table.sort_values('offset', ascending=False)[0:10]\n"
   ]
  },
  {
   "cell_type": "code",
   "execution_count": 153,
   "metadata": {},
   "outputs": [
    {
     "data": {
      "text/plain": [
       "fielder_name\n",
       "Halexandrey Walton    327\n",
       "Basilio Fig           297\n",
       "Basilio Mason         276\n",
       "Valentine Games       269\n",
       "Yusef Puddles         253\n",
       "Eduardo Woodman       232\n",
       "Jode Preston          222\n",
       "Nicholas Mora         212\n",
       "Hercules Alighieri    207\n",
       "Paula Mason           200\n",
       "Niq Nyong'o           200\n",
       "Randy Castillo        200\n",
       "Kennedy Loser         199\n",
       "Muse Scantron         198\n",
       "Huber Frumple         196\n",
       "dtype: int64"
      ]
     },
     "execution_count": 153,
     "metadata": {},
     "output_type": "execute_result"
    }
   ],
   "source": [
    "# outliers.sort_values('roll', ascending=True).style.hide()\n",
    "dfc.groupby('fielder_name').size().sort_values(ascending=False)[0:15]"
   ]
  },
  {
   "cell_type": "code",
   "execution_count": null,
   "metadata": {},
   "outputs": [],
   "source": []
  },
  {
   "cell_type": "code",
   "execution_count": null,
   "metadata": {},
   "outputs": [],
   "source": []
  },
  {
   "cell_type": "code",
   "execution_count": null,
   "metadata": {},
   "outputs": [],
   "source": []
  },
  {
   "cell_type": "code",
   "execution_count": null,
   "metadata": {},
   "outputs": [],
   "source": []
  },
  {
   "cell_type": "code",
   "execution_count": 133,
   "metadata": {
    "collapsed": false,
    "jupyter": {
     "outputs_hidden": false
    },
    "pycharm": {
     "name": "#%%\n"
    }
   },
   "outputs": [
    {
     "data": {
      "text/plain": [
       "passed                           -0.780355\n",
       "threshold                        -0.153008\n",
       "batter_thwackability_with_vibe   -0.112903\n",
       "batter_thwackability             -0.107949\n",
       "batter_musclitude_with_vibe      -0.042431\n",
       "batter_musclitude                -0.037351\n",
       "batter_overpowerment_with_vibe   -0.034344\n",
       "batter_vibes                     -0.032145\n",
       "batter_overpowerment             -0.029875\n",
       "batter_vibes_multiplied          -0.028478\n",
       "Name: offset, dtype: float64"
      ]
     },
     "execution_count": 133,
     "metadata": {},
     "output_type": "execute_result"
    }
   ],
   "source": [
    "dfc.corr()['offset'].sort_values()[0:10]"
   ]
  },
  {
   "cell_type": "code",
   "execution_count": null,
   "metadata": {
    "pycharm": {
     "name": "#%%\n"
    },
    "tags": []
   },
   "outputs": [],
   "source": []
  },
  {
   "cell_type": "code",
   "execution_count": 159,
   "metadata": {
    "collapsed": false,
    "jupyter": {
     "outputs_hidden": false
    },
    "pycharm": {
     "name": "#%%\n"
    }
   },
   "outputs": [
    {
     "data": {
      "image/png": "[encoded data removed]",
      "text/plain": [
       "<Figure size 720x1080 with 6 Axes>"
      ]
     },
     "metadata": {
      "needs_background": "light"
     },
     "output_type": "display_data"
    }
   ],
   "source": [
    "plt.rcParams[\"font.size\"] = 10\n",
    "x_val = 'threshold'\n",
    "fig, axes = plt.subplots(3,2, figsize=(10,15), constrained_layout=True)\n",
    "fig.suptitle(f\"Season {season+1} Hits vs. Outs\", fontsize=16)\n",
    "dimlist = [5e-2, 2e-2, 1e-2, .5e-2, .2e-2, .1e-2]\n",
    "for i, ax in enumerate(np.ravel(axes)):\n",
    "    ax.scatter(dfc[dfc['passed']][x_val], dfc[dfc['passed']]['offset'], color=\"blue\", label=\"Hit\")\n",
    "    ax.scatter(dfc[~dfc['passed']][x_val], dfc[~dfc['passed']]['offset'], color=\"red\", label=\"Out\")\n",
    "    ax.scatter(outliers[~outliers['passed']][x_val], outliers[~outliers['passed']][\"offset\"], color=\"red\", edgecolor=\"black\")\n",
    "    ax.scatter(outliers[outliers['passed']][x_val], outliers[outliers['passed']][\"offset\"], color=\"blue\", edgecolor=\"black\")\n",
    "    ax.set_xlabel(x_val)\n",
    "    ax.set_ylabel('offset')\n",
    "    ax.legend()\n",
    "    ax.grid()\n",
    "    ax.set_ylim(-dimlist[i], dimlist[i])\n",
    "# fig.savefig(\"hit_out_fit_offsets.png\", facecolor='white')\n"
   ]
  },
  {
   "cell_type": "code",
   "execution_count": null,
   "metadata": {
    "collapsed": false,
    "jupyter": {
     "outputs_hidden": false
    },
    "pycharm": {
     "name": "#%%\n"
    }
   },
   "outputs": [],
   "source": []
  },
  {
   "cell_type": "code",
   "execution_count": null,
   "metadata": {
    "collapsed": false,
    "jupyter": {
     "outputs_hidden": false
    },
    "pycharm": {
     "name": "#%%\n"
    }
   },
   "outputs": [],
   "source": []
  },
  {
   "cell_type": "code",
   "execution_count": 14,
   "metadata": {
    "collapsed": false,
    "jupyter": {
     "outputs_hidden": false
    },
    "pycharm": {
     "name": "#%%\n"
    }
   },
   "outputs": [
    {
     "data": {
      "text/plain": [
       "baserunner_count\n",
       "[]                                          19776\n",
       "['03b80a57-77ea-4913-9be4-7a85c3594745']       98\n",
       "['efafe75e-2f00-4418-914c-9b6675d39264']       84\n",
       "['c675fcdf-6117-49a6-ac32-99a89a3a88aa']       82\n",
       "['c755efce-d04d-4e00-b5c1-d801070d3808']       81\n",
       "['17392be2-7344-48a0-b4db-8a040a7fb532']       72\n",
       "['2ffbaec8-a646-4435-a17a-3a0a2b5f3e16']       70\n",
       "['27c68d7f-5e40-4afa-8b6f-9df47b79e7dd']       70\n",
       "['32810dca-825c-4dbc-8b65-0702794c424e']       68\n",
       "['ac69dba3-6225-4afd-ab4b-23fc78f730fb']       62\n",
       "['27839754-c351-43ec-9bff-ca662a2385b9']       62\n",
       "['740d5fef-d59f-4dac-9a75-739ec07f91cf']       62\n",
       "['9a031b9a-16f8-4165-a468-5d0e28a81151']       60\n",
       "['88cd6efa-dbf2-4309-aabe-ec1d6f21f98a']       59\n",
       "['083d09d4-7ed3-4100-b021-8fbe30dd43e8']       58\n",
       "dtype: int64"
      ]
     },
     "execution_count": 14,
     "metadata": {},
     "output_type": "execute_result"
    }
   ],
   "source": [
    "dfc.groupby('baserunner_count').size().sort_values(ascending=False)[0:15]"
   ]
  },
  {
   "cell_type": "code",
   "execution_count": 15,
   "metadata": {
    "collapsed": false,
    "jupyter": {
     "outputs_hidden": false
    },
    "pycharm": {
     "name": "#%%\n"
    }
   },
   "outputs": [
    {
     "data": {
      "text/plain": [
       "120"
      ]
     },
     "execution_count": 15,
     "metadata": {},
     "output_type": "execute_result"
    }
   ],
   "source": [
    "max(len(x) for x in dfc.loc[:, 'baserunner_count'])"
   ]
  },
  {
   "cell_type": "code",
   "execution_count": 16,
   "metadata": {},
   "outputs": [
    {
     "data": {
      "text/plain": [
       "stadium_id\n",
       "031670ae-97a5-4215-b1a1-98e9f1de7c50     937\n",
       "06c991f6-4ef3-4a9a-8254-8a2bc7d3a1e1    1493\n",
       "1c1614b3-abdb-4008-98eb-12aeb8f7bb54     896\n",
       "21ce1233-b2d6-4bd2-8d03-68a8915afdc5    1078\n",
       "2841dc8c-b5a2-4b3a-a717-9e646e8e29fc    1308\n",
       "2a1a52b3-9759-44aa-ba49-b1437396d895    1680\n",
       "36ae955c-6264-4437-8669-3053f62992e5    1637\n",
       "36b94380-39a6-4e32-b525-3e888215798a    2726\n",
       "37c2743f-1a15-4e3f-bdb1-a6461df93434    1435\n",
       "43fbdf41-336f-46a8-9445-eb8a6e05d811    1111\n",
       "60e78a6c-fe49-4283-8293-735e9fa7e3e9     872\n",
       "6bfd22e7-831d-4ba9-a9f9-2cf7ab00c39d    1437\n",
       "7f09624b-b3cf-4493-b768-adf090bebf21    1531\n",
       "8a84154e-80d7-47d5-8f56-295e9a9653d9    1089\n",
       "8e900d85-7d4c-47d0-a67f-6432144f0210    1024\n",
       "929fc650-948a-4736-b7a2-bb7b75902e6e    1019\n",
       "a0851e18-d5d7-4749-b3c5-c6023fe1cc61    1553\n",
       "a109bd65-bfd3-43c7-9eb8-70dddc4d8a29    1200\n",
       "ba794e99-4d6b-4e12-9450-6522745190f8    1203\n",
       "cb94ac8b-003b-4d95-baf3-7c14b1c3fc29     939\n",
       "cfb57d7c-4118-4b0a-85cc-4e3a51a66cb6    1197\n",
       "d37abba6-9fba-463a-8f4f-7cf49de3c7b6     517\n",
       "f71fd587-d20c-461c-88a4-1634a2df3f43    1464\n",
       "dtype: int64"
      ]
     },
     "execution_count": 16,
     "metadata": {},
     "output_type": "execute_result"
    }
   ],
   "source": [
    "dfc.groupby('stadium_id').size()"
   ]
  },
  {
   "cell_type": "code",
   "execution_count": null,
   "metadata": {
    "tags": []
   },
   "outputs": [],
   "source": []
  },
  {
   "cell_type": "code",
   "execution_count": null,
   "metadata": {},
   "outputs": [],
   "source": []
  }
 ],
 "metadata": {
  "kernelspec": {
   "display_name": "Python 3 (ipykernel)",
   "language": "python",
   "name": "python3"
  },
  "language_info": {
   "codemirror_mode": {
    "name": "ipython",
    "version": 3
   },
   "file_extension": ".py",
   "mimetype": "text/x-python",
   "name": "python",
   "nbconvert_exporter": "python",
   "pygments_lexer": "ipython3",
   "version": "3.9.12"
  }
 },
 "nbformat": 4,
 "nbformat_minor": 4
}
