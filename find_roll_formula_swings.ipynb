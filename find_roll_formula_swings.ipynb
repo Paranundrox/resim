{
 "cells": [
  {
   "cell_type": "code",
   "execution_count": 1,
   "metadata": {
    "pycharm": {
     "name": "#%%\n"
    }
   },
   "outputs": [],
   "source": [
    "import glob\n",
    "\n",
    "import pandas as pd\n",
    "import matplotlib.pyplot as plt\n",
    "import numpy as np\n",
    "from matplotlib.markers import CARETLEFTBASE, CARETRIGHTBASE\n",
    "\n",
    "all_files = glob.glob(\"roll_data/*-swing-on-ball.csv\")\n",
    "\n",
    "df_balls = pd.concat((pd.read_csv(f) for f in all_files), ignore_index=True)\n",
    "\n",
    "all_files = glob.glob(\"roll_data/*-swing-on-strike.csv\")\n",
    "\n",
    "df_strikes = pd.concat((pd.read_csv(f) for f in all_files), ignore_index=True)"
   ]
  },
  {
   "cell_type": "code",
   "execution_count": 2,
   "metadata": {},
   "outputs": [],
   "source": [
    "def calc_vibes(df, prefix):\n",
    "    buoy = df[prefix + \"_buoyancy\"]# * df[prefix + \"_mul\"]\n",
    "    press = df[prefix + \"_pressurization\"]# * df[prefix + \"_mul\"]\n",
    "    cinn = df[prefix + \"_cinnamon\"]# * df[prefix + \"_mul\"]\n",
    "\n",
    "    freq = 6 + (buoy * 10).round()\n",
    "    phase = math.pi * ((2/freq) * dfc[\"day\"] + 0.5)\n",
    "    vibes = 0.5 * (press + cinn) * np.sin(phase) - (0.5 * press) + (0.5 * cinn)\n",
    "    return vibes\n",
    "\n",
    "def get_pitcher_mul(row):\n",
    "    pm = str(row[\"pitcher_mods\"])\n",
    "    ptm = str(row[\"pitching_team_mods\"])\n",
    "    mul = 1\n",
    "    if \"OVERPERFORMING\" in pm:\n",
    "        mul += 0.2\n",
    "    if \"OVERPERFORMING\" in ptm:\n",
    "        mul += 0.2\n",
    "    if \"UNDERPERFORMING\" in pm:\n",
    "        mul -= 0.2\n",
    "    if \"UNDERPERFORMING\" in ptm:\n",
    "        mul -= 0.2\n",
    "    if \"TRAVELING\" in ptm:\n",
    "        pass # traveling just doesn't do anything on pitchers?\n",
    "        # if not row[\"top_of_inning\"]:\n",
    "            #mul += 0.05\n",
    "    if \"HIGH_PRESSURE\" in ptm:\n",
    "        # i messed up baserunner_count lol, so it's a string\n",
    "        if row[\"weather\"] == 18 and str(row[\"baserunner_count\"]) != \"[]\":\n",
    "            mul += 0.25\n",
    "    if \"GROWTH\" in ptm:\n",
    "        #mul += min(0.05, 0.05 * (row[\"day\"] / 99))\n",
    "        pass # growth doesn't do anything on pitchers either\n",
    "    if \"SINKING_SHIP\" in ptm:\n",
    "        mul += (14 - row[\"pitching_team_roster_size\"]) * 0.01\n",
    "    if \"AFFINITY_FOR_CROWS\" in ptm and row[\"weather\"] == 11:\n",
    "        mul += 0.5\n",
    "    return mul\n",
    "\n",
    "def get_batter_mul(row):\n",
    "    bm = str(row[\"batter_mods\"])\n",
    "    btm = str(row[\"batting_team_mods\"])\n",
    "    ptm = str(row[\"pitching_team_mods\"])\n",
    "    mul = 1\n",
    "    if \"OVERPERFORMING\" in bm:\n",
    "        mul += 0.2\n",
    "    if \"OVERPERFORMING\" in btm:\n",
    "        mul += 0.2\n",
    "    if \"UNDERPERFORMING\" in bm:\n",
    "        mul -= 0.2\n",
    "    if \"UNDERPERFORMING\" in btm:\n",
    "        mul -= 0.2\n",
    "    if \"TRAVELING\" in btm:\n",
    "        if row[\"top_of_inning\"]:\n",
    "            # this doesn't seem to do anything if it's here or not here\n",
    "            mul += 0.05\n",
    "    if \"GROWTH\" in btm:\n",
    "        mul += min(0.05, 0.05 * (row[\"day\"] / 99))\n",
    "        pass\n",
    "    if \"HIGH_PRESSURE\" in btm:\n",
    "        if row[\"weather\"] == 18 and str(row[\"baserunner_count\"]) != \"[]\":\n",
    "            mul += 0.25\n",
    "    if \"SINKING_SHIP\" in btm:\n",
    "        mul += (14 - row[\"batting_team_roster_size\"]) * 0.01\n",
    "    if \"AFFINITY_FOR_CROWS\" in btm and row[\"weather\"] == 11:\n",
    "        mul += 0.5\n",
    "    if \"CHUNKY\" in bm:\n",
    "        # todo: handle, in peanuts weather\n",
    "        pass\n",
    "    if \"SMOOTH\" in bm:\n",
    "        # todo: handle, in peanuts weather\n",
    "        pass\n",
    "    if \"ON_FIRE\" in bm:\n",
    "        # todo: handle\n",
    "        pass\n",
    "    return mul"
   ]
  },
  {
   "cell_type": "code",
   "execution_count": 3,
   "metadata": {},
   "outputs": [],
   "source": [
    "# additions and corrections, global\n",
    "\n",
    "df_balls[\"batter_mul\"] = df_balls.apply(get_batter_mul, axis=1)\n",
    "df_balls[\"pitcher_mul\"] = df_balls.apply(get_pitcher_mul, axis=1)\n",
    "\n",
    "df_balls.loc[df_balls[\"pitcher_mods\"].astype(str).str.contains(\"SCATTERED\"),\"pitcher_vibes\"] = 0\n",
    "df_balls.loc[df_balls[\"batter_mods\"].astype(str).str.contains(\"SCATTERED\"),\"batter_vibes\"] = 0\n",
    "\n",
    "\n",
    "df_strikes[\"batter_mul\"] = df_strikes.apply(get_batter_mul, axis=1)\n",
    "df_strikes[\"pitcher_mul\"] = df_strikes.apply(get_pitcher_mul, axis=1)\n",
    "\n",
    "df_strikes.loc[df_strikes[\"pitcher_mods\"].astype(str).str.contains(\"SCATTERED\"),\"pitcher_vibes\"] = 0\n",
    "df_strikes.loc[df_strikes[\"batter_mods\"].astype(str).str.contains(\"SCATTERED\"),\"batter_vibes\"] = 0\n",
    "\n",
    "df_balls[\"ruth_scaled\"] = df_balls[\"pitcher_ruthlessness\"] * df_balls[\"pitcher_mul\"]\n",
    "df_balls[\"mox_scaled\"] = df_balls[\"batter_moxie\"] * df_balls[\"batter_mul\"]\n",
    "df_balls[\"path_scaled\"] = 1 - ((1 - df_balls[\"batter_patheticism\"]) * df_balls[\"batter_mul\"])\n",
    "df_balls[\"mox_path\"] = df_balls[\"mox_scaled\"] - df_balls[\"path_scaled\"]\n",
    "\n",
    "# df[df[\"pitcher_mul\"] != 1][[\"pitcher_mul\", \"pitcher_mods\", \"pitching_team_mods\"]].drop_duplicates()"
   ]
  },
  {
   "cell_type": "code",
   "execution_count": 4,
   "metadata": {},
   "outputs": [],
   "source": [
    "# df = df[(df[\"batting_team_hype\"] == 0) & (df['pitching_team_hype'] == 0)]\n",
    "\n",
    "# df_balls[\"ruth_vibes\"] = df_balls[\"ruth_scaled\"] * df_balls[\"pitcher_vibes\"]\n",
    "df_balls[\"ruth_vibes\"] = df_balls[\"ruth_scaled\"] * (1 + 0.2 * df_balls[\"pitcher_vibes\"])\n",
    "# df_balls[\"mox_vibes\"] = df_balls[\"mox_scaled\"] * df_balls[\"batter_vibes\"]\n",
    "df_balls[\"mox_vibes\"] = df_balls[\"mox_scaled\"] * (1 + 0.2 * df_balls[\"batter_vibes\"])\n",
    "df_balls[\"path_vibes\"] = 1 - ((1 - df_balls[\"path_scaled\"]) * (1 + 0.2 * df_balls[\"batter_vibes\"]))\n",
    "\n",
    "# beiju's idea\n",
    "df_balls[\"visc_filth\"] = df_balls[\"ballpark_viscosity\"] * df_balls[\"ballpark_filthiness\"]\n",
    "# # put in our \"best fit\" up here in the original df, just because\n",
    "# df['svc_best'] = 0.30 * df[\"ruth_scaled\"] + 0.20 * df[\"ballpark_forwardness\"] \\\n",
    "#                   + 0.06 * df[\"ruth_vibes\"] + 0.10 * df[\"musc_scaled\"]\n",
    "\n",
    "# kidror's idea\n",
    "df_balls[\"ruth_sq\"] = df_balls[\"ruth_vibes\"]**2\n",
    "df_balls[\"mox_sq\"] = df_balls[\"mox_vibes\"]**2\n",
    "df_balls[\"path_sq\"] = df_balls[\"path_scaled\"]**2 # not path_vibes\n",
    "df_balls[\"visc_sq\"] = df_balls[\"ballpark_viscosity\"]**2"
   ]
  },
  {
   "cell_type": "code",
   "execution_count": 5,
   "metadata": {},
   "outputs": [],
   "source": [
    "# df = df[df[\"batter_mods\"].isna() & df[\"pitcher_mods\"].isna()]\n",
    "\n",
    "# just look at swinging on balls first\n",
    "dfc = df_balls\n",
    "for exclude_mod in [\"OVERPERFORMING\", \"UNDERPERFORMING\", \"HIGH_PRESSURE\", \"GROWTH\",\n",
    "                    \"SINKING_SHIP\", \"TRAVELING\", \"AFFINITY_FOR_CROWS\", \"CHUNKY\", \"SMOOTH\", \"ON_FIRE\"]:\n",
    "# for exclude_mod in []:\n",
    "    dfc = dfc[~dfc[\"batter_mods\"].astype(str).str.contains(exclude_mod)]\n",
    "    dfc = dfc[~dfc[\"pitcher_mods\"].astype(str).str.contains(exclude_mod)]\n",
    "    dfc = dfc[~dfc[\"pitching_team_mods\"].astype(str).str.contains(exclude_mod)]\n",
    "    dfc = dfc[~dfc[\"batting_team_mods\"].astype(str).str.contains(exclude_mod)]\n",
    "\n",
    "for exclude_mod in [\"FLINCH\"]:\n",
    "    # exclude flinch situations entirely\n",
    "    dfc = dfc[~((dfc[\"batter_mods\"].astype(str).str.contains(exclude_mod)) & (dfc[\"strike_count\"] == 0))]"
   ]
  },
  {
   "cell_type": "code",
   "execution_count": 6,
   "metadata": {
    "pycharm": {
     "name": "#%%\n"
    },
    "scrolled": false
   },
   "outputs": [
    {
     "name": "stdout",
     "output_type": "stream",
     "text": [
      "55799\n",
      "33776\n"
     ]
    }
   ],
   "source": [
    "# print(list(df_balls.columns))\n",
    "print(len(df_balls))\n",
    "print(len(dfc))"
   ]
  },
  {
   "cell_type": "code",
   "execution_count": 7,
   "metadata": {},
   "outputs": [],
   "source": [
    "digest_list = [\"event_type\", \"roll\", \"batter_name\", \"pitcher_name\",\n",
    "               \"ruth_scaled\", \"pitcher_vibes\", \"musc_scaled\",\n",
    "               \"ballpark_forwardness\", \"game_id\", \"play_count\", \"svc_best\"]"
   ]
  },
  {
   "cell_type": "code",
   "execution_count": 181,
   "metadata": {
    "pycharm": {
     "name": "#%%\n"
    },
    "scrolled": false
   },
   "outputs": [
    {
     "data": {
      "text/plain": [
       "<matplotlib.legend.Legend at 0x7fdb60eb14f0>"
      ]
     },
     "execution_count": 181,
     "metadata": {},
     "output_type": "execute_result"
    },
    {
     "data": {
      "image/png": "[encoded data removed]",
      "text/plain": [
       "<Figure size 720x720 with 1 Axes>"
      ]
     },
     "metadata": {
      "needs_background": "light"
     },
     "output_type": "display_data"
    }
   ],
   "source": [
    "# x_val = \"ruth_vibes\"\n",
    "x_val = \"svc\"\n",
    "fig, ax = plt.subplots(1, figsize=(10,10))\n",
    "\n",
    "ax.scatter(dfc[dfc['passed']][x_val], dfc[dfc['passed']][\"roll\"], color=\"blue\", label=\"Swing\", marker=CARETRIGHTBASE)\n",
    "ax.scatter(dfc[~dfc['passed']][x_val], dfc[~dfc['passed']][\"roll\"], color=\"red\", label=\"No Swing\", marker=CARETLEFTBASE)\n",
    "\n",
    "# xline = np.array(ax.get_xlim())\n",
    "# yline = -intercept_scaled + xline\n",
    "# # yline = -0.2 + xline\n",
    "# ax.plot(xline, yline, 'k')\n",
    "\n",
    "ax.set_xlabel(x_val)\n",
    "ax.set_ylabel('roll')\n",
    "ax.set_ylim(0, 1)\n",
    "# ax.set_xlim(0.484, 0.499)\n",
    "\n",
    "ax.legend()\n",
    "\n",
    "# fig.savefig(x_val+\".png\", facecolor='white')"
   ]
  },
  {
   "cell_type": "code",
   "execution_count": 9,
   "metadata": {},
   "outputs": [
    {
     "data": {
      "text/plain": [
       "0.9492693003761858"
      ]
     },
     "execution_count": 9,
     "metadata": {},
     "output_type": "execute_result"
    }
   ],
   "source": [
    "dfc[dfc[\"passed\"] == True][\"roll\"].max()"
   ]
  },
  {
   "cell_type": "code",
   "execution_count": 10,
   "metadata": {},
   "outputs": [
    {
     "data": {
      "text/plain": [
       "0.0022923664988039"
      ]
     },
     "execution_count": 10,
     "metadata": {},
     "output_type": "execute_result"
    }
   ],
   "source": [
    "dfc[dfc[\"passed\"] == False][\"roll\"].min()"
   ]
  },
  {
   "cell_type": "code",
   "execution_count": 11,
   "metadata": {},
   "outputs": [
    {
     "data": {
      "text/plain": [
       "28806"
      ]
     },
     "execution_count": 11,
     "metadata": {},
     "output_type": "execute_result"
    }
   ],
   "source": [
    "# max for swings seems to be 0.95 so remove rolls above that\n",
    "dfc = dfc[dfc['roll'] < 0.95]\n",
    "# weird \"cutoff\" at 0.1 (though you can take pitches below this!) so remove rolls below that\n",
    "dfc = dfc[dfc['roll'] > 0.1]\n",
    "len(dfc)"
   ]
  },
  {
   "cell_type": "code",
   "execution_count": 12,
   "metadata": {
    "pycharm": {
     "name": "#%%\n"
    }
   },
   "outputs": [
    {
     "data": {
      "text/html": [
       "<div>\n",
       "<style scoped>\n",
       "    .dataframe tbody tr th:only-of-type {\n",
       "        vertical-align: middle;\n",
       "    }\n",
       "\n",
       "    .dataframe tbody tr th {\n",
       "        vertical-align: top;\n",
       "    }\n",
       "\n",
       "    .dataframe thead th {\n",
       "        text-align: right;\n",
       "    }\n",
       "</style>\n",
       "<table border=\"1\" class=\"dataframe\">\n",
       "  <thead>\n",
       "    <tr style=\"text-align: right;\">\n",
       "      <th></th>\n",
       "      <th>batter_mul</th>\n",
       "      <th>batter_name</th>\n",
       "    </tr>\n",
       "  </thead>\n",
       "  <tbody>\n",
       "    <tr>\n",
       "      <th>0</th>\n",
       "      <td>1.0</td>\n",
       "      <td>Farrell Seagull</td>\n",
       "    </tr>\n",
       "  </tbody>\n",
       "</table>\n",
       "</div>"
      ],
      "text/plain": [
       "   batter_mul      batter_name\n",
       "0         1.0  Farrell Seagull"
      ]
     },
     "execution_count": 12,
     "metadata": {},
     "output_type": "execute_result"
    }
   ],
   "source": [
    "dfc.groupby('batter_mul').head(1)[['batter_mul', 'batter_name']].sort_values(\n",
    "    'batter_mul', ascending=False)[0:10]\n"
   ]
  },
  {
   "cell_type": "code",
   "execution_count": 13,
   "metadata": {
    "pycharm": {
     "name": "#%%\n"
    },
    "scrolled": false
   },
   "outputs": [
    {
     "name": "stdout",
     "output_type": "stream",
     "text": [
      "['Unnamed: 0', 'event_type', 'roll', 'passed', 'batter_buoyancy', 'batter_divinity', 'batter_martyrdom', 'batter_moxie', 'batter_musclitude', 'batter_patheticism', 'batter_thwackability', 'batter_tragicness', 'batter_coldness', 'batter_overpowerment', 'batter_ruthlessness', 'batter_shakespearianism', 'batter_suppression', 'batter_unthwackability', 'batter_base_thirst', 'batter_continuation', 'batter_ground_friction', 'batter_indulgence', 'batter_laserlikeness', 'batter_anticapitalism', 'batter_chasiness', 'batter_omniscience', 'batter_tenaciousness', 'batter_watchfulness', 'batter_pressurization', 'batter_cinnamon', 'batter_multiplier', 'pitcher_buoyancy', 'pitcher_divinity', 'pitcher_martyrdom', 'pitcher_moxie', 'pitcher_musclitude', 'pitcher_patheticism', 'pitcher_thwackability', 'pitcher_tragicness', 'pitcher_ruthlessness', 'pitcher_overpowerment', 'pitcher_unthwackability', 'pitcher_shakespearianism', 'pitcher_suppression', 'pitcher_coldness', 'pitcher_base_thirst', 'pitcher_continuation', 'pitcher_ground_friction', 'pitcher_indulgence', 'pitcher_laserlikeness', 'pitcher_anticapitalism', 'pitcher_chasiness', 'pitcher_omniscience', 'pitcher_tenaciousness', 'pitcher_watchfulness', 'pitcher_pressurization', 'pitcher_cinnamon', 'pitcher_multiplier', 'defense_avg_anticapitalism', 'defense_avg_chasiness', 'defense_avg_omniscience', 'defense_avg_tenaciousness', 'defense_avg_watchfulness', 'ballpark_grandiosity', 'ballpark_fortification', 'ballpark_obtuseness', 'ballpark_ominousness', 'ballpark_inconvenience', 'ballpark_viscosity', 'ballpark_forwardness', 'ballpark_mysticism', 'ballpark_elongation', 'ballpark_filthiness', 'what1', 'what2', 'batting_team_hype', 'pitching_team_hype', 'batter_name', 'pitcher_name', 'batter_vibes', 'batter_vibes_multiplied', 'pitcher_vibes', 'pitcher_vibes_multiplied', 'batter_mods', 'batting_team_mods', 'pitcher_mods', 'pitching_team_mods', 'game_id', 'stadium_id', 'play_count', 'weather', 'ball_count', 'strike_count', 'season', 'day', 'top_of_inning', 'home_score', 'away_score', 'inning', 'batting_team_roster_size', 'pitching_team_roster_size', 'baserunner_count', 'batter_mul', 'pitcher_mul', 'ruth_scaled', 'mox_scaled', 'path_scaled', 'mox_path', 'ruth_vibes', 'mox_vibes', 'path_vibes', 'visc_filth', 'ruth_sq', 'mox_sq', 'path_sq', 'visc_sq']\n"
     ]
    }
   ],
   "source": [
    "print(list(df_balls.columns))"
   ]
  },
  {
   "cell_type": "code",
   "execution_count": 149,
   "metadata": {
    "pycharm": {
     "name": "#%%\n"
    }
   },
   "outputs": [],
   "source": [
    "# X = dfc[['roll', *dfc.columns[5:-11]]].drop('pitcher_name', axis=1).drop('batter_mods', axis=1)\\\n",
    "#     .drop('batting_team_mods', axis=1).drop('pitching_team_mods', axis=1).drop('pitcher_mods', axis=1)\\\n",
    "#     .drop('batter_vibes', axis=1).drop('pitcher_vibes', axis=1)\\\n",
    "#     .drop('batter_multiplier', axis=1).drop('pitcher_multiplier', axis=1)\n",
    "# X = dfc[['roll', 'pitcher_ruthlessness', 'ballpark_forwardness', 'pitcher_vibes_multiplied', 'batter_musclitude']]\n",
    "\n",
    "# X = dfc[['roll', *dfc.columns[4:-42], 'batter_vibes', 'pitcher_vibes']]\\\n",
    "#     .drop('batter_multiplier', axis=1).drop('pitcher_multiplier', axis=1)\n",
    "# X = dfc[['roll', 'ruth_vibes', 'path_vibes', 'mox_vibes', 'ballpark_viscosity']]#, 'mox_path', 'visc_filth']]\n",
    "# X = dfc[['passed', 'roll', 'ruth_scaled', 'ballpark_forwardness', 'ruth_vibes', 'musc_scaled', 'flinch']]\n",
    "# X = X[X['roll'] < 0.85]\n",
    "X = dfc[['roll', 'ruth_vibes', 'mox_vibes', 'path_scaled', 'ballpark_viscosity']]\n",
    "# X = dfc[['roll', 'pitcher_ruthlessness', 'ballpark_forwardness']]\n",
    "# X = dfc[['roll', 'pitcher_ruthlessness']]\n",
    "y = dfc['passed']\n",
    "# X = X.drop('passed', axis=1)"
   ]
  },
  {
   "cell_type": "code",
   "execution_count": 150,
   "metadata": {
    "pycharm": {
     "name": "#%%\n"
    }
   },
   "outputs": [
    {
     "data": {
      "text/html": [
       "<div>\n",
       "<style scoped>\n",
       "    .dataframe tbody tr th:only-of-type {\n",
       "        vertical-align: middle;\n",
       "    }\n",
       "\n",
       "    .dataframe tbody tr th {\n",
       "        vertical-align: top;\n",
       "    }\n",
       "\n",
       "    .dataframe thead th {\n",
       "        text-align: right;\n",
       "    }\n",
       "</style>\n",
       "<table border=\"1\" class=\"dataframe\">\n",
       "  <thead>\n",
       "    <tr style=\"text-align: right;\">\n",
       "      <th></th>\n",
       "      <th>roll</th>\n",
       "      <th>ruth_vibes</th>\n",
       "      <th>mox_vibes</th>\n",
       "      <th>path_scaled</th>\n",
       "      <th>ballpark_viscosity</th>\n",
       "    </tr>\n",
       "  </thead>\n",
       "  <tbody>\n",
       "    <tr>\n",
       "      <th>0</th>\n",
       "      <td>0.134451</td>\n",
       "      <td>0.786526</td>\n",
       "      <td>1.011165</td>\n",
       "      <td>0.001000</td>\n",
       "      <td>0.263230</td>\n",
       "    </tr>\n",
       "    <tr>\n",
       "      <th>6</th>\n",
       "      <td>0.679864</td>\n",
       "      <td>0.786526</td>\n",
       "      <td>1.011165</td>\n",
       "      <td>0.001000</td>\n",
       "      <td>0.263230</td>\n",
       "    </tr>\n",
       "    <tr>\n",
       "      <th>8</th>\n",
       "      <td>0.614558</td>\n",
       "      <td>0.377605</td>\n",
       "      <td>0.404359</td>\n",
       "      <td>0.743872</td>\n",
       "      <td>0.481398</td>\n",
       "    </tr>\n",
       "    <tr>\n",
       "      <th>9</th>\n",
       "      <td>0.681459</td>\n",
       "      <td>0.786526</td>\n",
       "      <td>1.011165</td>\n",
       "      <td>0.001000</td>\n",
       "      <td>0.263230</td>\n",
       "    </tr>\n",
       "    <tr>\n",
       "      <th>10</th>\n",
       "      <td>0.185785</td>\n",
       "      <td>0.999588</td>\n",
       "      <td>0.789592</td>\n",
       "      <td>0.280326</td>\n",
       "      <td>0.432771</td>\n",
       "    </tr>\n",
       "    <tr>\n",
       "      <th>...</th>\n",
       "      <td>...</td>\n",
       "      <td>...</td>\n",
       "      <td>...</td>\n",
       "      <td>...</td>\n",
       "      <td>...</td>\n",
       "    </tr>\n",
       "    <tr>\n",
       "      <th>55792</th>\n",
       "      <td>0.359999</td>\n",
       "      <td>0.483102</td>\n",
       "      <td>0.549733</td>\n",
       "      <td>0.652489</td>\n",
       "      <td>0.469763</td>\n",
       "    </tr>\n",
       "    <tr>\n",
       "      <th>55794</th>\n",
       "      <td>0.138031</td>\n",
       "      <td>0.722749</td>\n",
       "      <td>0.971521</td>\n",
       "      <td>0.215902</td>\n",
       "      <td>0.469763</td>\n",
       "    </tr>\n",
       "    <tr>\n",
       "      <th>55795</th>\n",
       "      <td>0.420596</td>\n",
       "      <td>0.722749</td>\n",
       "      <td>0.631829</td>\n",
       "      <td>0.365844</td>\n",
       "      <td>0.469763</td>\n",
       "    </tr>\n",
       "    <tr>\n",
       "      <th>55796</th>\n",
       "      <td>0.360856</td>\n",
       "      <td>0.722749</td>\n",
       "      <td>0.631829</td>\n",
       "      <td>0.365844</td>\n",
       "      <td>0.469763</td>\n",
       "    </tr>\n",
       "    <tr>\n",
       "      <th>55797</th>\n",
       "      <td>0.348061</td>\n",
       "      <td>0.722749</td>\n",
       "      <td>0.631829</td>\n",
       "      <td>0.365844</td>\n",
       "      <td>0.469763</td>\n",
       "    </tr>\n",
       "  </tbody>\n",
       "</table>\n",
       "<p>28806 rows × 5 columns</p>\n",
       "</div>"
      ],
      "text/plain": [
       "           roll  ruth_vibes  mox_vibes  path_scaled  ballpark_viscosity\n",
       "0      0.134451    0.786526   1.011165     0.001000            0.263230\n",
       "6      0.679864    0.786526   1.011165     0.001000            0.263230\n",
       "8      0.614558    0.377605   0.404359     0.743872            0.481398\n",
       "9      0.681459    0.786526   1.011165     0.001000            0.263230\n",
       "10     0.185785    0.999588   0.789592     0.280326            0.432771\n",
       "...         ...         ...        ...          ...                 ...\n",
       "55792  0.359999    0.483102   0.549733     0.652489            0.469763\n",
       "55794  0.138031    0.722749   0.971521     0.215902            0.469763\n",
       "55795  0.420596    0.722749   0.631829     0.365844            0.469763\n",
       "55796  0.360856    0.722749   0.631829     0.365844            0.469763\n",
       "55797  0.348061    0.722749   0.631829     0.365844            0.469763\n",
       "\n",
       "[28806 rows x 5 columns]"
      ]
     },
     "execution_count": 150,
     "metadata": {},
     "output_type": "execute_result"
    }
   ],
   "source": [
    "X"
   ]
  },
  {
   "cell_type": "code",
   "execution_count": 151,
   "metadata": {
    "pycharm": {
     "name": "#%%\n"
    }
   },
   "outputs": [
    {
     "name": "stdout",
     "output_type": "stream",
     "text": [
      "[[21689   156]\n",
      " [  163  6798]]\n",
      "              precision    recall  f1-score   support\n",
      "\n",
      "       False       0.99      0.99      0.99     21845\n",
      "        True       0.98      0.98      0.98      6961\n",
      "\n",
      "    accuracy                           0.99     28806\n",
      "   macro avg       0.99      0.98      0.98     28806\n",
      "weighted avg       0.99      0.99      0.99     28806\n",
      "\n"
     ]
    }
   ],
   "source": [
    "from sklearn.preprocessing import StandardScaler\n",
    "from sklearn.metrics import confusion_matrix\n",
    "from sklearn.metrics import classification_report\n",
    "from sklearn import svm\n",
    "\n",
    "# # trainedsvm = svm.SVC(kernel='linear').fit(X, y)\n",
    "# trainedsvm = svm.LinearSVC(dual=False, max_iter=100000).fit(X, y)\n",
    "# predictionsvm = trainedsvm.predict(X)\n",
    "# print(confusion_matrix(y,predictionsvm))\n",
    "# print(classification_report(y,predictionsvm))\n",
    "\n",
    "sc = StandardScaler()\n",
    "X2 = sc.fit_transform(X)\n",
    "\n",
    "trainedsvm = svm.LinearSVC(dual=False, max_iter=1000000, C=1000).fit(X2, y)\n",
    "predictionsvm = trainedsvm.predict(X2)\n",
    "print(confusion_matrix(y,predictionsvm))\n",
    "print(classification_report(y,predictionsvm))"
   ]
  },
  {
   "cell_type": "code",
   "execution_count": 152,
   "metadata": {
    "scrolled": true
   },
   "outputs": [
    {
     "data": {
      "text/plain": [
       "array([[-1.5884065 ,  2.50887193, -0.46285208,  1.11411963,  0.52955442]])"
      ]
     },
     "execution_count": 152,
     "metadata": {},
     "output_type": "execute_result"
    }
   ],
   "source": [
    "sc.inverse_transform(trainedsvm.coef_)"
   ]
  },
  {
   "cell_type": "code",
   "execution_count": 153,
   "metadata": {},
   "outputs": [
    {
     "data": {
      "text/plain": [
       "array([[-8.59649587,  6.47546584, -3.2330692 ,  2.63579099,  0.80381019]])"
      ]
     },
     "execution_count": 153,
     "metadata": {},
     "output_type": "execute_result"
    }
   ],
   "source": [
    "trainedsvm.coef_"
   ]
  },
  {
   "cell_type": "code",
   "execution_count": 154,
   "metadata": {},
   "outputs": [
    {
     "data": {
      "text/plain": [
       "array([0.24567241, 0.28560627, 0.34740219, 0.27844104, 0.10565704])"
      ]
     },
     "execution_count": 154,
     "metadata": {},
     "output_type": "execute_result"
    }
   ],
   "source": [
    "sc.scale_"
   ]
  },
  {
   "cell_type": "code",
   "execution_count": 155,
   "metadata": {
    "scrolled": true
   },
   "outputs": [
    {
     "data": {
      "text/plain": [
       "0.9889259182114837"
      ]
     },
     "execution_count": 155,
     "metadata": {},
     "output_type": "execute_result"
    }
   ],
   "source": [
    "trainedsvm.score(X2, y)"
   ]
  },
  {
   "cell_type": "code",
   "execution_count": 156,
   "metadata": {
    "pycharm": {
     "name": "#%%\n"
    }
   },
   "outputs": [],
   "source": [
    "coef = np.true_divide(trainedsvm.coef_,  sc.scale_)\n",
    "coef_scaled = coef / coef[0, 0]\n",
    "coef_list = coef_scaled.tolist()[0]"
   ]
  },
  {
   "cell_type": "code",
   "execution_count": 157,
   "metadata": {
    "pycharm": {
     "name": "#%%\n"
    },
    "scrolled": false
   },
   "outputs": [
    {
     "data": {
      "text/plain": [
       "[(1.0, 'roll'),\n",
       " (-0.6479450980725936, 'ruth_vibes'),\n",
       " (-0.27052826527620416, 'path_scaled'),\n",
       " (0.26596063725729213, 'mox_vibes'),\n",
       " (-0.21741524304153761, 'ballpark_viscosity')]"
      ]
     },
     "execution_count": 157,
     "metadata": {},
     "output_type": "execute_result"
    }
   ],
   "source": [
    "top6 = sorted(zip(coef_list, X.columns), key=lambda x: abs(x[0]), reverse=True)[0:6]\n",
    "sorted(zip(coef_list, X.columns), key=lambda x: abs(x[0]), reverse=True)#[0:6]"
   ]
  },
  {
   "cell_type": "code",
   "execution_count": 158,
   "metadata": {
    "pycharm": {
     "name": "#%%\n"
    }
   },
   "outputs": [
    {
     "data": {
      "text/plain": [
       "array([0.17589539])"
      ]
     },
     "execution_count": 158,
     "metadata": {},
     "output_type": "execute_result"
    }
   ],
   "source": [
    "intercept = trainedsvm.intercept_ - np.dot(coef, sc.mean_)\n",
    "intercept_scaled = intercept / coef[0, 0]\n",
    "intercept_scaled"
   ]
  },
  {
   "cell_type": "code",
   "execution_count": 159,
   "metadata": {},
   "outputs": [
    {
     "data": {
      "text/plain": [
       "Index(['roll', 'ruth_vibes', 'mox_vibes', 'path_scaled', 'ballpark_viscosity'], dtype='object')"
      ]
     },
     "execution_count": 159,
     "metadata": {},
     "output_type": "execute_result"
    }
   ],
   "source": [
    "# factors = []\n",
    "# for factor in top6:\n",
    "#     factors.append(factor[1])\n",
    "# factors\n",
    "X.columns"
   ]
  },
  {
   "cell_type": "code",
   "execution_count": 160,
   "metadata": {},
   "outputs": [],
   "source": [
    "dfc[\"svc\"] = -1*(\\\n",
    "    coef_scaled[0,1] * dfc[\"ruth_vibes\"] + \\\n",
    "    coef_scaled[0,2] * dfc[\"mox_vibes\"] + \\\n",
    "    coef_scaled[0,3] * dfc[\"path_scaled\"] + \\\n",
    "    coef_scaled[0,4] * dfc[\"ballpark_viscosity\"])\n",
    "# dfc[\"svc\"] = \\\n",
    "#     0.5 * dfc[\"ruth_vibes\"] + \\\n",
    "#     -0.25 * dfc[\"mox_vibes\"] + \\\n",
    "#     0.25 * dfc[\"path_scaled\"] + \\\n",
    "#     0.2 * dfc[\"ballpark_viscosity\"] + \\\n",
    "#     0.10 * dfc[\"ruth_sq\"]"
   ]
  },
  {
   "cell_type": "code",
   "execution_count": 161,
   "metadata": {
    "scrolled": false
   },
   "outputs": [
    {
     "name": "stdout",
     "output_type": "stream",
     "text": [
      "319\n"
     ]
    },
    {
     "data": {
      "image/png": "[encoded data removed]",
      "text/plain": [
       "<Figure size 720x720 with 1 Axes>"
      ]
     },
     "metadata": {
      "needs_background": "light"
     },
     "output_type": "display_data"
    }
   ],
   "source": [
    "# dfc[\"threshold\"] = -1*(\\\n",
    "#     1.00 * 0.175 + \\\n",
    "#     -0.65 * dfc[\"ruth_vibes\"] + \\\n",
    "#     -0.27 * dfc[\"path_scaled\"] + \\\n",
    "#     0.27 * dfc[\"mox_scaled\"] + \\\n",
    "#     -0.20 * dfc[\"ballpark_viscosity\"] + \\\n",
    "#     0.04 * dfc[\"mox_vibes\"] + \\\n",
    "#     0.008 * dfc[\"path_vibes\"])\n",
    "# dfc[\"threshold\"] = -1 * (\\\n",
    "#     coef_scaled[0,0] * intercept_scaled + \\\n",
    "#     coef_scaled[0,1] * dfc[\"ruth_vibes\"] + \\\n",
    "#     coef_scaled[0,2] * dfc[\"mox_vibes\"] + \\\n",
    "#     coef_scaled[0,3] * dfc[\"path_scaled\"] + \\\n",
    "#     coef_scaled[0,4] * dfc[\"ballpark_viscosity\"])\n",
    "# dfc[\"threshold\"] = dfc[\"svc\"] - 0.125\n",
    "dfc[\"threshold\"] = dfc[\"svc\"] - intercept_scaled\n",
    "# dfc.loc[(dfc[\"threshold\"] > 0.95), \"threshold\"] = 0.95\n",
    "\n",
    "\n",
    "dfc[\"offset\"] = dfc[\"roll\"] - dfc[\"threshold\"]\n",
    "\n",
    "outliers = dfc.copy()[(dfc[\"passed\"] & (dfc[\"offset\"] > 0)) | (~dfc[\"passed\"] & (dfc[\"offset\"] < 0))]\n",
    "print(len(outliers))\n",
    "\n",
    "fig, ax = plt.subplots(1)\n",
    "fig.set_size_inches(10, 10)\n",
    "x_val = \"svc\"\n",
    "ax.scatter(outliers[~outliers['passed']][x_val], outliers[~outliers['passed']][\"offset\"], color=\"red\", label=\"No Swing\")\n",
    "ax.scatter(outliers[outliers['passed']][x_val], outliers[outliers['passed']][\"offset\"], color=\"blue\", label=\"Swing\")\n",
    "ax.set_xlabel(x_val)\n",
    "ax.set_ylabel('offset')\n",
    "ax.grid()\n",
    "ax.legend()\n",
    "# ax.set_xlim(0, 1.4)\n",
    "# ax.set_xlim(0.1, 0.7)\n",
    "# ax.set_ylim(-0.06, 0.08)\n",
    "fig.savefig(\"swing_fit_outliers.png\", facecolor='white')"
   ]
  },
  {
   "cell_type": "code",
   "execution_count": 162,
   "metadata": {},
   "outputs": [
    {
     "data": {
      "text/html": [
       "<div>\n",
       "<style scoped>\n",
       "    .dataframe tbody tr th:only-of-type {\n",
       "        vertical-align: middle;\n",
       "    }\n",
       "\n",
       "    .dataframe tbody tr th {\n",
       "        vertical-align: top;\n",
       "    }\n",
       "\n",
       "    .dataframe thead th {\n",
       "        text-align: right;\n",
       "    }\n",
       "</style>\n",
       "<table border=\"1\" class=\"dataframe\">\n",
       "  <thead>\n",
       "    <tr style=\"text-align: right;\">\n",
       "      <th></th>\n",
       "      <th>event_type</th>\n",
       "      <th>roll</th>\n",
       "      <th>threshold</th>\n",
       "      <th>offset</th>\n",
       "      <th>batter_name</th>\n",
       "      <th>pitcher_name</th>\n",
       "      <th>game_id</th>\n",
       "      <th>play_count</th>\n",
       "      <th>batter_mods</th>\n",
       "    </tr>\n",
       "  </thead>\n",
       "  <tbody>\n",
       "    <tr>\n",
       "      <th>34695</th>\n",
       "      <td>Foul</td>\n",
       "      <td>0.945735</td>\n",
       "      <td>0.870637</td>\n",
       "      <td>0.075098</td>\n",
       "      <td>Bottles Suljak</td>\n",
       "      <td>Gabriel Griffith</td>\n",
       "      <td>38833ce8-b9fe-48a8-b2ad-d933cd3e5b95</td>\n",
       "      <td>370</td>\n",
       "      <td>NaN</td>\n",
       "    </tr>\n",
       "    <tr>\n",
       "      <th>15509</th>\n",
       "      <td>BaseHit</td>\n",
       "      <td>0.949269</td>\n",
       "      <td>0.880624</td>\n",
       "      <td>0.068645</td>\n",
       "      <td>Stephens Lightner</td>\n",
       "      <td>Sixpack Santiago</td>\n",
       "      <td>42ed09cd-e346-485f-b03a-e53b203c607e</td>\n",
       "      <td>249</td>\n",
       "      <td>NaN</td>\n",
       "    </tr>\n",
       "    <tr>\n",
       "      <th>15004</th>\n",
       "      <td>StrikeSwinging</td>\n",
       "      <td>0.947536</td>\n",
       "      <td>0.890021</td>\n",
       "      <td>0.057514</td>\n",
       "      <td>Baldwin Breadwinner</td>\n",
       "      <td>Conrad Vaughan</td>\n",
       "      <td>42ed09cd-e346-485f-b03a-e53b203c607e</td>\n",
       "      <td>73</td>\n",
       "      <td>NaN</td>\n",
       "    </tr>\n",
       "    <tr>\n",
       "      <th>650</th>\n",
       "      <td>StrikeSwinging</td>\n",
       "      <td>0.870692</td>\n",
       "      <td>0.818181</td>\n",
       "      <td>0.052511</td>\n",
       "      <td>Jasper Blather</td>\n",
       "      <td>Hiroto Wilcox</td>\n",
       "      <td>8ac77e5c-fa21-4403-9b67-855d6a469e92</td>\n",
       "      <td>65</td>\n",
       "      <td>WANDERER</td>\n",
       "    </tr>\n",
       "    <tr>\n",
       "      <th>28543</th>\n",
       "      <td>StrikeSwinging</td>\n",
       "      <td>0.901037</td>\n",
       "      <td>0.849505</td>\n",
       "      <td>0.051532</td>\n",
       "      <td>Yurts Buttercup</td>\n",
       "      <td>Qais Dogwalker</td>\n",
       "      <td>10d4a29e-b724-49b9-bdb1-ce09f2392936</td>\n",
       "      <td>166</td>\n",
       "      <td>WIRED</td>\n",
       "    </tr>\n",
       "    <tr>\n",
       "      <th>...</th>\n",
       "      <td>...</td>\n",
       "      <td>...</td>\n",
       "      <td>...</td>\n",
       "      <td>...</td>\n",
       "      <td>...</td>\n",
       "      <td>...</td>\n",
       "      <td>...</td>\n",
       "      <td>...</td>\n",
       "      <td>...</td>\n",
       "    </tr>\n",
       "    <tr>\n",
       "      <th>14991</th>\n",
       "      <td>Ball</td>\n",
       "      <td>0.364281</td>\n",
       "      <td>0.376286</td>\n",
       "      <td>-0.012005</td>\n",
       "      <td>Morrow Wilson</td>\n",
       "      <td>Mullen Peterson</td>\n",
       "      <td>5ffd315d-53ba-4f1a-aa1a-e74c308fa6a3</td>\n",
       "      <td>66</td>\n",
       "      <td>NaN</td>\n",
       "    </tr>\n",
       "    <tr>\n",
       "      <th>53242</th>\n",
       "      <td>Ball</td>\n",
       "      <td>0.371599</td>\n",
       "      <td>0.383887</td>\n",
       "      <td>-0.012288</td>\n",
       "      <td>Rat Mason</td>\n",
       "      <td>Mummy Melcon</td>\n",
       "      <td>e6785009-d77a-444f-9056-85d56a7d85be</td>\n",
       "      <td>87</td>\n",
       "      <td>NaN</td>\n",
       "    </tr>\n",
       "    <tr>\n",
       "      <th>27113</th>\n",
       "      <td>Ball</td>\n",
       "      <td>0.351048</td>\n",
       "      <td>0.363428</td>\n",
       "      <td>-0.012380</td>\n",
       "      <td>Pedro Davids</td>\n",
       "      <td>Oscar Vaughan</td>\n",
       "      <td>6b62ad47-4a1a-4c98-b506-f5281705761d</td>\n",
       "      <td>288</td>\n",
       "      <td>FLINCH</td>\n",
       "    </tr>\n",
       "    <tr>\n",
       "      <th>8165</th>\n",
       "      <td>Ball</td>\n",
       "      <td>0.351633</td>\n",
       "      <td>0.364282</td>\n",
       "      <td>-0.012649</td>\n",
       "      <td>Elwin McGhee</td>\n",
       "      <td>Silvia Rugrat</td>\n",
       "      <td>61726359-ac29-4150-8997-417cb97a8015</td>\n",
       "      <td>26</td>\n",
       "      <td>NaN</td>\n",
       "    </tr>\n",
       "    <tr>\n",
       "      <th>32568</th>\n",
       "      <td>Ball</td>\n",
       "      <td>0.393157</td>\n",
       "      <td>0.407500</td>\n",
       "      <td>-0.014343</td>\n",
       "      <td>Stijn Strongbody</td>\n",
       "      <td>Rafael Davids</td>\n",
       "      <td>0578e432-ef18-4e09-b5fc-9b49b067645f</td>\n",
       "      <td>246</td>\n",
       "      <td>SWIM_BLADDER</td>\n",
       "    </tr>\n",
       "  </tbody>\n",
       "</table>\n",
       "<p>319 rows × 9 columns</p>\n",
       "</div>"
      ],
      "text/plain": [
       "           event_type      roll  threshold    offset          batter_name  \\\n",
       "34695            Foul  0.945735   0.870637  0.075098       Bottles Suljak   \n",
       "15509         BaseHit  0.949269   0.880624  0.068645    Stephens Lightner   \n",
       "15004  StrikeSwinging  0.947536   0.890021  0.057514  Baldwin Breadwinner   \n",
       "650    StrikeSwinging  0.870692   0.818181  0.052511       Jasper Blather   \n",
       "28543  StrikeSwinging  0.901037   0.849505  0.051532      Yurts Buttercup   \n",
       "...               ...       ...        ...       ...                  ...   \n",
       "14991            Ball  0.364281   0.376286 -0.012005        Morrow Wilson   \n",
       "53242            Ball  0.371599   0.383887 -0.012288            Rat Mason   \n",
       "27113            Ball  0.351048   0.363428 -0.012380         Pedro Davids   \n",
       "8165             Ball  0.351633   0.364282 -0.012649         Elwin McGhee   \n",
       "32568            Ball  0.393157   0.407500 -0.014343     Stijn Strongbody   \n",
       "\n",
       "           pitcher_name                               game_id  play_count  \\\n",
       "34695  Gabriel Griffith  38833ce8-b9fe-48a8-b2ad-d933cd3e5b95         370   \n",
       "15509  Sixpack Santiago  42ed09cd-e346-485f-b03a-e53b203c607e         249   \n",
       "15004    Conrad Vaughan  42ed09cd-e346-485f-b03a-e53b203c607e          73   \n",
       "650       Hiroto Wilcox  8ac77e5c-fa21-4403-9b67-855d6a469e92          65   \n",
       "28543    Qais Dogwalker  10d4a29e-b724-49b9-bdb1-ce09f2392936         166   \n",
       "...                 ...                                   ...         ...   \n",
       "14991   Mullen Peterson  5ffd315d-53ba-4f1a-aa1a-e74c308fa6a3          66   \n",
       "53242      Mummy Melcon  e6785009-d77a-444f-9056-85d56a7d85be          87   \n",
       "27113     Oscar Vaughan  6b62ad47-4a1a-4c98-b506-f5281705761d         288   \n",
       "8165      Silvia Rugrat  61726359-ac29-4150-8997-417cb97a8015          26   \n",
       "32568     Rafael Davids  0578e432-ef18-4e09-b5fc-9b49b067645f         246   \n",
       "\n",
       "        batter_mods  \n",
       "34695           NaN  \n",
       "15509           NaN  \n",
       "15004           NaN  \n",
       "650        WANDERER  \n",
       "28543         WIRED  \n",
       "...             ...  \n",
       "14991           NaN  \n",
       "53242           NaN  \n",
       "27113        FLINCH  \n",
       "8165            NaN  \n",
       "32568  SWIM_BLADDER  \n",
       "\n",
       "[319 rows x 9 columns]"
      ]
     },
     "execution_count": 162,
     "metadata": {},
     "output_type": "execute_result"
    }
   ],
   "source": [
    "col_list = ['event_type',\n",
    "            'roll',\n",
    "            'threshold',\n",
    "            'offset',\n",
    "            'batter_name',\n",
    "            'pitcher_name',\n",
    "            'game_id',\n",
    "            'play_count',\n",
    "             'batter_mods']\n",
    "outliers.sort_values('offset', ascending=False).loc[:, col_list]"
   ]
  },
  {
   "cell_type": "code",
   "execution_count": 163,
   "metadata": {},
   "outputs": [
    {
     "name": "stdout",
     "output_type": "stream",
     "text": [
      "[[21833    12]\n",
      " [   10  6951]]\n",
      "              precision    recall  f1-score   support\n",
      "\n",
      "       False       1.00      1.00      1.00     21845\n",
      "        True       1.00      1.00      1.00      6961\n",
      "\n",
      "    accuracy                           1.00     28806\n",
      "   macro avg       1.00      1.00      1.00     28806\n",
      "weighted avg       1.00      1.00      1.00     28806\n",
      "\n"
     ]
    }
   ],
   "source": [
    "# let's do *another svc* but polynomial this time\n",
    "Xp = dfc[['roll', 'svc']]\n",
    "\n",
    "scp = StandardScaler()\n",
    "Xp2 = scp.fit_transform(Xp)\n",
    "\n",
    "trainedsvm_p = svm.SVC(kernel='poly', degree=3, max_iter=1000000, C=1000).fit(Xp2, y)\n",
    "predictionsvm_p = trainedsvm_p.predict(Xp2)\n",
    "print(confusion_matrix(y,predictionsvm_p))\n",
    "print(classification_report(y,predictionsvm_p))"
   ]
  },
  {
   "cell_type": "code",
   "execution_count": 164,
   "metadata": {},
   "outputs": [
    {
     "data": {
      "text/plain": [
       "array([-38.09269388])"
      ]
     },
     "execution_count": 164,
     "metadata": {},
     "output_type": "execute_result"
    }
   ],
   "source": [
    "trainedsvm_p.intercept_"
   ]
  },
  {
   "cell_type": "code",
   "execution_count": 165,
   "metadata": {},
   "outputs": [],
   "source": [
    "swings = dfc[dfc['passed']]\n",
    "looks = dfc[~dfc['passed']]"
   ]
  },
  {
   "cell_type": "code",
   "execution_count": 166,
   "metadata": {},
   "outputs": [
    {
     "data": {
      "text/plain": [
       "<matplotlib.collections.PathCollection at 0x7fdb7331d850>"
      ]
     },
     "execution_count": 166,
     "metadata": {},
     "output_type": "execute_result"
    },
    {
     "data": {
      "image/png": "[encoded data removed]",
      "text/plain": [
       "<Figure size 432x288 with 1 Axes>"
      ]
     },
     "metadata": {
      "needs_background": "light"
     },
     "output_type": "display_data"
    }
   ],
   "source": [
    "plt.scatter(swings[x_val], swings[\"roll\"], color=\"blue\", label=\"Swing\", marker=CARETRIGHTBASE)\n",
    "# plt.plot(x, series_s(x),'k')"
   ]
  },
  {
   "cell_type": "code",
   "execution_count": 167,
   "metadata": {},
   "outputs": [
    {
     "data": {
      "text/plain": [
       "0.24333971572483798"
      ]
     },
     "execution_count": 167,
     "metadata": {},
     "output_type": "execute_result"
    }
   ],
   "source": [
    "swings['svc'].min()"
   ]
  },
  {
   "cell_type": "code",
   "execution_count": 168,
   "metadata": {},
   "outputs": [],
   "source": [
    "x = np.arange(0.24, 0.8, 0.01)\n",
    "y_s = np.zeros(x.shape)\n",
    "y_l = np.zeros(x.shape)\n",
    "for i, n in enumerate(x):\n",
    "    y_s[i] = swings[((swings['svc'] > n) & (swings['svc'] <= n + 0.01))]['roll'].max()\n",
    "    y_l[i] = looks[((looks['svc'] > n) & (looks['svc'] <= n + 0.01))]['roll'].min()"
   ]
  },
  {
   "cell_type": "code",
   "execution_count": 169,
   "metadata": {},
   "outputs": [
    {
     "data": {
      "text/plain": [
       "[<matplotlib.lines.Line2D at 0x7fdb1129e340>]"
      ]
     },
     "execution_count": 169,
     "metadata": {},
     "output_type": "execute_result"
    },
    {
     "data": {
      "image/png": "[encoded data removed]",
      "text/plain": [
       "<Figure size 432x288 with 1 Axes>"
      ]
     },
     "metadata": {
      "needs_background": "light"
     },
     "output_type": "display_data"
    }
   ],
   "source": [
    "plt.plot(x, y_s)\n",
    "plt.plot(x, y_l)"
   ]
  },
  {
   "cell_type": "code",
   "execution_count": 172,
   "metadata": {},
   "outputs": [],
   "source": [
    "from numpy.polynomial import Polynomial\n",
    "\n",
    "series_s = Polynomial.fit(x, y_s, 2)\n",
    "series_l = Polynomial.fit(x, y_l, 2)"
   ]
  },
  {
   "cell_type": "code",
   "execution_count": 173,
   "metadata": {},
   "outputs": [
    {
     "data": {
      "text/plain": [
       "array([0.33627811, 0.26748669, 0.03263712])"
      ]
     },
     "execution_count": 173,
     "metadata": {},
     "output_type": "execute_result"
    }
   ],
   "source": [
    "series_s.coef"
   ]
  },
  {
   "cell_type": "code",
   "execution_count": 174,
   "metadata": {},
   "outputs": [
    {
     "data": {
      "text/plain": [
       "array([0.33637156, 0.27015512, 0.03824312])"
      ]
     },
     "execution_count": 174,
     "metadata": {},
     "output_type": "execute_result"
    }
   ],
   "source": [
    "series_l.coef"
   ]
  },
  {
   "cell_type": "code",
   "execution_count": 176,
   "metadata": {},
   "outputs": [
    {
     "name": "stdout",
     "output_type": "stream",
     "text": [
      "0.3362781055919802 + 0.26748668796832564·x¹ + 0.032637124519916225·x²\n",
      "0.33637156480682756 + 0.2701551217009283·x¹ + 0.03824311761517129·x²\n"
     ]
    }
   ],
   "source": [
    "print(series_s)\n",
    "print(series_l)"
   ]
  },
  {
   "cell_type": "code",
   "execution_count": null,
   "metadata": {},
   "outputs": [],
   "source": []
  },
  {
   "cell_type": "code",
   "execution_count": null,
   "metadata": {},
   "outputs": [],
   "source": []
  }
 ],
 "metadata": {
  "kernelspec": {
   "display_name": "Python 3 (ipykernel)",
   "language": "python",
   "name": "python3"
  },
  "language_info": {
   "codemirror_mode": {
    "name": "ipython",
    "version": 3
   },
   "file_extension": ".py",
   "mimetype": "text/x-python",
   "name": "python",
   "nbconvert_exporter": "python",
   "pygments_lexer": "ipython3",
   "version": "3.9.12"
  }
 },
 "nbformat": 4,
 "nbformat_minor": 1
}
